{
 "cells": [
  {
   "cell_type": "markdown",
   "metadata": {},
   "source": [
    "## DEVARSHI CHAUHAN\n",
    "\n",
    "**<font color='red'> Data Exploration on DONORS CHOOSE Dataset </font>**\n",
    "\n",
    "Here,\n",
    "- NOTE: Resourse data(price and quantity) is murged with project_data to form new_project_data.  "
   ]
  },
  {
   "cell_type": "code",
   "execution_count": 149,
   "metadata": {
    "scrolled": false
   },
   "outputs": [
    {
     "name": "stdout",
     "output_type": "stream",
     "text": [
      "Project data:  (182080, 16)\n",
      "Resource data:  (1541272, 4)\n"
     ]
    },
    {
     "data": {
      "text/html": [
       "<div>\n",
       "<style scoped>\n",
       "    .dataframe tbody tr th:only-of-type {\n",
       "        vertical-align: middle;\n",
       "    }\n",
       "\n",
       "    .dataframe tbody tr th {\n",
       "        vertical-align: top;\n",
       "    }\n",
       "\n",
       "    .dataframe thead th {\n",
       "        text-align: right;\n",
       "    }\n",
       "</style>\n",
       "<table border=\"1\" class=\"dataframe\">\n",
       "  <thead>\n",
       "    <tr style=\"text-align: right;\">\n",
       "      <th></th>\n",
       "      <th>id</th>\n",
       "      <th>teacher_id</th>\n",
       "      <th>teacher_prefix</th>\n",
       "      <th>school_state</th>\n",
       "      <th>project_submitted_datetime</th>\n",
       "      <th>project_grade_category</th>\n",
       "      <th>project_subject_categories</th>\n",
       "      <th>project_subject_subcategories</th>\n",
       "      <th>project_title</th>\n",
       "      <th>project_essay_1</th>\n",
       "      <th>project_essay_2</th>\n",
       "      <th>project_essay_3</th>\n",
       "      <th>project_essay_4</th>\n",
       "      <th>project_resource_summary</th>\n",
       "      <th>teacher_number_of_previously_posted_projects</th>\n",
       "      <th>project_is_approved</th>\n",
       "    </tr>\n",
       "  </thead>\n",
       "  <tbody>\n",
       "    <tr>\n",
       "      <td>0</td>\n",
       "      <td>p036502</td>\n",
       "      <td>484aaf11257089a66cfedc9461c6bd0a</td>\n",
       "      <td>Ms.</td>\n",
       "      <td>NV</td>\n",
       "      <td>18-11-2016 14:45</td>\n",
       "      <td>Grades PreK-2</td>\n",
       "      <td>Literacy &amp; Language</td>\n",
       "      <td>Literacy</td>\n",
       "      <td>Super Sight Word Centers</td>\n",
       "      <td>Most of my kindergarten students come from low...</td>\n",
       "      <td>I currently have a differentiated sight word c...</td>\n",
       "      <td>NaN</td>\n",
       "      <td>NaN</td>\n",
       "      <td>My students need 6 Ipod Nano's to create and d...</td>\n",
       "      <td>26</td>\n",
       "      <td>1</td>\n",
       "    </tr>\n",
       "    <tr>\n",
       "      <td>1</td>\n",
       "      <td>p039565</td>\n",
       "      <td>df72a3ba8089423fa8a94be88060f6ed</td>\n",
       "      <td>Mrs.</td>\n",
       "      <td>GA</td>\n",
       "      <td>26-04-2017 15:57</td>\n",
       "      <td>Grades 3-5</td>\n",
       "      <td>Music &amp; The Arts, Health &amp; Sports</td>\n",
       "      <td>Performing Arts, Team Sports</td>\n",
       "      <td>Keep Calm and Dance On</td>\n",
       "      <td>Our elementary school is a culturally rich sch...</td>\n",
       "      <td>We strive to provide our diverse population of...</td>\n",
       "      <td>NaN</td>\n",
       "      <td>NaN</td>\n",
       "      <td>My students need matching shirts to wear for d...</td>\n",
       "      <td>1</td>\n",
       "      <td>0</td>\n",
       "    </tr>\n",
       "    <tr>\n",
       "      <td>2</td>\n",
       "      <td>p233823</td>\n",
       "      <td>a9b876a9252e08a55e3d894150f75ba3</td>\n",
       "      <td>Ms.</td>\n",
       "      <td>UT</td>\n",
       "      <td>01-01-2017 22:57</td>\n",
       "      <td>Grades 3-5</td>\n",
       "      <td>Math &amp; Science, Literacy &amp; Language</td>\n",
       "      <td>Applied Sciences, Literature &amp; Writing</td>\n",
       "      <td>Lets 3Doodle to Learn</td>\n",
       "      <td>Hello;\\r\\nMy name is Mrs. Brotherton. I teach ...</td>\n",
       "      <td>We are looking to add some 3Doodler to our cla...</td>\n",
       "      <td>NaN</td>\n",
       "      <td>NaN</td>\n",
       "      <td>My students need the 3doodler. We are an SEM s...</td>\n",
       "      <td>5</td>\n",
       "      <td>1</td>\n",
       "    </tr>\n",
       "    <tr>\n",
       "      <td>3</td>\n",
       "      <td>p185307</td>\n",
       "      <td>525fdbb6ec7f538a48beebaa0a51b24f</td>\n",
       "      <td>Mr.</td>\n",
       "      <td>NC</td>\n",
       "      <td>12-08-2016 15:42</td>\n",
       "      <td>Grades 3-5</td>\n",
       "      <td>Health &amp; Sports</td>\n",
       "      <td>Health &amp; Wellness</td>\n",
       "      <td>\\\"Kid Inspired\\\" Equipment to Increase Activit...</td>\n",
       "      <td>My students are the greatest students but are ...</td>\n",
       "      <td>The student's project which is totally \\\"kid-i...</td>\n",
       "      <td>NaN</td>\n",
       "      <td>NaN</td>\n",
       "      <td>My students need balls and other activity equi...</td>\n",
       "      <td>16</td>\n",
       "      <td>0</td>\n",
       "    </tr>\n",
       "    <tr>\n",
       "      <td>4</td>\n",
       "      <td>p013780</td>\n",
       "      <td>a63b5547a7239eae4c1872670848e61a</td>\n",
       "      <td>Mr.</td>\n",
       "      <td>CA</td>\n",
       "      <td>06-08-2016 09:09</td>\n",
       "      <td>Grades 6-8</td>\n",
       "      <td>Health &amp; Sports</td>\n",
       "      <td>Health &amp; Wellness</td>\n",
       "      <td>We need clean water for our culinary arts class!</td>\n",
       "      <td>My students are athletes and students who are ...</td>\n",
       "      <td>For some reason in our kitchen the water comes...</td>\n",
       "      <td>NaN</td>\n",
       "      <td>NaN</td>\n",
       "      <td>My students need a water filtration system for...</td>\n",
       "      <td>42</td>\n",
       "      <td>1</td>\n",
       "    </tr>\n",
       "  </tbody>\n",
       "</table>\n",
       "</div>"
      ],
      "text/plain": [
       "        id                        teacher_id teacher_prefix school_state  \\\n",
       "0  p036502  484aaf11257089a66cfedc9461c6bd0a            Ms.           NV   \n",
       "1  p039565  df72a3ba8089423fa8a94be88060f6ed           Mrs.           GA   \n",
       "2  p233823  a9b876a9252e08a55e3d894150f75ba3            Ms.           UT   \n",
       "3  p185307  525fdbb6ec7f538a48beebaa0a51b24f            Mr.           NC   \n",
       "4  p013780  a63b5547a7239eae4c1872670848e61a            Mr.           CA   \n",
       "\n",
       "  project_submitted_datetime project_grade_category  \\\n",
       "0           18-11-2016 14:45          Grades PreK-2   \n",
       "1           26-04-2017 15:57             Grades 3-5   \n",
       "2           01-01-2017 22:57             Grades 3-5   \n",
       "3           12-08-2016 15:42             Grades 3-5   \n",
       "4           06-08-2016 09:09             Grades 6-8   \n",
       "\n",
       "            project_subject_categories  \\\n",
       "0                  Literacy & Language   \n",
       "1    Music & The Arts, Health & Sports   \n",
       "2  Math & Science, Literacy & Language   \n",
       "3                      Health & Sports   \n",
       "4                      Health & Sports   \n",
       "\n",
       "            project_subject_subcategories  \\\n",
       "0                                Literacy   \n",
       "1            Performing Arts, Team Sports   \n",
       "2  Applied Sciences, Literature & Writing   \n",
       "3                       Health & Wellness   \n",
       "4                       Health & Wellness   \n",
       "\n",
       "                                       project_title  \\\n",
       "0                           Super Sight Word Centers   \n",
       "1                             Keep Calm and Dance On   \n",
       "2                              Lets 3Doodle to Learn   \n",
       "3  \\\"Kid Inspired\\\" Equipment to Increase Activit...   \n",
       "4   We need clean water for our culinary arts class!   \n",
       "\n",
       "                                     project_essay_1  \\\n",
       "0  Most of my kindergarten students come from low...   \n",
       "1  Our elementary school is a culturally rich sch...   \n",
       "2  Hello;\\r\\nMy name is Mrs. Brotherton. I teach ...   \n",
       "3  My students are the greatest students but are ...   \n",
       "4  My students are athletes and students who are ...   \n",
       "\n",
       "                                     project_essay_2 project_essay_3  \\\n",
       "0  I currently have a differentiated sight word c...             NaN   \n",
       "1  We strive to provide our diverse population of...             NaN   \n",
       "2  We are looking to add some 3Doodler to our cla...             NaN   \n",
       "3  The student's project which is totally \\\"kid-i...             NaN   \n",
       "4  For some reason in our kitchen the water comes...             NaN   \n",
       "\n",
       "  project_essay_4                           project_resource_summary  \\\n",
       "0             NaN  My students need 6 Ipod Nano's to create and d...   \n",
       "1             NaN  My students need matching shirts to wear for d...   \n",
       "2             NaN  My students need the 3doodler. We are an SEM s...   \n",
       "3             NaN  My students need balls and other activity equi...   \n",
       "4             NaN  My students need a water filtration system for...   \n",
       "\n",
       "   teacher_number_of_previously_posted_projects  project_is_approved  \n",
       "0                                            26                    1  \n",
       "1                                             1                    0  \n",
       "2                                             5                    1  \n",
       "3                                            16                    0  \n",
       "4                                            42                    1  "
      ]
     },
     "execution_count": 149,
     "metadata": {},
     "output_type": "execute_result"
    }
   ],
   "source": [
    "%matplotlib inline\n",
    "import warnings\n",
    "warnings.filterwarnings(\"ignore\")\n",
    "\n",
    "import sqlite3\n",
    "import pandas as pd\n",
    "import numpy as np\n",
    "import nltk\n",
    "import string\n",
    "import matplotlib.pyplot as plt\n",
    "import seaborn as sns\n",
    "from sklearn.feature_extraction.text import TfidfTransformer\n",
    "from sklearn.feature_extraction.text import TfidfVectorizer\n",
    "\n",
    "from sklearn.feature_extraction.text import CountVectorizer\n",
    "from sklearn.metrics import confusion_matrix\n",
    "from sklearn import metrics\n",
    "from sklearn.metrics import roc_curve, auc\n",
    "from nltk.stem.porter import PorterStemmer\n",
    "\n",
    "import re\n",
    "import string\n",
    "from nltk.corpus import stopwords\n",
    "from nltk.stem import PorterStemmer\n",
    "from nltk.stem.wordnet import WordNetLemmatizer\n",
    "\n",
    "from gensim.models import Word2Vec\n",
    "from gensim.models import KeyedVectors\n",
    "import pickle\n",
    "\n",
    "from tqdm import tqdm\n",
    "import os\n",
    "\n",
    "from collections import Counter\n",
    "\n",
    "#loading csv files\n",
    "\n",
    "project_data = pd.read_csv(r'donorschoose-application-screening\\train\\train.csv')\n",
    "resource_data = pd.read_csv(r'donorschoose-application-screening\\resources\\resources.csv')\n",
    "\n",
    "print('Project data: ',project_data.shape)\n",
    "print('Resource data: ',resource_data.shape)\n",
    "\n",
    "project_data.head()"
   ]
  },
  {
   "cell_type": "code",
   "execution_count": 150,
   "metadata": {},
   "outputs": [
    {
     "name": "stdout",
     "output_type": "stream",
     "text": [
      "        id    price  quantity\n",
      "0  p000001   459.56         7\n",
      "1  p000002   515.89        21\n",
      "2  p000003   298.97         4\n",
      "3  p000004  1113.69        98\n",
      "4  p000005   485.99         8\n",
      "(182080, 18)\n"
     ]
    },
    {
     "data": {
      "text/html": [
       "<div>\n",
       "<style scoped>\n",
       "    .dataframe tbody tr th:only-of-type {\n",
       "        vertical-align: middle;\n",
       "    }\n",
       "\n",
       "    .dataframe tbody tr th {\n",
       "        vertical-align: top;\n",
       "    }\n",
       "\n",
       "    .dataframe thead th {\n",
       "        text-align: right;\n",
       "    }\n",
       "</style>\n",
       "<table border=\"1\" class=\"dataframe\">\n",
       "  <thead>\n",
       "    <tr style=\"text-align: right;\">\n",
       "      <th></th>\n",
       "      <th>id</th>\n",
       "      <th>teacher_id</th>\n",
       "      <th>teacher_prefix</th>\n",
       "      <th>school_state</th>\n",
       "      <th>project_submitted_datetime</th>\n",
       "      <th>project_grade_category</th>\n",
       "      <th>project_subject_categories</th>\n",
       "      <th>project_subject_subcategories</th>\n",
       "      <th>project_title</th>\n",
       "      <th>project_essay_1</th>\n",
       "      <th>project_essay_2</th>\n",
       "      <th>project_essay_3</th>\n",
       "      <th>project_essay_4</th>\n",
       "      <th>project_resource_summary</th>\n",
       "      <th>teacher_number_of_previously_posted_projects</th>\n",
       "      <th>project_is_approved</th>\n",
       "      <th>price</th>\n",
       "      <th>quantity</th>\n",
       "    </tr>\n",
       "  </thead>\n",
       "  <tbody>\n",
       "    <tr>\n",
       "      <td>0</td>\n",
       "      <td>p036502</td>\n",
       "      <td>484aaf11257089a66cfedc9461c6bd0a</td>\n",
       "      <td>Ms.</td>\n",
       "      <td>NV</td>\n",
       "      <td>18-11-2016 14:45</td>\n",
       "      <td>Grades PreK-2</td>\n",
       "      <td>Literacy &amp; Language</td>\n",
       "      <td>Literacy</td>\n",
       "      <td>Super Sight Word Centers</td>\n",
       "      <td>Most of my kindergarten students come from low...</td>\n",
       "      <td>I currently have a differentiated sight word c...</td>\n",
       "      <td>NaN</td>\n",
       "      <td>NaN</td>\n",
       "      <td>My students need 6 Ipod Nano's to create and d...</td>\n",
       "      <td>26</td>\n",
       "      <td>1</td>\n",
       "      <td>299.98</td>\n",
       "      <td>6</td>\n",
       "    </tr>\n",
       "    <tr>\n",
       "      <td>1</td>\n",
       "      <td>p039565</td>\n",
       "      <td>df72a3ba8089423fa8a94be88060f6ed</td>\n",
       "      <td>Mrs.</td>\n",
       "      <td>GA</td>\n",
       "      <td>26-04-2017 15:57</td>\n",
       "      <td>Grades 3-5</td>\n",
       "      <td>Music &amp; The Arts, Health &amp; Sports</td>\n",
       "      <td>Performing Arts, Team Sports</td>\n",
       "      <td>Keep Calm and Dance On</td>\n",
       "      <td>Our elementary school is a culturally rich sch...</td>\n",
       "      <td>We strive to provide our diverse population of...</td>\n",
       "      <td>NaN</td>\n",
       "      <td>NaN</td>\n",
       "      <td>My students need matching shirts to wear for d...</td>\n",
       "      <td>1</td>\n",
       "      <td>0</td>\n",
       "      <td>20.00</td>\n",
       "      <td>20</td>\n",
       "    </tr>\n",
       "    <tr>\n",
       "      <td>2</td>\n",
       "      <td>p233823</td>\n",
       "      <td>a9b876a9252e08a55e3d894150f75ba3</td>\n",
       "      <td>Ms.</td>\n",
       "      <td>UT</td>\n",
       "      <td>01-01-2017 22:57</td>\n",
       "      <td>Grades 3-5</td>\n",
       "      <td>Math &amp; Science, Literacy &amp; Language</td>\n",
       "      <td>Applied Sciences, Literature &amp; Writing</td>\n",
       "      <td>Lets 3Doodle to Learn</td>\n",
       "      <td>Hello;\\r\\nMy name is Mrs. Brotherton. I teach ...</td>\n",
       "      <td>We are looking to add some 3Doodler to our cla...</td>\n",
       "      <td>NaN</td>\n",
       "      <td>NaN</td>\n",
       "      <td>My students need the 3doodler. We are an SEM s...</td>\n",
       "      <td>5</td>\n",
       "      <td>1</td>\n",
       "      <td>469.99</td>\n",
       "      <td>1</td>\n",
       "    </tr>\n",
       "    <tr>\n",
       "      <td>3</td>\n",
       "      <td>p185307</td>\n",
       "      <td>525fdbb6ec7f538a48beebaa0a51b24f</td>\n",
       "      <td>Mr.</td>\n",
       "      <td>NC</td>\n",
       "      <td>12-08-2016 15:42</td>\n",
       "      <td>Grades 3-5</td>\n",
       "      <td>Health &amp; Sports</td>\n",
       "      <td>Health &amp; Wellness</td>\n",
       "      <td>\\\"Kid Inspired\\\" Equipment to Increase Activit...</td>\n",
       "      <td>My students are the greatest students but are ...</td>\n",
       "      <td>The student's project which is totally \\\"kid-i...</td>\n",
       "      <td>NaN</td>\n",
       "      <td>NaN</td>\n",
       "      <td>My students need balls and other activity equi...</td>\n",
       "      <td>16</td>\n",
       "      <td>0</td>\n",
       "      <td>684.47</td>\n",
       "      <td>5</td>\n",
       "    </tr>\n",
       "    <tr>\n",
       "      <td>4</td>\n",
       "      <td>p013780</td>\n",
       "      <td>a63b5547a7239eae4c1872670848e61a</td>\n",
       "      <td>Mr.</td>\n",
       "      <td>CA</td>\n",
       "      <td>06-08-2016 09:09</td>\n",
       "      <td>Grades 6-8</td>\n",
       "      <td>Health &amp; Sports</td>\n",
       "      <td>Health &amp; Wellness</td>\n",
       "      <td>We need clean water for our culinary arts class!</td>\n",
       "      <td>My students are athletes and students who are ...</td>\n",
       "      <td>For some reason in our kitchen the water comes...</td>\n",
       "      <td>NaN</td>\n",
       "      <td>NaN</td>\n",
       "      <td>My students need a water filtration system for...</td>\n",
       "      <td>42</td>\n",
       "      <td>1</td>\n",
       "      <td>355.50</td>\n",
       "      <td>2</td>\n",
       "    </tr>\n",
       "  </tbody>\n",
       "</table>\n",
       "</div>"
      ],
      "text/plain": [
       "        id                        teacher_id teacher_prefix school_state  \\\n",
       "0  p036502  484aaf11257089a66cfedc9461c6bd0a            Ms.           NV   \n",
       "1  p039565  df72a3ba8089423fa8a94be88060f6ed           Mrs.           GA   \n",
       "2  p233823  a9b876a9252e08a55e3d894150f75ba3            Ms.           UT   \n",
       "3  p185307  525fdbb6ec7f538a48beebaa0a51b24f            Mr.           NC   \n",
       "4  p013780  a63b5547a7239eae4c1872670848e61a            Mr.           CA   \n",
       "\n",
       "  project_submitted_datetime project_grade_category  \\\n",
       "0           18-11-2016 14:45          Grades PreK-2   \n",
       "1           26-04-2017 15:57             Grades 3-5   \n",
       "2           01-01-2017 22:57             Grades 3-5   \n",
       "3           12-08-2016 15:42             Grades 3-5   \n",
       "4           06-08-2016 09:09             Grades 6-8   \n",
       "\n",
       "            project_subject_categories  \\\n",
       "0                  Literacy & Language   \n",
       "1    Music & The Arts, Health & Sports   \n",
       "2  Math & Science, Literacy & Language   \n",
       "3                      Health & Sports   \n",
       "4                      Health & Sports   \n",
       "\n",
       "            project_subject_subcategories  \\\n",
       "0                                Literacy   \n",
       "1            Performing Arts, Team Sports   \n",
       "2  Applied Sciences, Literature & Writing   \n",
       "3                       Health & Wellness   \n",
       "4                       Health & Wellness   \n",
       "\n",
       "                                       project_title  \\\n",
       "0                           Super Sight Word Centers   \n",
       "1                             Keep Calm and Dance On   \n",
       "2                              Lets 3Doodle to Learn   \n",
       "3  \\\"Kid Inspired\\\" Equipment to Increase Activit...   \n",
       "4   We need clean water for our culinary arts class!   \n",
       "\n",
       "                                     project_essay_1  \\\n",
       "0  Most of my kindergarten students come from low...   \n",
       "1  Our elementary school is a culturally rich sch...   \n",
       "2  Hello;\\r\\nMy name is Mrs. Brotherton. I teach ...   \n",
       "3  My students are the greatest students but are ...   \n",
       "4  My students are athletes and students who are ...   \n",
       "\n",
       "                                     project_essay_2 project_essay_3  \\\n",
       "0  I currently have a differentiated sight word c...             NaN   \n",
       "1  We strive to provide our diverse population of...             NaN   \n",
       "2  We are looking to add some 3Doodler to our cla...             NaN   \n",
       "3  The student's project which is totally \\\"kid-i...             NaN   \n",
       "4  For some reason in our kitchen the water comes...             NaN   \n",
       "\n",
       "  project_essay_4                           project_resource_summary  \\\n",
       "0             NaN  My students need 6 Ipod Nano's to create and d...   \n",
       "1             NaN  My students need matching shirts to wear for d...   \n",
       "2             NaN  My students need the 3doodler. We are an SEM s...   \n",
       "3             NaN  My students need balls and other activity equi...   \n",
       "4             NaN  My students need a water filtration system for...   \n",
       "\n",
       "   teacher_number_of_previously_posted_projects  project_is_approved   price  \\\n",
       "0                                            26                    1  299.98   \n",
       "1                                             1                    0   20.00   \n",
       "2                                             5                    1  469.99   \n",
       "3                                            16                    0  684.47   \n",
       "4                                            42                    1  355.50   \n",
       "\n",
       "   quantity  \n",
       "0         6  \n",
       "1        20  \n",
       "2         1  \n",
       "3         5  \n",
       "4         2  "
      ]
     },
     "execution_count": 150,
     "metadata": {},
     "output_type": "execute_result"
    }
   ],
   "source": [
    "# Mearging Price and Quantity column with new_project_data\n",
    "\n",
    "#https://datascience.stackexchange.com/questions/33053/how-do-i-compare-columns-in-different-data-frames\n",
    "price_df = resource_data.groupby('id').agg({'price':'sum', 'quantity':'sum'}).reset_index()\n",
    "print(price_df.head())\n",
    "\n",
    "new_project_data = pd.merge(project_data, price_df, on='id', how='left') # new_project_data\n",
    "print(new_project_data.shape)\n",
    "new_project_data.head()"
   ]
  },
  {
   "cell_type": "code",
   "execution_count": 151,
   "metadata": {
    "scrolled": false
   },
   "outputs": [
    {
     "data": {
      "text/html": [
       "<div>\n",
       "<style scoped>\n",
       "    .dataframe tbody tr th:only-of-type {\n",
       "        vertical-align: middle;\n",
       "    }\n",
       "\n",
       "    .dataframe tbody tr th {\n",
       "        vertical-align: top;\n",
       "    }\n",
       "\n",
       "    .dataframe thead th {\n",
       "        text-align: right;\n",
       "    }\n",
       "</style>\n",
       "<table border=\"1\" class=\"dataframe\">\n",
       "  <thead>\n",
       "    <tr style=\"text-align: right;\">\n",
       "      <th></th>\n",
       "      <th>id</th>\n",
       "      <th>teacher_id</th>\n",
       "      <th>teacher_prefix</th>\n",
       "      <th>school_state</th>\n",
       "      <th>project_submitted_datetime</th>\n",
       "      <th>project_grade_category</th>\n",
       "      <th>project_subject_categories</th>\n",
       "      <th>project_subject_subcategories</th>\n",
       "      <th>project_title</th>\n",
       "      <th>project_essay_1</th>\n",
       "      <th>project_essay_2</th>\n",
       "      <th>project_essay_3</th>\n",
       "      <th>project_essay_4</th>\n",
       "      <th>project_resource_summary</th>\n",
       "      <th>teacher_number_of_previously_posted_projects</th>\n",
       "      <th>project_is_approved</th>\n",
       "      <th>price</th>\n",
       "      <th>quantity</th>\n",
       "    </tr>\n",
       "  </thead>\n",
       "  <tbody>\n",
       "    <tr>\n",
       "      <td>35726</td>\n",
       "      <td>p014128</td>\n",
       "      <td>9a501a39da20f8d046ecc0ca7aa35f3c</td>\n",
       "      <td>Mrs.</td>\n",
       "      <td>NV</td>\n",
       "      <td>01-01-2017 00:10</td>\n",
       "      <td>Grades PreK-2</td>\n",
       "      <td>Math &amp; Science, Literacy &amp; Language</td>\n",
       "      <td>Health &amp; Life Science, Literacy</td>\n",
       "      <td>Books For Our Science Unit</td>\n",
       "      <td>My students come from backgrounds that are dif...</td>\n",
       "      <td>I am asking for books to help my students lear...</td>\n",
       "      <td>NaN</td>\n",
       "      <td>NaN</td>\n",
       "      <td>My students need books to read while we study ...</td>\n",
       "      <td>24</td>\n",
       "      <td>1</td>\n",
       "      <td>122.29</td>\n",
       "      <td>11</td>\n",
       "    </tr>\n",
       "    <tr>\n",
       "      <td>48187</td>\n",
       "      <td>p148328</td>\n",
       "      <td>d775b411b9739642cb156f69f67039b0</td>\n",
       "      <td>Mrs.</td>\n",
       "      <td>TX</td>\n",
       "      <td>01-01-2017 00:13</td>\n",
       "      <td>Grades PreK-2</td>\n",
       "      <td>Literacy &amp; Language, Math &amp; Science</td>\n",
       "      <td>Literacy, Mathematics</td>\n",
       "      <td>Success for Reading and Mathematics</td>\n",
       "      <td>I teach at a Title One school. I have 18 wonde...</td>\n",
       "      <td>Students will be able to use the manipulatives...</td>\n",
       "      <td>NaN</td>\n",
       "      <td>NaN</td>\n",
       "      <td>My students need manipulatives for mathematics...</td>\n",
       "      <td>3</td>\n",
       "      <td>0</td>\n",
       "      <td>163.97</td>\n",
       "      <td>13</td>\n",
       "    </tr>\n",
       "    <tr>\n",
       "      <td>69618</td>\n",
       "      <td>p019595</td>\n",
       "      <td>2c6bcedcb20c0ebdb7374f75ba190c39</td>\n",
       "      <td>Ms.</td>\n",
       "      <td>CA</td>\n",
       "      <td>01-01-2017 00:15</td>\n",
       "      <td>Grades 3-5</td>\n",
       "      <td>Literacy &amp; Language, Math &amp; Science</td>\n",
       "      <td>Literature &amp; Writing, Mathematics</td>\n",
       "      <td>Supplies needed for classroom</td>\n",
       "      <td>My students have disabilities and are low inco...</td>\n",
       "      <td>These supplies will help with my students ever...</td>\n",
       "      <td>NaN</td>\n",
       "      <td>NaN</td>\n",
       "      <td>My students need supplies such as pencils and ...</td>\n",
       "      <td>5</td>\n",
       "      <td>0</td>\n",
       "      <td>129.37</td>\n",
       "      <td>13</td>\n",
       "    </tr>\n",
       "    <tr>\n",
       "      <td>21004</td>\n",
       "      <td>p182965</td>\n",
       "      <td>75dbc13f200d39ca93fb1ee6fe0b07e5</td>\n",
       "      <td>Mrs.</td>\n",
       "      <td>CA</td>\n",
       "      <td>01-01-2017 00:17</td>\n",
       "      <td>Grades 3-5</td>\n",
       "      <td>Literacy &amp; Language, Music &amp; The Arts</td>\n",
       "      <td>Literacy, Visual Arts</td>\n",
       "      <td>\\\"Hats Off to Dr. Seuss\\\" \\r\\nReading + Rhymin...</td>\n",
       "      <td>My students love to hear a good story! Many of...</td>\n",
       "      <td>I love introducing my students to memorable ch...</td>\n",
       "      <td>NaN</td>\n",
       "      <td>NaN</td>\n",
       "      <td>My students need a variety of Dr. Seuss books,...</td>\n",
       "      <td>12</td>\n",
       "      <td>1</td>\n",
       "      <td>275.44</td>\n",
       "      <td>27</td>\n",
       "    </tr>\n",
       "    <tr>\n",
       "      <td>33048</td>\n",
       "      <td>p148212</td>\n",
       "      <td>2e1b073bfd61eabefba9c376236df02c</td>\n",
       "      <td>Ms.</td>\n",
       "      <td>WA</td>\n",
       "      <td>01-01-2017 00:32</td>\n",
       "      <td>Grades PreK-2</td>\n",
       "      <td>Applied Learning, Music &amp; The Arts</td>\n",
       "      <td>Early Development, Visual Arts</td>\n",
       "      <td>Get our Motors Running -- FINE MOTORS!</td>\n",
       "      <td>My students are an amazing group of 2nd grader...</td>\n",
       "      <td>Many of my 2nd graders cannot hold scissors, c...</td>\n",
       "      <td>NaN</td>\n",
       "      <td>NaN</td>\n",
       "      <td>My students need supplies to create works of a...</td>\n",
       "      <td>17</td>\n",
       "      <td>0</td>\n",
       "      <td>299.97</td>\n",
       "      <td>29</td>\n",
       "    </tr>\n",
       "  </tbody>\n",
       "</table>\n",
       "</div>"
      ],
      "text/plain": [
       "            id                        teacher_id teacher_prefix school_state  \\\n",
       "35726  p014128  9a501a39da20f8d046ecc0ca7aa35f3c           Mrs.           NV   \n",
       "48187  p148328  d775b411b9739642cb156f69f67039b0           Mrs.           TX   \n",
       "69618  p019595  2c6bcedcb20c0ebdb7374f75ba190c39            Ms.           CA   \n",
       "21004  p182965  75dbc13f200d39ca93fb1ee6fe0b07e5           Mrs.           CA   \n",
       "33048  p148212  2e1b073bfd61eabefba9c376236df02c            Ms.           WA   \n",
       "\n",
       "      project_submitted_datetime project_grade_category  \\\n",
       "35726           01-01-2017 00:10          Grades PreK-2   \n",
       "48187           01-01-2017 00:13          Grades PreK-2   \n",
       "69618           01-01-2017 00:15             Grades 3-5   \n",
       "21004           01-01-2017 00:17             Grades 3-5   \n",
       "33048           01-01-2017 00:32          Grades PreK-2   \n",
       "\n",
       "                  project_subject_categories  \\\n",
       "35726    Math & Science, Literacy & Language   \n",
       "48187    Literacy & Language, Math & Science   \n",
       "69618    Literacy & Language, Math & Science   \n",
       "21004  Literacy & Language, Music & The Arts   \n",
       "33048     Applied Learning, Music & The Arts   \n",
       "\n",
       "           project_subject_subcategories  \\\n",
       "35726    Health & Life Science, Literacy   \n",
       "48187              Literacy, Mathematics   \n",
       "69618  Literature & Writing, Mathematics   \n",
       "21004              Literacy, Visual Arts   \n",
       "33048     Early Development, Visual Arts   \n",
       "\n",
       "                                           project_title  \\\n",
       "35726                         Books For Our Science Unit   \n",
       "48187                Success for Reading and Mathematics   \n",
       "69618                      Supplies needed for classroom   \n",
       "21004  \\\"Hats Off to Dr. Seuss\\\" \\r\\nReading + Rhymin...   \n",
       "33048             Get our Motors Running -- FINE MOTORS!   \n",
       "\n",
       "                                         project_essay_1  \\\n",
       "35726  My students come from backgrounds that are dif...   \n",
       "48187  I teach at a Title One school. I have 18 wonde...   \n",
       "69618  My students have disabilities and are low inco...   \n",
       "21004  My students love to hear a good story! Many of...   \n",
       "33048  My students are an amazing group of 2nd grader...   \n",
       "\n",
       "                                         project_essay_2 project_essay_3  \\\n",
       "35726  I am asking for books to help my students lear...             NaN   \n",
       "48187  Students will be able to use the manipulatives...             NaN   \n",
       "69618  These supplies will help with my students ever...             NaN   \n",
       "21004  I love introducing my students to memorable ch...             NaN   \n",
       "33048  Many of my 2nd graders cannot hold scissors, c...             NaN   \n",
       "\n",
       "      project_essay_4                           project_resource_summary  \\\n",
       "35726             NaN  My students need books to read while we study ...   \n",
       "48187             NaN  My students need manipulatives for mathematics...   \n",
       "69618             NaN  My students need supplies such as pencils and ...   \n",
       "21004             NaN  My students need a variety of Dr. Seuss books,...   \n",
       "33048             NaN  My students need supplies to create works of a...   \n",
       "\n",
       "       teacher_number_of_previously_posted_projects  project_is_approved  \\\n",
       "35726                                            24                    1   \n",
       "48187                                             3                    0   \n",
       "69618                                             5                    0   \n",
       "21004                                            12                    1   \n",
       "33048                                            17                    0   \n",
       "\n",
       "        price  quantity  \n",
       "35726  122.29        11  \n",
       "48187  163.97        13  \n",
       "69618  129.37        13  \n",
       "21004  275.44        27  \n",
       "33048  299.97        29  "
      ]
     },
     "execution_count": 151,
     "metadata": {},
     "output_type": "execute_result"
    }
   ],
   "source": [
    "new_project_data.sort_values(by=['project_submitted_datetime'], inplace=True)\n",
    "new_project_data.head()"
   ]
  },
  {
   "cell_type": "code",
   "execution_count": 154,
   "metadata": {},
   "outputs": [
    {
     "data": {
      "text/html": [
       "<div>\n",
       "<style scoped>\n",
       "    .dataframe tbody tr th:only-of-type {\n",
       "        vertical-align: middle;\n",
       "    }\n",
       "\n",
       "    .dataframe tbody tr th {\n",
       "        vertical-align: top;\n",
       "    }\n",
       "\n",
       "    .dataframe thead th {\n",
       "        text-align: right;\n",
       "    }\n",
       "</style>\n",
       "<table border=\"1\" class=\"dataframe\">\n",
       "  <thead>\n",
       "    <tr style=\"text-align: right;\">\n",
       "      <th></th>\n",
       "      <th>teacher_number_of_previously_posted_projects</th>\n",
       "      <th>project_is_approved</th>\n",
       "      <th>price</th>\n",
       "      <th>quantity</th>\n",
       "    </tr>\n",
       "  </thead>\n",
       "  <tbody>\n",
       "    <tr>\n",
       "      <td>count</td>\n",
       "      <td>50000.000000</td>\n",
       "      <td>50000.000000</td>\n",
       "      <td>50000.000000</td>\n",
       "      <td>50000.000000</td>\n",
       "    </tr>\n",
       "    <tr>\n",
       "      <td>mean</td>\n",
       "      <td>11.165580</td>\n",
       "      <td>0.847700</td>\n",
       "      <td>296.086328</td>\n",
       "      <td>17.024220</td>\n",
       "    </tr>\n",
       "    <tr>\n",
       "      <td>std</td>\n",
       "      <td>27.940531</td>\n",
       "      <td>0.359315</td>\n",
       "      <td>367.937074</td>\n",
       "      <td>26.569976</td>\n",
       "    </tr>\n",
       "    <tr>\n",
       "      <td>min</td>\n",
       "      <td>0.000000</td>\n",
       "      <td>0.000000</td>\n",
       "      <td>0.900000</td>\n",
       "      <td>1.000000</td>\n",
       "    </tr>\n",
       "    <tr>\n",
       "      <td>25%</td>\n",
       "      <td>0.000000</td>\n",
       "      <td>1.000000</td>\n",
       "      <td>104.027500</td>\n",
       "      <td>4.000000</td>\n",
       "    </tr>\n",
       "    <tr>\n",
       "      <td>50%</td>\n",
       "      <td>2.000000</td>\n",
       "      <td>1.000000</td>\n",
       "      <td>203.430000</td>\n",
       "      <td>9.000000</td>\n",
       "    </tr>\n",
       "    <tr>\n",
       "      <td>75%</td>\n",
       "      <td>9.000000</td>\n",
       "      <td>1.000000</td>\n",
       "      <td>377.072500</td>\n",
       "      <td>21.000000</td>\n",
       "    </tr>\n",
       "    <tr>\n",
       "      <td>max</td>\n",
       "      <td>451.000000</td>\n",
       "      <td>1.000000</td>\n",
       "      <td>9999.000000</td>\n",
       "      <td>930.000000</td>\n",
       "    </tr>\n",
       "  </tbody>\n",
       "</table>\n",
       "</div>"
      ],
      "text/plain": [
       "       teacher_number_of_previously_posted_projects  project_is_approved  \\\n",
       "count                                  50000.000000         50000.000000   \n",
       "mean                                      11.165580             0.847700   \n",
       "std                                       27.940531             0.359315   \n",
       "min                                        0.000000             0.000000   \n",
       "25%                                        0.000000             1.000000   \n",
       "50%                                        2.000000             1.000000   \n",
       "75%                                        9.000000             1.000000   \n",
       "max                                      451.000000             1.000000   \n",
       "\n",
       "              price      quantity  \n",
       "count  50000.000000  50000.000000  \n",
       "mean     296.086328     17.024220  \n",
       "std      367.937074     26.569976  \n",
       "min        0.900000      1.000000  \n",
       "25%      104.027500      4.000000  \n",
       "50%      203.430000      9.000000  \n",
       "75%      377.072500     21.000000  \n",
       "max     9999.000000    930.000000  "
      ]
     },
     "execution_count": 154,
     "metadata": {},
     "output_type": "execute_result"
    }
   ],
   "source": [
    "# randomly selecting 50k points\n",
    "reduced_dataset = new_project_data.sample(n=50000)\n",
    "reduced_dataset.describe()"
   ]
  },
  {
   "cell_type": "markdown",
   "metadata": {},
   "source": [
    "## PROCESSING TEXT"
   ]
  },
  {
   "cell_type": "code",
   "execution_count": 155,
   "metadata": {},
   "outputs": [],
   "source": [
    "# https://stackoverflow.com/a/47091490/4084039\n",
    "import re\n",
    "\n",
    "\n",
    "def decontracted(phrase):\n",
    "    # specific\n",
    "    phrase = re.sub(r\"won't\", \"will not\", phrase)\n",
    "    phrase = re.sub(r\"can\\'t\", \"can not\", phrase)\n",
    "\n",
    "    # general\n",
    "    phrase = re.sub(r\"n\\'t\", \" not\", phrase)\n",
    "    phrase = re.sub(r\"\\'re\", \" are\", phrase)\n",
    "    phrase = re.sub(r\"\\'s\", \" is\", phrase)\n",
    "    phrase = re.sub(r\"\\'d\", \" would\", phrase)\n",
    "    phrase = re.sub(r\"\\'ll\", \" will\", phrase)\n",
    "    phrase = re.sub(r\"\\'t\", \" not\", phrase)\n",
    "    phrase = re.sub(r\"\\'ve\", \" have\", phrase)\n",
    "    phrase = re.sub(r\"\\'m\", \" am\", phrase)\n",
    "    \n",
    "    phrase = phrase.replace('\\\\r', ' ')    \n",
    "    phrase = phrase.replace('\\\\\"', ' ')    \n",
    "    phrase = phrase.replace('\\\\n', ' ')    \n",
    "    phrase = re.sub('[^A-Za-z0-9]+', ' ', phrase) \n",
    "    return phrase"
   ]
  },
  {
   "cell_type": "code",
   "execution_count": 156,
   "metadata": {},
   "outputs": [],
   "source": [
    "# https://gist.github.com/sebleier/554280\n",
    "# we are removing the words from the stop words list: 'no', 'nor', 'not'\n",
    "stopwords= ['i', 'me', 'my', 'myself', 'we', 'our', 'ours', 'ourselves', 'you', \"you're\", \"you've\",\\\n",
    "            \"you'll\", \"you'd\", 'your', 'yours', 'yourself', 'yourselves', 'he', 'him', 'his', 'himself', \\\n",
    "            'she', \"she's\", 'her', 'hers', 'herself', 'it', \"it's\", 'its', 'itself', 'they', 'them', 'their',\\\n",
    "            'theirs', 'themselves', 'what', 'which', 'who', 'whom', 'this', 'that', \"that'll\", 'these', 'those', \\\n",
    "            'am', 'is', 'are', 'was', 'were', 'be', 'been', 'being', 'have', 'has', 'had', 'having', 'do', 'does', \\\n",
    "            'did', 'doing', 'a', 'an', 'the', 'and', 'but', 'if', 'or', 'because', 'as', 'until', 'while', 'of', \\\n",
    "            'at', 'by', 'for', 'with', 'about', 'against', 'between', 'into', 'through', 'during', 'before', 'after',\\\n",
    "            'above', 'below', 'to', 'from', 'up', 'down', 'in', 'out', 'on', 'off', 'over', 'under', 'again', 'further',\\\n",
    "            'then', 'once', 'here', 'there', 'when', 'where', 'why', 'how', 'all', 'any', 'both', 'each', 'few', 'more',\\\n",
    "            'most', 'other', 'some', 'such', 'only', 'own', 'same', 'so', 'than', 'too', 'very', \\\n",
    "            's', 't', 'can', 'will', 'just', 'don', \"don't\", 'should', \"should've\", 'now', 'd', 'll', 'm', 'o', 're', \\\n",
    "            've', 'y', 'ain', 'aren', \"aren't\", 'couldn', \"couldn't\", 'didn', \"didn't\", 'doesn', \"doesn't\", 'hadn',\\\n",
    "            \"hadn't\", 'hasn', \"hasn't\", 'haven', \"haven't\", 'isn', \"isn't\", 'ma', 'mightn', \"mightn't\", 'mustn',\\\n",
    "            \"mustn't\", 'needn', \"needn't\", 'shan', \"shan't\", 'shouldn', \"shouldn't\", 'wasn', \"wasn't\", 'weren', \"weren't\", \\\n",
    "            'won', \"won't\", 'wouldn', \"wouldn't\"]"
   ]
  },
  {
   "cell_type": "markdown",
   "metadata": {},
   "source": [
    "### PREPROCESSING TITLE TEXT"
   ]
  },
  {
   "cell_type": "code",
   "execution_count": 157,
   "metadata": {},
   "outputs": [],
   "source": [
    "sent = decontracted(reduced_dataset['project_title'].values[5]) \n",
    "# \\r \\n \\t remove from string python: http://texthandler.com/info/remove-line-breaks-python/\n",
    "sent = sent.replace('\\\\r', ' ')\n",
    "sent = sent.replace('\\\\\"', ' ')\n",
    "sent = sent.replace('\\\\n', ' ')\n",
    "\n",
    "#remove spacial character: https://stackoverflow.com/a/5843547/4084039\n",
    "sent = re.sub('[^A-Za-z0-9]+', ' ', sent)"
   ]
  },
  {
   "cell_type": "markdown",
   "metadata": {},
   "source": [
    "### PREPROCESSING ESSAY TEXT"
   ]
  },
  {
   "cell_type": "code",
   "execution_count": 158,
   "metadata": {},
   "outputs": [
    {
     "data": {
      "text/html": [
       "<div>\n",
       "<style scoped>\n",
       "    .dataframe tbody tr th:only-of-type {\n",
       "        vertical-align: middle;\n",
       "    }\n",
       "\n",
       "    .dataframe tbody tr th {\n",
       "        vertical-align: top;\n",
       "    }\n",
       "\n",
       "    .dataframe thead th {\n",
       "        text-align: right;\n",
       "    }\n",
       "</style>\n",
       "<table border=\"1\" class=\"dataframe\">\n",
       "  <thead>\n",
       "    <tr style=\"text-align: right;\">\n",
       "      <th></th>\n",
       "      <th>id</th>\n",
       "      <th>teacher_id</th>\n",
       "      <th>teacher_prefix</th>\n",
       "      <th>school_state</th>\n",
       "      <th>project_submitted_datetime</th>\n",
       "      <th>project_grade_category</th>\n",
       "      <th>project_subject_categories</th>\n",
       "      <th>project_subject_subcategories</th>\n",
       "      <th>project_title</th>\n",
       "      <th>project_resource_summary</th>\n",
       "      <th>teacher_number_of_previously_posted_projects</th>\n",
       "      <th>project_is_approved</th>\n",
       "      <th>price</th>\n",
       "      <th>quantity</th>\n",
       "      <th>essay</th>\n",
       "    </tr>\n",
       "  </thead>\n",
       "  <tbody>\n",
       "    <tr>\n",
       "      <td>54467</td>\n",
       "      <td>p160110</td>\n",
       "      <td>de5ad01826d30de65a9591e07250360d</td>\n",
       "      <td>Ms.</td>\n",
       "      <td>LA</td>\n",
       "      <td>17-09-2016 23:04</td>\n",
       "      <td>Grades 3-5</td>\n",
       "      <td>Literacy &amp; Language</td>\n",
       "      <td>Literature &amp; Writing</td>\n",
       "      <td>Printing Press Reading Groups</td>\n",
       "      <td>My students need bean bag chairs for small gro...</td>\n",
       "      <td>1</td>\n",
       "      <td>0</td>\n",
       "      <td>630.26</td>\n",
       "      <td>11</td>\n",
       "      <td>Imagine that you are a student and it is your ...</td>\n",
       "    </tr>\n",
       "    <tr>\n",
       "      <td>154884</td>\n",
       "      <td>p055323</td>\n",
       "      <td>8aacd567dbe685cda5e679ad71478800</td>\n",
       "      <td>Mrs.</td>\n",
       "      <td>CA</td>\n",
       "      <td>14-12-2016 19:26</td>\n",
       "      <td>Grades PreK-2</td>\n",
       "      <td>Literacy &amp; Language, Math &amp; Science</td>\n",
       "      <td>Literacy, Mathematics</td>\n",
       "      <td>Cut the Clutter!  Fire Up the Focus!</td>\n",
       "      <td>My students need an easel that holds chart pap...</td>\n",
       "      <td>6</td>\n",
       "      <td>1</td>\n",
       "      <td>149.00</td>\n",
       "      <td>1</td>\n",
       "      <td>My students come to school excited to learn ev...</td>\n",
       "    </tr>\n",
       "    <tr>\n",
       "      <td>148167</td>\n",
       "      <td>p046731</td>\n",
       "      <td>dd0053a87eff0920024f5fac3ca5ff59</td>\n",
       "      <td>Mrs.</td>\n",
       "      <td>MI</td>\n",
       "      <td>02-09-2016 13:41</td>\n",
       "      <td>Grades PreK-2</td>\n",
       "      <td>Literacy &amp; Language</td>\n",
       "      <td>Literacy</td>\n",
       "      <td>Creative Classroom Organization</td>\n",
       "      <td>My students need C-Line Classroom Connector Sc...</td>\n",
       "      <td>8</td>\n",
       "      <td>1</td>\n",
       "      <td>148.04</td>\n",
       "      <td>8</td>\n",
       "      <td>I teach first grade in an inner city school. T...</td>\n",
       "    </tr>\n",
       "    <tr>\n",
       "      <td>55844</td>\n",
       "      <td>p065294</td>\n",
       "      <td>5b8b22396d505d54a6f8c471495e5f5f</td>\n",
       "      <td>Ms.</td>\n",
       "      <td>CO</td>\n",
       "      <td>20-07-2016 23:51</td>\n",
       "      <td>Grades PreK-2</td>\n",
       "      <td>Applied Learning, Literacy &amp; Language</td>\n",
       "      <td>Early Development, Literacy</td>\n",
       "      <td>Daily Learning Necessities!</td>\n",
       "      <td>My students need composition notebooks, folder...</td>\n",
       "      <td>3</td>\n",
       "      <td>0</td>\n",
       "      <td>258.87</td>\n",
       "      <td>27</td>\n",
       "      <td>My kindergarten students are attending a Title...</td>\n",
       "    </tr>\n",
       "    <tr>\n",
       "      <td>164327</td>\n",
       "      <td>p096609</td>\n",
       "      <td>f2fa8b07f6bf8445ca6ae82951278d40</td>\n",
       "      <td>Ms.</td>\n",
       "      <td>NV</td>\n",
       "      <td>01-12-2016 15:09</td>\n",
       "      <td>Grades 9-12</td>\n",
       "      <td>Literacy &amp; Language</td>\n",
       "      <td>Literature &amp; Writing</td>\n",
       "      <td>Energized to Read &amp; Write - \\r\\nReward System</td>\n",
       "      <td>My students need a variety of snacks as a posi...</td>\n",
       "      <td>1</td>\n",
       "      <td>1</td>\n",
       "      <td>270.42</td>\n",
       "      <td>10</td>\n",
       "      <td>My students are motivated special education, E...</td>\n",
       "    </tr>\n",
       "    <tr>\n",
       "      <td>...</td>\n",
       "      <td>...</td>\n",
       "      <td>...</td>\n",
       "      <td>...</td>\n",
       "      <td>...</td>\n",
       "      <td>...</td>\n",
       "      <td>...</td>\n",
       "      <td>...</td>\n",
       "      <td>...</td>\n",
       "      <td>...</td>\n",
       "      <td>...</td>\n",
       "      <td>...</td>\n",
       "      <td>...</td>\n",
       "      <td>...</td>\n",
       "      <td>...</td>\n",
       "      <td>...</td>\n",
       "    </tr>\n",
       "    <tr>\n",
       "      <td>174612</td>\n",
       "      <td>p019092</td>\n",
       "      <td>ebbe5f7eab0a5f3a8f698ffef5e92908</td>\n",
       "      <td>Mr.</td>\n",
       "      <td>TX</td>\n",
       "      <td>10-10-2016 16:53</td>\n",
       "      <td>Grades 9-12</td>\n",
       "      <td>Math &amp; Science, History &amp; Civics</td>\n",
       "      <td>Environmental Science, Social Sciences</td>\n",
       "      <td>We Wet Our Plants!</td>\n",
       "      <td>My students need more labs to tie in instructi...</td>\n",
       "      <td>1</td>\n",
       "      <td>0</td>\n",
       "      <td>1122.65</td>\n",
       "      <td>22</td>\n",
       "      <td>Our population is primarily latino students.  ...</td>\n",
       "    </tr>\n",
       "    <tr>\n",
       "      <td>161762</td>\n",
       "      <td>p040352</td>\n",
       "      <td>b34f837cc9ad523425248a104c0192e7</td>\n",
       "      <td>Mr.</td>\n",
       "      <td>CA</td>\n",
       "      <td>24-08-2016 00:17</td>\n",
       "      <td>Grades PreK-2</td>\n",
       "      <td>Health &amp; Sports</td>\n",
       "      <td>Health &amp; Wellness, Team Sports</td>\n",
       "      <td>PE Keeps our Brains and Bodies Healthy!</td>\n",
       "      <td>My students need PE and recess equipment to st...</td>\n",
       "      <td>4</td>\n",
       "      <td>1</td>\n",
       "      <td>207.71</td>\n",
       "      <td>8</td>\n",
       "      <td>A typical day in my classroom involves a lot o...</td>\n",
       "    </tr>\n",
       "    <tr>\n",
       "      <td>161988</td>\n",
       "      <td>p121366</td>\n",
       "      <td>358a01999f8f03bca678966329103127</td>\n",
       "      <td>Mrs.</td>\n",
       "      <td>CA</td>\n",
       "      <td>01-07-2016 20:11</td>\n",
       "      <td>Grades PreK-2</td>\n",
       "      <td>Special Needs, Music &amp; The Arts</td>\n",
       "      <td>Special Needs, Visual Arts</td>\n",
       "      <td>Paint Positively</td>\n",
       "      <td>My students need a creative space to tell thei...</td>\n",
       "      <td>0</td>\n",
       "      <td>1</td>\n",
       "      <td>329.47</td>\n",
       "      <td>14</td>\n",
       "      <td>As a teacher in a high poverty area, my studen...</td>\n",
       "    </tr>\n",
       "    <tr>\n",
       "      <td>76770</td>\n",
       "      <td>p189599</td>\n",
       "      <td>4b28bc08967e0b687de639a557fff4d5</td>\n",
       "      <td>Teacher</td>\n",
       "      <td>GA</td>\n",
       "      <td>28-04-2016 07:22</td>\n",
       "      <td>Grades PreK-2</td>\n",
       "      <td>Literacy &amp; Language, Math &amp; Science</td>\n",
       "      <td>Literacy, Mathematics</td>\n",
       "      <td>Kindles for Kids!</td>\n",
       "      <td>My students need Kindles for learning! Our kin...</td>\n",
       "      <td>0</td>\n",
       "      <td>1</td>\n",
       "      <td>53.06</td>\n",
       "      <td>3</td>\n",
       "      <td>What we learn with pleasure we never forget.\\r...</td>\n",
       "    </tr>\n",
       "    <tr>\n",
       "      <td>57499</td>\n",
       "      <td>p180969</td>\n",
       "      <td>a5e55ee0479afe3c41b1be0339c33424</td>\n",
       "      <td>Ms.</td>\n",
       "      <td>IL</td>\n",
       "      <td>03-06-2016 11:07</td>\n",
       "      <td>Grades 3-5</td>\n",
       "      <td>Applied Learning</td>\n",
       "      <td>Character Education, Parent Involvement</td>\n",
       "      <td>Let The Comfort Begin!</td>\n",
       "      <td>My students need comfort when they come to my ...</td>\n",
       "      <td>5</td>\n",
       "      <td>1</td>\n",
       "      <td>166.44</td>\n",
       "      <td>2</td>\n",
       "      <td>My students are amazing!!! They have made it t...</td>\n",
       "    </tr>\n",
       "  </tbody>\n",
       "</table>\n",
       "<p>50000 rows × 15 columns</p>\n",
       "</div>"
      ],
      "text/plain": [
       "             id                        teacher_id teacher_prefix school_state  \\\n",
       "54467   p160110  de5ad01826d30de65a9591e07250360d            Ms.           LA   \n",
       "154884  p055323  8aacd567dbe685cda5e679ad71478800           Mrs.           CA   \n",
       "148167  p046731  dd0053a87eff0920024f5fac3ca5ff59           Mrs.           MI   \n",
       "55844   p065294  5b8b22396d505d54a6f8c471495e5f5f            Ms.           CO   \n",
       "164327  p096609  f2fa8b07f6bf8445ca6ae82951278d40            Ms.           NV   \n",
       "...         ...                               ...            ...          ...   \n",
       "174612  p019092  ebbe5f7eab0a5f3a8f698ffef5e92908            Mr.           TX   \n",
       "161762  p040352  b34f837cc9ad523425248a104c0192e7            Mr.           CA   \n",
       "161988  p121366  358a01999f8f03bca678966329103127           Mrs.           CA   \n",
       "76770   p189599  4b28bc08967e0b687de639a557fff4d5        Teacher           GA   \n",
       "57499   p180969  a5e55ee0479afe3c41b1be0339c33424            Ms.           IL   \n",
       "\n",
       "       project_submitted_datetime project_grade_category  \\\n",
       "54467            17-09-2016 23:04             Grades 3-5   \n",
       "154884           14-12-2016 19:26          Grades PreK-2   \n",
       "148167           02-09-2016 13:41          Grades PreK-2   \n",
       "55844            20-07-2016 23:51          Grades PreK-2   \n",
       "164327           01-12-2016 15:09            Grades 9-12   \n",
       "...                           ...                    ...   \n",
       "174612           10-10-2016 16:53            Grades 9-12   \n",
       "161762           24-08-2016 00:17          Grades PreK-2   \n",
       "161988           01-07-2016 20:11          Grades PreK-2   \n",
       "76770            28-04-2016 07:22          Grades PreK-2   \n",
       "57499            03-06-2016 11:07             Grades 3-5   \n",
       "\n",
       "                   project_subject_categories  \\\n",
       "54467                     Literacy & Language   \n",
       "154884    Literacy & Language, Math & Science   \n",
       "148167                    Literacy & Language   \n",
       "55844   Applied Learning, Literacy & Language   \n",
       "164327                    Literacy & Language   \n",
       "...                                       ...   \n",
       "174612       Math & Science, History & Civics   \n",
       "161762                        Health & Sports   \n",
       "161988        Special Needs, Music & The Arts   \n",
       "76770     Literacy & Language, Math & Science   \n",
       "57499                        Applied Learning   \n",
       "\n",
       "                  project_subject_subcategories  \\\n",
       "54467                      Literature & Writing   \n",
       "154884                    Literacy, Mathematics   \n",
       "148167                                 Literacy   \n",
       "55844               Early Development, Literacy   \n",
       "164327                     Literature & Writing   \n",
       "...                                         ...   \n",
       "174612   Environmental Science, Social Sciences   \n",
       "161762           Health & Wellness, Team Sports   \n",
       "161988               Special Needs, Visual Arts   \n",
       "76770                     Literacy, Mathematics   \n",
       "57499   Character Education, Parent Involvement   \n",
       "\n",
       "                                        project_title  \\\n",
       "54467                   Printing Press Reading Groups   \n",
       "154884           Cut the Clutter!  Fire Up the Focus!   \n",
       "148167                Creative Classroom Organization   \n",
       "55844                     Daily Learning Necessities!   \n",
       "164327  Energized to Read & Write - \\r\\nReward System   \n",
       "...                                               ...   \n",
       "174612                             We Wet Our Plants!   \n",
       "161762        PE Keeps our Brains and Bodies Healthy!   \n",
       "161988                               Paint Positively   \n",
       "76770                               Kindles for Kids!   \n",
       "57499                          Let The Comfort Begin!   \n",
       "\n",
       "                                 project_resource_summary  \\\n",
       "54467   My students need bean bag chairs for small gro...   \n",
       "154884  My students need an easel that holds chart pap...   \n",
       "148167  My students need C-Line Classroom Connector Sc...   \n",
       "55844   My students need composition notebooks, folder...   \n",
       "164327  My students need a variety of snacks as a posi...   \n",
       "...                                                   ...   \n",
       "174612  My students need more labs to tie in instructi...   \n",
       "161762  My students need PE and recess equipment to st...   \n",
       "161988  My students need a creative space to tell thei...   \n",
       "76770   My students need Kindles for learning! Our kin...   \n",
       "57499   My students need comfort when they come to my ...   \n",
       "\n",
       "        teacher_number_of_previously_posted_projects  project_is_approved  \\\n",
       "54467                                              1                    0   \n",
       "154884                                             6                    1   \n",
       "148167                                             8                    1   \n",
       "55844                                              3                    0   \n",
       "164327                                             1                    1   \n",
       "...                                              ...                  ...   \n",
       "174612                                             1                    0   \n",
       "161762                                             4                    1   \n",
       "161988                                             0                    1   \n",
       "76770                                              0                    1   \n",
       "57499                                              5                    1   \n",
       "\n",
       "          price  quantity                                              essay  \n",
       "54467    630.26        11  Imagine that you are a student and it is your ...  \n",
       "154884   149.00         1  My students come to school excited to learn ev...  \n",
       "148167   148.04         8  I teach first grade in an inner city school. T...  \n",
       "55844    258.87        27  My kindergarten students are attending a Title...  \n",
       "164327   270.42        10  My students are motivated special education, E...  \n",
       "...         ...       ...                                                ...  \n",
       "174612  1122.65        22  Our population is primarily latino students.  ...  \n",
       "161762   207.71         8  A typical day in my classroom involves a lot o...  \n",
       "161988   329.47        14  As a teacher in a high poverty area, my studen...  \n",
       "76770     53.06         3  What we learn with pleasure we never forget.\\r...  \n",
       "57499    166.44         2  My students are amazing!!! They have made it t...  \n",
       "\n",
       "[50000 rows x 15 columns]"
      ]
     },
     "execution_count": 158,
     "metadata": {},
     "output_type": "execute_result"
    }
   ],
   "source": [
    "# merging all essays in one 'esssay' in train data\n",
    "reduced_dataset[\"essay\"] = reduced_dataset[\"project_essay_1\"].map(str) + reduced_dataset[\"project_essay_2\"].map(str) + reduced_dataset[\"project_essay_3\"].map(str) + reduced_dataset[\"project_essay_4\"].map(str)\n",
    "df = reduced_dataset\n",
    "df.drop([\"project_essay_1\", \"project_essay_2\", \"project_essay_3\", \"project_essay_4\"], axis=1)"
   ]
  },
  {
   "cell_type": "code",
   "execution_count": 159,
   "metadata": {
    "scrolled": true
   },
   "outputs": [
    {
     "name": "stdout",
     "output_type": "stream",
     "text": [
      "I am an ELL teacher who shares a classroom with two other ELL teachers We work directly with 40 students who are receiving services along with other students who have progressed to the monitor stages or have exited the program In the afternoons I teach one newcomer English class and two small group reading intervention and social studies classes Our classroom is also used for smaller testing environments and one on one or small group language teaching Our goal is to create a relaxed and welcoming atmosphere that would encourage our students to excel in spite of their language barriers These students work very hard to make sense of the environment into which they are immersed Ranging from having lived in the United States for one month to their entire lives our students experience a wide array of challenges as they strive to reach proficiency in their second language Book clubs are a big part of our fifth and sixth grade curriculum Students have the opportunity to read the same text in school and at home Then they discuss the books in their small groups during class time Book clubs can inspire a depth of understanding of texts a joy of reading and leadership growth if the texts are at an accessible level As English Language Learners our students can have great difficulty finding books that are at their reading level while matching their level of maturity In most cases books written at a second grade reading level look and feel like books a second grader would read not books that a sixth grade boy would like to be seen carrying around his friends We have found low level high interest books that our students enjoy now we just need small sets for book clubs We have a few individual books from the series The Heights that our students greatly enjoy These books are action packed and have intriguing covers We have already seen tremendous growth among our students who have gained confidence in reading these books Providing our students with low level high interest books for book clubs can forever impact our students by allowing them to see that they are capable of reading understanding and discussing books independently nannan\n"
     ]
    }
   ],
   "source": [
    "essay = decontracted(reduced_dataset['essay'].values[5])\n",
    "essay = essay.replace('\\\\r', ' ') \n",
    "essay = essay.replace('\\\\\"', ' ') \n",
    "essay = essay.replace('\\\\n', ' ')\n",
    "\n",
    "print(essay)"
   ]
  },
  {
   "cell_type": "code",
   "execution_count": 160,
   "metadata": {},
   "outputs": [
    {
     "name": "stderr",
     "output_type": "stream",
     "text": [
      "100%|██████████████████████████████████████████████████████████████████████████| 50000/50000 [00:22<00:00, 2176.41it/s]\n"
     ]
    }
   ],
   "source": [
    "# Combining all the above stundents \n",
    "\n",
    "from tqdm import tqdm\n",
    "preprocessed_essays_train = []\n",
    "# tqdm is for printing the status bar\n",
    "for sentance in tqdm(reduced_dataset['essay'].values):\n",
    "        sent = decontracted(sentance)\n",
    "        sent = ' '.join(e for e in sent.split() if e.lower() not in stopwords)\n",
    "        preprocessed_essays_train.append(sent.lower().strip())"
   ]
  },
  {
   "cell_type": "markdown",
   "metadata": {},
   "source": [
    "## Splitting data"
   ]
  },
  {
   "cell_type": "code",
   "execution_count": 161,
   "metadata": {},
   "outputs": [],
   "source": [
    "# train test split\n",
    "\n",
    "from sklearn.model_selection import train_test_split\n",
    "X_train, X_test, y_train, y_test = train_test_split(reduced_dataset, reduced_dataset['project_is_approved'], test_size=0.30, stratify = reduced_dataset['project_is_approved'])\n",
    "\n",
    "X_train.drop(['project_is_approved'], axis=1, inplace=True)\n",
    "X_test.drop(['project_is_approved'], axis=1, inplace=True)"
   ]
  },
  {
   "cell_type": "code",
   "execution_count": 162,
   "metadata": {},
   "outputs": [
    {
     "name": "stdout",
     "output_type": "stream",
     "text": [
      "X_train:  (35000, 18)\n",
      "X_test:  (15000, 18)\n",
      "----------------------------\n",
      "y_train:  (35000,)\n",
      "y_test:  (15000,)\n"
     ]
    }
   ],
   "source": [
    "print(\"X_train: \",X_train.shape)\n",
    "print(\"X_test: \",X_test.shape)\n",
    "print('----------------------------')\n",
    "print(\"y_train: \",y_train.shape)\n",
    "print(\"y_test: \",y_test.shape)"
   ]
  },
  {
   "cell_type": "markdown",
   "metadata": {},
   "source": [
    "# Cleaning catagorical data:"
   ]
  },
  {
   "cell_type": "code",
   "execution_count": 163,
   "metadata": {},
   "outputs": [],
   "source": [
    "#cleaning subject_catagories\n",
    "  \n",
    "for X in [X_train, X_test]:\n",
    "    catogories = list(X['project_subject_categories'].values)\n",
    "    # remove special characters from list of strings python: https://stackoverflow.com/a/47301924/4084039\n",
    "\n",
    "    # https://www.geeksforgeeks.org/removing-stop-words-nltk-python/\n",
    "    # https://stackoverflow.com/questions/23669024/how-to-strip-a-specific-word-from-a-string\n",
    "    # https://stackoverflow.com/questions/8270092/remove-all-whitespace-in-a-string-in-python\n",
    "    cat_list = []\n",
    "    for i in catogories:\n",
    "        temp = \"\"\n",
    "        # consider we have text like this \"Math & Science, Warmth, Care & Hunger\"\n",
    "        for j in i.split(','): # it will split it in three parts [\"Math & Science\", \"Warmth\", \"Care & Hunger\"]\n",
    "            if 'The' in j.split(): # this will split each of the catogory based on space \"Math & Science\"=> \"Math\",\"&\", \"Science\"\n",
    "                j=j.replace('The','') # if we have the words \"The\" we are going to replace it with ''(i.e removing 'The')\n",
    "            j = j.replace(' ','') # we are placeing all the ' '(space) with ''(empty) ex:\"Math & Science\"=>\"Math&Science\"\n",
    "            temp+=j.strip()+\" \" #\" abc \".strip() will return \"abc\", remove the trailing spaces\n",
    "            temp = temp.replace('&','_') # we are replacing the & value into \n",
    "        cat_list.append(temp.strip())\n",
    "\n",
    "    X['clean_subject_categories'] = cat_list\n",
    "    X.drop(['project_subject_categories'], axis=1, inplace=True)\n",
    "\n",
    "    from collections import Counter\n",
    "    my_counter = Counter()\n",
    "    for word in X['clean_subject_categories'].values:\n",
    "        my_counter.update(word.split())\n",
    "\n",
    "    cat_dict = dict(my_counter)\n",
    "    sorted_cat_dict = dict(sorted(cat_dict.items(), key=lambda kv: kv[1]))\n"
   ]
  },
  {
   "cell_type": "code",
   "execution_count": 164,
   "metadata": {},
   "outputs": [],
   "source": [
    "for Y in [X_train, X_test]:\n",
    "    catogories = list(Y['project_subject_subcategories'].values)\n",
    "    # remove special characters from list of strings python: https://stackoverflow.com/a/47301924/4084039\n",
    "\n",
    "    # https://www.geeksforgeeks.org/removing-stop-words-nltk-python/\n",
    "    # https://stackoverflow.com/questions/23669024/how-to-strip-a-specific-word-from-a-string\n",
    "    # https://stackoverflow.com/questions/8270092/remove-all-whitespace-in-a-string-in-python\n",
    "    cat_list = []\n",
    "    for i in catogories:\n",
    "        temp = \"\"\n",
    "        # consider we have text like this \"Math & Science, Warmth, Care & Hunger\"\n",
    "        for j in i.split(','): # it will split it in three parts [\"Math & Science\", \"Warmth\", \"Care & Hunger\"]\n",
    "            if 'The' in j.split(): # this will split each of the catogory based on space \"Math & Science\"=> \"Math\",\"&\", \"Science\"\n",
    "                j=j.replace('The','') # if we have the words \"The\" we are going to replace it with ''(i.e removing 'The')\n",
    "            j = j.replace(' ','') # we are placeing all the ' '(space) with ''(empty) ex:\"Math & Science\"=>\"Math&Science\"\n",
    "            temp+=j.strip()+\" \" #\" abc \".strip() will return \"abc\", remove the trailing spaces\n",
    "            temp = temp.replace('&','_') # we are replacing the & value into \n",
    "        cat_list.append(temp.strip())\n",
    "\n",
    "    Y['clean_subject_subcategories'] = cat_list\n",
    "    Y.drop(['project_subject_subcategories'], axis=1, inplace=True)\n",
    "\n",
    "    from collections import Counter\n",
    "    my_counter = Counter()\n",
    "    for word in Y['clean_subject_subcategories'].values:\n",
    "        my_counter.update(word.split())\n",
    "\n",
    "    cat_dict = dict(my_counter)\n",
    "    sorted_cat_dict2 = dict(sorted(cat_dict.items(), key=lambda kv: kv[1]))\n"
   ]
  },
  {
   "cell_type": "markdown",
   "metadata": {},
   "source": [
    "## One Hot encoding of categorical data:"
   ]
  },
  {
   "cell_type": "markdown",
   "metadata": {},
   "source": [
    "### 1. teacher prefix"
   ]
  },
  {
   "cell_type": "markdown",
   "metadata": {},
   "source": [
    "### train"
   ]
  },
  {
   "cell_type": "code",
   "execution_count": 165,
   "metadata": {},
   "outputs": [
    {
     "name": "stdout",
     "output_type": "stream",
     "text": [
      "X_train         prefix_Dr.  prefix_Mr.  prefix_Mrs.  prefix_Ms.  prefix_Teacher\n",
      "58915            0           0            1           0               0\n",
      "41262            0           0            1           0               0\n",
      "173526           0           0            0           1               0\n",
      "25369            0           0            0           1               0\n",
      "124646           0           0            1           0               0\n"
     ]
    }
   ],
   "source": [
    "df = pd.DataFrame(data = X_train)\n",
    "df_prefix_out= df[['teacher_prefix']]\n",
    "df_prefix_out.head()\n",
    "\n",
    "df_onehot_prefix_train = pd.get_dummies(df_prefix_out,prefix=['prefix'], drop_first=False)\n",
    "print('X_train',df_onehot_prefix_train.head(5))"
   ]
  },
  {
   "cell_type": "markdown",
   "metadata": {},
   "source": [
    "### TEST"
   ]
  },
  {
   "cell_type": "code",
   "execution_count": 166,
   "metadata": {
    "scrolled": true
   },
   "outputs": [
    {
     "name": "stdout",
     "output_type": "stream",
     "text": [
      "X_test         prefix_Dr.  prefix_Mr.  prefix_Mrs.  prefix_Ms.  prefix_Teacher\n",
      "98830            0           1            0           0               0\n",
      "109761           0           0            0           1               0\n",
      "12244            0           0            0           1               0\n",
      "150683           0           0            0           1               0\n",
      "62920            0           0            0           0               1\n"
     ]
    }
   ],
   "source": [
    "df = pd.DataFrame(data = X_test)\n",
    "df_prefix_out= df[['teacher_prefix']]\n",
    "df_prefix_out.head()\n",
    "\n",
    "df_onehot_prefix_test = pd.get_dummies(df_prefix_out,prefix=['prefix'], drop_first=False)\n",
    "print('X_test',df_onehot_prefix_test.head(5))"
   ]
  },
  {
   "cell_type": "markdown",
   "metadata": {},
   "source": [
    "### 2. School State"
   ]
  },
  {
   "cell_type": "markdown",
   "metadata": {},
   "source": [
    "### train"
   ]
  },
  {
   "cell_type": "code",
   "execution_count": 167,
   "metadata": {},
   "outputs": [
    {
     "name": "stdout",
     "output_type": "stream",
     "text": [
      "X_train         state_AK  state_AL  state_AR  state_AZ  state_CA  state_CO  state_CT  \\\n",
      "58915          0         0         0         0         0         0         0   \n",
      "41262          0         0         0         0         0         0         0   \n",
      "173526         0         0         0         0         0         0         0   \n",
      "25369          0         0         0         0         0         0         0   \n",
      "124646         0         0         0         0         0         0         0   \n",
      "\n",
      "        state_DC  state_DE  state_FL  ...  state_SD  state_TN  state_TX  \\\n",
      "58915          0         0         0  ...         0         0         0   \n",
      "41262          0         0         1  ...         0         0         0   \n",
      "173526         0         0         0  ...         0         0         0   \n",
      "25369          0         0         0  ...         0         0         0   \n",
      "124646         0         0         0  ...         0         0         0   \n",
      "\n",
      "        state_UT  state_VA  state_VT  state_WA  state_WI  state_WV  state_WY  \n",
      "58915          0         0         0         0         0         0         0  \n",
      "41262          0         0         0         0         0         0         0  \n",
      "173526         0         0         0         0         0         0         0  \n",
      "25369          0         0         0         0         0         0         0  \n",
      "124646         0         0         0         0         0         0         0  \n",
      "\n",
      "[5 rows x 51 columns]\n"
     ]
    }
   ],
   "source": [
    "df = pd.DataFrame(data = X_train)\n",
    "df_state_out= df[['school_state']]\n",
    "df_state_out.head()\n",
    "\n",
    "df_onehot_state_train = pd.get_dummies(df_state_out,prefix=['state'], drop_first=False)\n",
    "\n",
    "print('X_train',df_onehot_state_train.head(5))"
   ]
  },
  {
   "cell_type": "markdown",
   "metadata": {},
   "source": [
    "### test"
   ]
  },
  {
   "cell_type": "code",
   "execution_count": 168,
   "metadata": {},
   "outputs": [
    {
     "name": "stdout",
     "output_type": "stream",
     "text": [
      "X_test         state_AK  state_AL  state_AR  state_AZ  state_CA  state_CO  state_CT  \\\n",
      "98830          0         0         0         0         0         0         0   \n",
      "109761         0         0         0         0         0         0         0   \n",
      "12244          0         0         0         0         1         0         0   \n",
      "150683         0         0         0         0         0         0         0   \n",
      "62920          0         0         0         0         0         0         0   \n",
      "\n",
      "        state_DC  state_DE  state_FL  ...  state_SD  state_TN  state_TX  \\\n",
      "98830          0         0         0  ...         0         0         0   \n",
      "109761         0         0         0  ...         0         0         0   \n",
      "12244          0         0         0  ...         0         0         0   \n",
      "150683         0         0         0  ...         0         0         0   \n",
      "62920          0         0         0  ...         0         0         0   \n",
      "\n",
      "        state_UT  state_VA  state_VT  state_WA  state_WI  state_WV  state_WY  \n",
      "98830          0         0         0         0         0         0         0  \n",
      "109761         0         0         0         0         0         0         0  \n",
      "12244          0         0         0         0         0         0         0  \n",
      "150683         0         0         0         0         0         0         0  \n",
      "62920          0         0         0         0         0         0         0  \n",
      "\n",
      "[5 rows x 51 columns]\n"
     ]
    }
   ],
   "source": [
    "df = pd.DataFrame(data = X_test)\n",
    "df_state_out= df[['school_state']]\n",
    "df_state_out.head()\n",
    "\n",
    "df_onehot_state_test = pd.get_dummies(df_state_out,prefix=['state'], drop_first=False)\n",
    "\n",
    "print('X_test',df_onehot_state_test.head(5))"
   ]
  },
  {
   "cell_type": "markdown",
   "metadata": {},
   "source": [
    "### 3. Project Grade Catagory"
   ]
  },
  {
   "cell_type": "markdown",
   "metadata": {},
   "source": [
    "### train"
   ]
  },
  {
   "cell_type": "code",
   "execution_count": 169,
   "metadata": {},
   "outputs": [
    {
     "name": "stdout",
     "output_type": "stream",
     "text": [
      "X_train         grade_Grades 3-5  grade_Grades 6-8  grade_Grades 9-12  \\\n",
      "58915                  0                 0                  0   \n",
      "41262                  0                 0                  0   \n",
      "173526                 1                 0                  0   \n",
      "25369                  0                 1                  0   \n",
      "124646                 1                 0                  0   \n",
      "\n",
      "        grade_Grades PreK-2  \n",
      "58915                     1  \n",
      "41262                     1  \n",
      "173526                    0  \n",
      "25369                     0  \n",
      "124646                    0  \n"
     ]
    }
   ],
   "source": [
    "df = pd.DataFrame(data = X_train)\n",
    "df_grade_out= df[['project_grade_category']]\n",
    "df_grade_out.head()\n",
    "\n",
    "df_onehot_grade_train = pd.get_dummies(df_grade_out,prefix=['grade'], drop_first=False)\n",
    "\n",
    "print('X_train',df_onehot_grade_train.head(5))"
   ]
  },
  {
   "cell_type": "markdown",
   "metadata": {},
   "source": [
    "### test"
   ]
  },
  {
   "cell_type": "code",
   "execution_count": 170,
   "metadata": {},
   "outputs": [
    {
     "name": "stdout",
     "output_type": "stream",
     "text": [
      "X_test         grade_Grades 3-5  grade_Grades 6-8  grade_Grades 9-12  \\\n",
      "98830                  0                 0                  0   \n",
      "109761                 0                 0                  0   \n",
      "12244                  1                 0                  0   \n",
      "150683                 0                 0                  0   \n",
      "62920                  0                 1                  0   \n",
      "\n",
      "        grade_Grades PreK-2  \n",
      "98830                     1  \n",
      "109761                    1  \n",
      "12244                     0  \n",
      "150683                    1  \n",
      "62920                     0  \n"
     ]
    }
   ],
   "source": [
    "df = pd.DataFrame(data = X_test)\n",
    "df_grade_out= df[['project_grade_category']]\n",
    "df_grade_out.head()\n",
    "\n",
    "df_onehot_grade_test = pd.get_dummies(df_grade_out,prefix=['grade'], drop_first=False)\n",
    "\n",
    "print('X_test',df_onehot_grade_test.head(5))"
   ]
  },
  {
   "cell_type": "markdown",
   "metadata": {},
   "source": [
    "### 4. Clean Subject Catagories"
   ]
  },
  {
   "cell_type": "markdown",
   "metadata": {},
   "source": [
    "### train"
   ]
  },
  {
   "cell_type": "code",
   "execution_count": 171,
   "metadata": {},
   "outputs": [
    {
     "name": "stdout",
     "output_type": "stream",
     "text": [
      "['Warmth', 'Care_Hunger', 'History_Civics', 'Music_Arts', 'AppliedLearning', 'SpecialNeeds', 'Health_Sports', 'Math_Science', 'Literacy_Language']\n",
      "X_train--> (35000, 9)\n"
     ]
    }
   ],
   "source": [
    "from sklearn.feature_extraction.text import CountVectorizer\n",
    "\n",
    "\n",
    "vectorizer = CountVectorizer(vocabulary=list(sorted_cat_dict.keys()), lowercase=False, binary=True)\n",
    "categories_one_hot_train = vectorizer.fit_transform(X_train['clean_subject_categories'].values)\n",
    "print(vectorizer.get_feature_names())\n",
    "\n",
    "print('X_train-->',categories_one_hot_train.shape)"
   ]
  },
  {
   "cell_type": "markdown",
   "metadata": {},
   "source": [
    "### test"
   ]
  },
  {
   "cell_type": "code",
   "execution_count": 172,
   "metadata": {},
   "outputs": [
    {
     "name": "stdout",
     "output_type": "stream",
     "text": [
      "['Warmth', 'Care_Hunger', 'History_Civics', 'Music_Arts', 'AppliedLearning', 'SpecialNeeds', 'Health_Sports', 'Math_Science', 'Literacy_Language']\n",
      "X_test--> (15000, 9)\n"
     ]
    }
   ],
   "source": [
    "vectorizer = CountVectorizer(vocabulary=list(sorted_cat_dict.keys()), lowercase=False, binary=True)\n",
    "categories_one_hot_test = vectorizer.fit_transform(X_test['clean_subject_categories'].values)\n",
    "print(vectorizer.get_feature_names())\n",
    "\n",
    "print('X_test-->',categories_one_hot_test.shape)"
   ]
  },
  {
   "cell_type": "markdown",
   "metadata": {},
   "source": [
    "### 5. Clean Subject Sub Catagories"
   ]
  },
  {
   "cell_type": "markdown",
   "metadata": {},
   "source": [
    "### train"
   ]
  },
  {
   "cell_type": "code",
   "execution_count": 173,
   "metadata": {},
   "outputs": [
    {
     "name": "stdout",
     "output_type": "stream",
     "text": [
      "['Economics', 'CommunityService', 'FinancialLiteracy', 'ParentInvolvement', 'ForeignLanguages', 'Extracurricular', 'Civics_Government', 'NutritionEducation', 'Warmth', 'Care_Hunger', 'SocialSciences', 'PerformingArts', 'CharacterEducation', 'TeamSports', 'Other', 'College_CareerPrep', 'Music', 'History_Geography', 'EarlyDevelopment', 'Gym_Fitness', 'ESL', 'Health_LifeScience', 'EnvironmentalScience', 'VisualArts', 'Health_Wellness', 'AppliedSciences', 'SpecialNeeds', 'Literature_Writing', 'Mathematics', 'Literacy']\n",
      "X_train (35000, 30)\n"
     ]
    }
   ],
   "source": [
    "vectorizer = CountVectorizer(vocabulary=list(sorted_cat_dict2.keys()), lowercase=False, binary=True)\n",
    "subcategories_one_hot_train = vectorizer.fit_transform(X_train['clean_subject_subcategories'].values)\n",
    "print(vectorizer.get_feature_names())\n",
    "\n",
    "print('X_train',subcategories_one_hot_train.shape)"
   ]
  },
  {
   "cell_type": "markdown",
   "metadata": {},
   "source": [
    "### test"
   ]
  },
  {
   "cell_type": "code",
   "execution_count": 174,
   "metadata": {},
   "outputs": [
    {
     "name": "stdout",
     "output_type": "stream",
     "text": [
      "['Economics', 'CommunityService', 'FinancialLiteracy', 'ParentInvolvement', 'ForeignLanguages', 'Extracurricular', 'Civics_Government', 'NutritionEducation', 'Warmth', 'Care_Hunger', 'SocialSciences', 'PerformingArts', 'CharacterEducation', 'TeamSports', 'Other', 'College_CareerPrep', 'Music', 'History_Geography', 'EarlyDevelopment', 'Gym_Fitness', 'ESL', 'Health_LifeScience', 'EnvironmentalScience', 'VisualArts', 'Health_Wellness', 'AppliedSciences', 'SpecialNeeds', 'Literature_Writing', 'Mathematics', 'Literacy']\n",
      "X_test (15000, 30)\n"
     ]
    }
   ],
   "source": [
    "vectorizer = CountVectorizer(vocabulary=list(sorted_cat_dict2.keys()), lowercase=False, binary=True)\n",
    "subcategories_one_hot_test = vectorizer.fit_transform(X_test['clean_subject_subcategories'].values)\n",
    "print(vectorizer.get_feature_names())\n",
    "\n",
    "print('X_test',subcategories_one_hot_test.shape)"
   ]
  },
  {
   "cell_type": "markdown",
   "metadata": {},
   "source": [
    "# Numerical data:"
   ]
  },
  {
   "cell_type": "markdown",
   "metadata": {},
   "source": [
    "### 1. Price"
   ]
  },
  {
   "cell_type": "markdown",
   "metadata": {},
   "source": [
    "### train"
   ]
  },
  {
   "cell_type": "code",
   "execution_count": 175,
   "metadata": {},
   "outputs": [
    {
     "name": "stdout",
     "output_type": "stream",
     "text": [
      "X_train--> Mean : 295.82321371428577, Standard deviation : 378.22156145710306\n",
      "        price_standardized\n",
      "58915            -0.561399\n",
      "41262            -0.443849\n",
      "173526           -0.737222\n",
      "25369            -0.165969\n",
      "124646           -0.479172\n"
     ]
    },
    {
     "data": {
      "text/plain": [
       "(35000, 1)"
      ]
     },
     "execution_count": 175,
     "metadata": {},
     "output_type": "execute_result"
    }
   ],
   "source": [
    "from sklearn.preprocessing import StandardScaler\n",
    "\n",
    "price_scalar = StandardScaler()\n",
    "price_scalar.fit(X_train['price'].values.reshape(-1,1)) # finding the mean and standard deviation of this data\n",
    "    \n",
    "\n",
    "price_standardized = price_scalar.transform(X_train['price'].values.reshape(-1, 1))\n",
    "df_price_standardized_train = pd.DataFrame(price_standardized, columns = ['price_standardized'],index=X_train.index)\n",
    "X_train.insert(value=df_price_standardized_train, column = 'price_standardized', loc=18)\n",
    "X_train.pop('price')\n",
    "\n",
    "print('X_train-->',f\"Mean : {price_scalar.mean_[0]}, Standard deviation : {np.sqrt(price_scalar.var_[0])}\")\n",
    "print(df_price_standardized_train.head())\n",
    "df_price_standardized_train.shape"
   ]
  },
  {
   "cell_type": "markdown",
   "metadata": {},
   "source": [
    "### test "
   ]
  },
  {
   "cell_type": "code",
   "execution_count": 176,
   "metadata": {},
   "outputs": [
    {
     "name": "stdout",
     "output_type": "stream",
     "text": [
      "X_test--> Mean : 296.70026133333334, Standard deviation : 342.7279619525449\n",
      "        price_standardized\n",
      "98830            -0.255830\n",
      "109761           -0.195345\n",
      "12244            -0.543406\n",
      "150683           -0.712519\n",
      "62920             1.858295\n"
     ]
    }
   ],
   "source": [
    "price_scalar.fit(X_test['price'].values.reshape(-1,1)) # finding the mean and standard deviation of this data\n",
    "    \n",
    "\n",
    "price_standardized = price_scalar.transform(X_test['price'].values.reshape(-1, 1))\n",
    "df_price_standardized_test = pd.DataFrame(price_standardized, columns = ['price_standardized'], index=X_test.index)\n",
    "X_test.insert(value=df_price_standardized_test, column = 'price_standardized', loc=18)\n",
    "X_test.pop('price')\n",
    "\n",
    "print('X_test-->',f\"Mean : {price_scalar.mean_[0]}, Standard deviation : {np.sqrt(price_scalar.var_[0])}\")\n",
    "print(df_price_standardized_test.head())"
   ]
  },
  {
   "cell_type": "markdown",
   "metadata": {},
   "source": [
    "# Text data"
   ]
  },
  {
   "cell_type": "markdown",
   "metadata": {},
   "source": [
    "### 1. Title of TEXT"
   ]
  },
  {
   "cell_type": "markdown",
   "metadata": {},
   "source": [
    "### train"
   ]
  },
  {
   "cell_type": "code",
   "execution_count": 177,
   "metadata": {},
   "outputs": [
    {
     "name": "stderr",
     "output_type": "stream",
     "text": [
      "100%|████████████████████████████████████████████████████████████████████████| 35000/35000 [00:00<00:00, 107232.18it/s]\n"
     ]
    }
   ],
   "source": [
    "# Combining all the above stundents \n",
    "from tqdm import tqdm\n",
    "preprocessed_title_train = []\n",
    "    # tqdm is for printing the status bar\n",
    "for title in tqdm(X_train['project_title'].values):\n",
    "        \n",
    "        # https://gist.github.com/sebleier/554280\n",
    "        title = ' '.join(e for e in title.split() if e.lower() not in stopwords)\n",
    "        preprocessed_title_train.append(title.lower().strip())\n",
    "    "
   ]
  },
  {
   "cell_type": "markdown",
   "metadata": {},
   "source": [
    "### test"
   ]
  },
  {
   "cell_type": "code",
   "execution_count": 178,
   "metadata": {},
   "outputs": [
    {
     "name": "stderr",
     "output_type": "stream",
     "text": [
      "100%|████████████████████████████████████████████████████████████████████████| 15000/15000 [00:00<00:00, 107907.79it/s]\n"
     ]
    }
   ],
   "source": [
    "# Combining all the above stundents \n",
    "from tqdm import tqdm\n",
    "preprocessed_title_test = []\n",
    "    # tqdm is for printing the status bar\n",
    "for title in tqdm(X_test['project_title'].values):\n",
    "        title = ' '.join(e for e in title.split() if e.lower() not in stopwords)\n",
    "        preprocessed_title_test.append(title.lower().strip())"
   ]
  },
  {
   "cell_type": "markdown",
   "metadata": {},
   "source": [
    "### 2. Essay of TEXT"
   ]
  },
  {
   "cell_type": "markdown",
   "metadata": {},
   "source": [
    "### TRAIN"
   ]
  },
  {
   "cell_type": "code",
   "execution_count": 179,
   "metadata": {},
   "outputs": [
    {
     "name": "stderr",
     "output_type": "stream",
     "text": [
      "100%|██████████████████████████████████████████████████████████████████████████| 35000/35000 [00:15<00:00, 2221.07it/s]\n"
     ]
    }
   ],
   "source": [
    "# Combining all the above stundents \n",
    "\n",
    "from tqdm import tqdm\n",
    "preprocessed_essays_train = []\n",
    "# tqdm is for printing the status bar\n",
    "for sentance in tqdm(X_train['essay'].values):\n",
    "        sent = decontracted(sentance)\n",
    "        sent = ' '.join(e for e in sent.split() if e.lower() not in stopwords)\n",
    "        preprocessed_essays_train.append(sent.lower().strip())\n"
   ]
  },
  {
   "cell_type": "code",
   "execution_count": 180,
   "metadata": {},
   "outputs": [
    {
     "data": {
      "text/plain": [
       "'students traditional honors level english language arts 9th 12th graders already recognize value reading many discovering wonders active reading life goal encourage read explore new literature read least 10 minutes class day students required book times end year many read dozen books could ever whole class school rapidly changing suburban environment nearly half students come socioeconomically disadvantaged homes number risen 20 5 years population english language learners increasing swift pace well school open enrollment no local boundaries students area choose come know expectations high provide safe environment grow learn stephen king called books uniquely portable magic strong desire see students embrace magic first step provide choice ability choose variety books fiction nonfiction books native languages classics school library serves large population students regularly end swapping borrowing library enough copies satisfy need tiny classroom library currently stocked almost entirely books books previous students left behind actively working build manageable collection appeal readers donation help make magic build classroom library full high interest books students may not otherwise able purchase books access classroom way rich rewarding reading life nannan'"
      ]
     },
     "execution_count": 180,
     "metadata": {},
     "output_type": "execute_result"
    }
   ],
   "source": [
    "preprocessed_essays_train[1000]"
   ]
  },
  {
   "cell_type": "markdown",
   "metadata": {},
   "source": [
    "### TEST"
   ]
  },
  {
   "cell_type": "code",
   "execution_count": 181,
   "metadata": {},
   "outputs": [
    {
     "name": "stderr",
     "output_type": "stream",
     "text": [
      "100%|██████████████████████████████████████████████████████████████████████████| 15000/15000 [00:06<00:00, 2180.31it/s]\n"
     ]
    },
    {
     "data": {
      "text/plain": [
       "'students love knowing know open book students enjoy reading love reading variety material thrive information get books especially nonfiction books class 21 second graders full energy full questions lots fun students go title 1 school coastal georgia 82 students free reduced lunch although students may lacking economic ways make inquisitive knowledge students love read devoured books school year challenged teacher find new interesting books genres capture attention requested variety materials requested large number nonfiction books help new reading program next school year reader workshop also requested manila paper colored pencils art supplies empower students art art supplies enrich students learning potential reading subjects empowering learning using art well donating project helping enrich classroom library nonfiction books different levels help students succeed new reader workshop program also helping students get art supplies empower learning art empowerment help students learn fun way using art'"
      ]
     },
     "execution_count": 181,
     "metadata": {},
     "output_type": "execute_result"
    }
   ],
   "source": [
    "# Combining all the above stundents \n",
    "\n",
    "from tqdm import tqdm\n",
    "preprocessed_essays_test = []\n",
    "# tqdm is for printing the status bar\n",
    "for sentance in tqdm(X_test['essay'].values):\n",
    "        sent = decontracted(sentance)\n",
    "        sent = ' '.join(e for e in sent.split() if e.lower() not in stopwords)\n",
    "        preprocessed_essays_test.append(sent.lower().strip())\n",
    "        \n",
    "preprocessed_essays_test[1000]"
   ]
  },
  {
   "cell_type": "code",
   "execution_count": 182,
   "metadata": {},
   "outputs": [
    {
     "data": {
      "text/plain": [
       "'knowledge one thing no one take away us love look face find great fact book something love not put book drawn 28 amazing students choose read done work school title school heart mesa arizona means lot families work hard get child school let alone provide books home read see need writing classroom scores writing low not foundations good writer strong teacher writing feel like tools teach stronger writers missing tools want students strong writers not come class naturally knowing write start year teaching parts speech using books point natural reading use anchor charts teach find text work stages writing good sentence order write great paragraph write different types writing take baby steps writing amazing paragraph know teach writing help students learn baby steps lack materials class help teach chart tablet anchor charts lessons reminder class write lesson add sentence strips parts speech different colors close reading journals helps process writing take notes good writer write drafts work thoughts end year make story book mini books show much learned writing get take home ready write prompts magnetic sight words sentences centers waiting meet teacher discuss work writing nannan'"
      ]
     },
     "execution_count": 182,
     "metadata": {},
     "output_type": "execute_result"
    }
   ],
   "source": [
    "preprocessed_essays_test[1001]"
   ]
  },
  {
   "cell_type": "markdown",
   "metadata": {},
   "source": [
    "## SENTIMENT ANALYSIS"
   ]
  },
  {
   "cell_type": "markdown",
   "metadata": {},
   "source": [
    "### TRAIN"
   ]
  },
  {
   "cell_type": "code",
   "execution_count": 183,
   "metadata": {},
   "outputs": [
    {
     "name": "stderr",
     "output_type": "stream",
     "text": [
      "[nltk_data] Downloading package vader_lexicon to\n",
      "[nltk_data]     C:\\Users\\DEVARSHI\\AppData\\Roaming\\nltk_data...\n",
      "[nltk_data]   Package vader_lexicon is already up-to-date!\n"
     ]
    },
    {
     "name": "stdout",
     "output_type": "stream",
     "text": [
      "35000\n",
      "35000\n",
      "(35000, 22)\n"
     ]
    }
   ],
   "source": [
    "\n",
    "from tqdm import tqdm\n",
    "import nltk\n",
    "nltk.download('vader_lexicon') \n",
    "from nltk.sentiment.vader import SentimentIntensityAnalyzer\n",
    "\n",
    "sid = SentimentIntensityAnalyzer()\n",
    "\n",
    "neg_train = []\n",
    "pos_train = []\n",
    "neu_train = []\n",
    "compound_train = []\n",
    "id_train = []\n",
    "\n",
    "for sentence in list(preprocessed_essays_train):\n",
    "    #print(sentence)\n",
    "    ss = sid.polarity_scores(sentence)\n",
    "    \n",
    "    neg_train.append(ss['neg'])\n",
    "    pos_train.append(ss['pos'])\n",
    "    neu_train.append(ss['neu'])\n",
    "    compound_train.append(ss['compound'])\n",
    "\n",
    "\n",
    "for i in X_train['id'].values:\n",
    "    id_train.append(i)\n",
    "\n",
    "print(len(id_train))\n",
    "print(len(neg_train))\n",
    "\n",
    "# create dataframe of 4 features\n",
    "\n",
    "data = {'id': list(id_train), 'negative': list(neg_train), 'positive': list(pos_train), 'neutral': list(neu_train), 'compound': list(compound_train)}\n",
    "data_sentiment_train = pd.DataFrame (data = data, index=None, columns= None, dtype=None, copy=False)\n",
    "\n",
    "data_sentiment_train.head()\n",
    "\n",
    "\n",
    "\n",
    "n_new_project_data_train = pd.merge(X_train, data_sentiment_train, on = 'id', how='left') # new_project_data\n",
    "print(n_new_project_data_train.shape)\n",
    "n_new_project_data_train.head()\n",
    "\n",
    "sentiment_train_ = n_new_project_data_train.loc[:, ['negative', 'positive','neutral','compound']]"
   ]
  },
  {
   "cell_type": "markdown",
   "metadata": {},
   "source": [
    "### TEST"
   ]
  },
  {
   "cell_type": "code",
   "execution_count": 184,
   "metadata": {},
   "outputs": [
    {
     "name": "stdout",
     "output_type": "stream",
     "text": [
      "15000\n",
      "15000\n",
      "(15000, 22)\n"
     ]
    }
   ],
   "source": [
    "sid = SentimentIntensityAnalyzer()\n",
    "\n",
    "neg_test = []\n",
    "pos_test = []\n",
    "neu_test = []\n",
    "compound_test = []\n",
    "id_test = []\n",
    "\n",
    "for sentence in list(preprocessed_essays_test):\n",
    "    #print(sentence)\n",
    "    ss = sid.polarity_scores(sentence)\n",
    "    \n",
    "    neg_test.append(ss['neg'])\n",
    "    pos_test.append(ss['pos'])\n",
    "    neu_test.append(ss['neu'])\n",
    "    compound_test.append(ss['compound'])\n",
    "\n",
    "\n",
    "for i in X_test['id'].values:\n",
    "    id_test.append(i)\n",
    "\n",
    "print(len(id_test))\n",
    "print(len(neg_test))\n",
    "\n",
    "# create dataframe of 4 features\n",
    "\n",
    "data = {'id': list(id_test), 'negative': list(neg_test), 'positive': list(pos_test), 'neutral': list(neu_test), 'compound': list(compound_test)}\n",
    "data_sentiment_test = pd.DataFrame (data = data, index=None, columns= None, dtype=None, copy=False)\n",
    "\n",
    "data_sentiment_test.head()\n",
    "\n",
    "# Mearging Price and Quantity column with new_project_data\n",
    "\n",
    "\n",
    "n_new_project_data_test = pd.merge(X_test, data_sentiment_test, on = 'id', how='left') # new_project_data\n",
    "print(n_new_project_data_test.shape)\n",
    "n_new_project_data_test.head()\n",
    "\n",
    "sentiment_test_ = n_new_project_data_test.loc[:, ['negative', 'positive','neutral','compound']]"
   ]
  },
  {
   "cell_type": "markdown",
   "metadata": {},
   "source": [
    "<h1><font color='red'>Observartion :</font></h1>\n",
    "<li>Sentiment analysis is performed over train, test and cv data set and added to the dataset as new features.</li>\n",
    "<li>4 new features named 'negative', 'positive','neutral' and 'compound' were created.</li>"
   ]
  },
  {
   "cell_type": "markdown",
   "metadata": {},
   "source": [
    "# TF-IDF"
   ]
  },
  {
   "cell_type": "markdown",
   "metadata": {},
   "source": [
    "### TITLE"
   ]
  },
  {
   "cell_type": "markdown",
   "metadata": {},
   "source": [
    "### train"
   ]
  },
  {
   "cell_type": "code",
   "execution_count": 185,
   "metadata": {},
   "outputs": [
    {
     "name": "stdout",
     "output_type": "stream",
     "text": [
      "Shape of X_train tfidf  (35000, 1628)\n"
     ]
    }
   ],
   "source": [
    "from sklearn.feature_extraction.text import TfidfVectorizer\n",
    "\n",
    "vectorizer = TfidfVectorizer(min_df=10)\n",
    "title_tfidf_train = vectorizer.fit_transform(preprocessed_title_train)\n",
    "print(\"Shape of X_train tfidf \",title_tfidf_train.shape)"
   ]
  },
  {
   "cell_type": "markdown",
   "metadata": {},
   "source": [
    "### test"
   ]
  },
  {
   "cell_type": "code",
   "execution_count": 186,
   "metadata": {},
   "outputs": [
    {
     "name": "stdout",
     "output_type": "stream",
     "text": [
      "Shape of X_test tfidf  (15000, 1628)\n"
     ]
    }
   ],
   "source": [
    "title_tfidf_test = vectorizer.transform(preprocessed_title_test)\n",
    "print(\"Shape of X_test tfidf \",title_tfidf_test.shape)"
   ]
  },
  {
   "cell_type": "markdown",
   "metadata": {},
   "source": [
    "### ESSAY"
   ]
  },
  {
   "cell_type": "markdown",
   "metadata": {},
   "source": [
    "### train"
   ]
  },
  {
   "cell_type": "code",
   "execution_count": 187,
   "metadata": {},
   "outputs": [
    {
     "name": "stdout",
     "output_type": "stream",
     "text": [
      "Shape of X_train tfidf  (35000, 10485)\n"
     ]
    }
   ],
   "source": [
    "vectorizer = TfidfVectorizer(min_df=10)\n",
    "essay_tfidf_train = vectorizer.fit_transform(preprocessed_essays_train)\n",
    "print(\"Shape of X_train tfidf \",essay_tfidf_train.shape)"
   ]
  },
  {
   "cell_type": "markdown",
   "metadata": {},
   "source": [
    "### test"
   ]
  },
  {
   "cell_type": "code",
   "execution_count": 188,
   "metadata": {},
   "outputs": [
    {
     "name": "stdout",
     "output_type": "stream",
     "text": [
      "Shape of X_test tfidf  (15000, 10485)\n"
     ]
    }
   ],
   "source": [
    "essay_tfidf_test = vectorizer.transform(preprocessed_essays_test)\n",
    "print(\"Shape of X_test tfidf \",essay_tfidf_test.shape)"
   ]
  },
  {
   "cell_type": "markdown",
   "metadata": {},
   "source": [
    "## AVG W2V"
   ]
  },
  {
   "cell_type": "code",
   "execution_count": 189,
   "metadata": {},
   "outputs": [
    {
     "name": "stdout",
     "output_type": "stream",
     "text": [
      "Loading Glove Model\n"
     ]
    },
    {
     "name": "stderr",
     "output_type": "stream",
     "text": [
      "1917494it [03:13, 9916.10it/s] \n"
     ]
    },
    {
     "name": "stdout",
     "output_type": "stream",
     "text": [
      "Done. 1917494  words loaded!\n"
     ]
    }
   ],
   "source": [
    "def loadGloveModel(gloveFile):\n",
    "    print (\"Loading Glove Model\")\n",
    "    f = open(gloveFile,'r', encoding=\"utf8\")\n",
    "    model = {}\n",
    "    for line in tqdm(f):\n",
    "        splitLine = line.split()\n",
    "        word = splitLine[0]\n",
    "        embedding = np.array([float(val) for val in splitLine[1:]])\n",
    "        model[word] = embedding\n",
    "    print (\"Done.\",len(model),\" words loaded!\")\n",
    "    return model\n",
    "model = loadGloveModel(r'C:\\Users\\DEVARSHI\\Desktop\\glove.42B.300d.txt')"
   ]
  },
  {
   "cell_type": "code",
   "execution_count": 190,
   "metadata": {},
   "outputs": [],
   "source": [
    "with open('glove_vectors', 'rb') as f:\n",
    "    model = pickle.load(f)\n",
    "    glove_words =  set(model.keys())"
   ]
  },
  {
   "cell_type": "markdown",
   "metadata": {},
   "source": [
    "### TITLE"
   ]
  },
  {
   "cell_type": "markdown",
   "metadata": {},
   "source": [
    "### train"
   ]
  },
  {
   "cell_type": "code",
   "execution_count": 191,
   "metadata": {},
   "outputs": [
    {
     "name": "stderr",
     "output_type": "stream",
     "text": [
      "100%|████████████████████████████████████████████████████████████████████████| 35000/35000 [00:00<00:00, 110483.08it/s]\n"
     ]
    },
    {
     "name": "stdout",
     "output_type": "stream",
     "text": [
      "35000\n",
      "300\n"
     ]
    }
   ],
   "source": [
    "avg_w2v_vectors_title_train = []; # the avg-w2v for each sentence/review is stored in this list\n",
    "for sentence in tqdm(preprocessed_title_train): # for each review/sentence\n",
    "    vector = np.zeros(300) # as word vectors are of zero length\n",
    "    cnt_words =0; # num of words with a valid vector in the sentence/review\n",
    "    for word in sentence.split(): # for each word in a review/sentence\n",
    "        if word in glove_words:\n",
    "            vector += model[word]\n",
    "            cnt_words += 1\n",
    "    if cnt_words != 0:\n",
    "        vector /= cnt_words\n",
    "    avg_w2v_vectors_title_train.append(vector)\n",
    "\n",
    "print(len(avg_w2v_vectors_title_train))\n",
    "print(len(avg_w2v_vectors_title_train[0]))"
   ]
  },
  {
   "cell_type": "markdown",
   "metadata": {},
   "source": [
    "### test"
   ]
  },
  {
   "cell_type": "code",
   "execution_count": 192,
   "metadata": {},
   "outputs": [
    {
     "name": "stderr",
     "output_type": "stream",
     "text": [
      "100%|████████████████████████████████████████████████████████████████████████| 15000/15000 [00:00<00:00, 112493.87it/s]\n"
     ]
    },
    {
     "name": "stdout",
     "output_type": "stream",
     "text": [
      "15000\n",
      "300\n"
     ]
    }
   ],
   "source": [
    "avg_w2v_vectors_title_test = []; # the avg-w2v for each sentence/review is stored in this list\n",
    "for sentence in tqdm(preprocessed_title_test): # for each review/sentence\n",
    "    vector = np.zeros(300) # as word vectors are of zero length\n",
    "    cnt_words =0; # num of words with a valid vector in the sentence/review\n",
    "    for word in sentence.split(): # for each word in a review/sentence\n",
    "        if word in glove_words:\n",
    "            vector += model[word]\n",
    "            cnt_words += 1\n",
    "    if cnt_words != 0:\n",
    "        vector /= cnt_words\n",
    "    avg_w2v_vectors_title_test.append(vector)\n",
    "\n",
    "print(len(avg_w2v_vectors_title_test))\n",
    "print(len(avg_w2v_vectors_title_test[0]))"
   ]
  },
  {
   "cell_type": "markdown",
   "metadata": {},
   "source": [
    "### ESSAY"
   ]
  },
  {
   "cell_type": "markdown",
   "metadata": {},
   "source": [
    "### train"
   ]
  },
  {
   "cell_type": "code",
   "execution_count": 193,
   "metadata": {},
   "outputs": [
    {
     "name": "stderr",
     "output_type": "stream",
     "text": [
      "100%|██████████████████████████████████████████████████████████████████████████| 35000/35000 [00:06<00:00, 5214.04it/s]\n"
     ]
    },
    {
     "name": "stdout",
     "output_type": "stream",
     "text": [
      "35000\n",
      "300\n"
     ]
    }
   ],
   "source": [
    "avg_w2v_vectors_essay_train = []; # the avg-w2v for each sentence/review is stored in this list\n",
    "for sentence in tqdm(preprocessed_essays_train): # for each review/sentence\n",
    "    vector = np.zeros(300) # as word vectors are of zero length\n",
    "    cnt_words =0; # num of words with a valid vector in the sentence/review\n",
    "    for word in sentence.split(): # for each word in a review/sentence\n",
    "        if word in glove_words:\n",
    "            vector += model[word]\n",
    "            cnt_words += 1\n",
    "    if cnt_words != 0:\n",
    "        vector /= cnt_words\n",
    "    avg_w2v_vectors_essay_train.append(vector)\n",
    "\n",
    "print(len(avg_w2v_vectors_essay_train))\n",
    "print(len(avg_w2v_vectors_essay_train[0]))"
   ]
  },
  {
   "cell_type": "markdown",
   "metadata": {},
   "source": [
    "### test"
   ]
  },
  {
   "cell_type": "code",
   "execution_count": 194,
   "metadata": {},
   "outputs": [
    {
     "name": "stderr",
     "output_type": "stream",
     "text": [
      "100%|██████████████████████████████████████████████████████████████████████████| 15000/15000 [00:02<00:00, 5147.90it/s]\n"
     ]
    },
    {
     "name": "stdout",
     "output_type": "stream",
     "text": [
      "15000\n",
      "300\n"
     ]
    }
   ],
   "source": [
    "avg_w2v_vectors_essay_test = []; # the avg-w2v for each sentence/review is stored in this list\n",
    "for sentence in tqdm(preprocessed_essays_test): # for each review/sentence\n",
    "    vector = np.zeros(300) # as word vectors are of zero length\n",
    "    cnt_words =0; # num of words with a valid vector in the sentence/review\n",
    "    for word in sentence.split(): # for each word in a review/sentence\n",
    "        if word in glove_words:\n",
    "            vector += model[word]\n",
    "            cnt_words += 1\n",
    "    if cnt_words != 0:\n",
    "        vector /= cnt_words\n",
    "    avg_w2v_vectors_essay_test.append(vector)\n",
    "\n",
    "print(len(avg_w2v_vectors_essay_test))\n",
    "print(len(avg_w2v_vectors_essay_test[0]))"
   ]
  },
  {
   "cell_type": "markdown",
   "metadata": {},
   "source": [
    "# TF-IDF weighted avg W2VEC"
   ]
  },
  {
   "cell_type": "markdown",
   "metadata": {},
   "source": [
    "### TITLE"
   ]
  },
  {
   "cell_type": "markdown",
   "metadata": {},
   "source": [
    "### train"
   ]
  },
  {
   "cell_type": "code",
   "execution_count": 195,
   "metadata": {},
   "outputs": [
    {
     "name": "stderr",
     "output_type": "stream",
     "text": [
      "100%|█████████████████████████████████████████████████████████████████████████| 35000/35000 [00:00<00:00, 54535.57it/s]\n"
     ]
    },
    {
     "name": "stdout",
     "output_type": "stream",
     "text": [
      "35000\n",
      "300\n"
     ]
    }
   ],
   "source": [
    "tfidf_model = TfidfVectorizer()\n",
    "tfidf_model.fit(preprocessed_title_train)\n",
    "# we are converting a dictionary with word as a key, and the idf as a value\n",
    "dictionary = dict(zip(tfidf_model.get_feature_names(), list(tfidf_model.idf_)))\n",
    "tfidf_words = set(tfidf_model.get_feature_names())\n",
    "\n",
    "\n",
    "tfidf_w2v_vectors_title_train = []; # the avg-w2v for each sentence/review is stored in this list\n",
    "for sentence in tqdm(preprocessed_title_train): # for each review/sentence\n",
    "    vector = np.zeros(300) # as word vectors are of zero length\n",
    "    tf_idf_weight =0; # num of words with a valid vector in the sentence/review\n",
    "    for word in sentence.split(): # for each word in a review/sentence\n",
    "        if (word in glove_words) and (word in tfidf_words):\n",
    "            vec = model[word] # getting the vector for each word\n",
    "            # here we are multiplying idf value(dictionary[word]) and the tf value((sentence.count(word)/len(sentence.split())))\n",
    "            tf_idf = dictionary[word]*(sentence.count(word)/len(sentence.split())) # getting the tfidf value for each word\n",
    "            vector += (vec * tf_idf) # calculating tfidf weighted w2v\n",
    "            tf_idf_weight += tf_idf\n",
    "    if tf_idf_weight != 0:\n",
    "        vector /= tf_idf_weight\n",
    "    tfidf_w2v_vectors_title_train.append(vector)\n",
    "\n",
    "print(len(tfidf_w2v_vectors_title_train))\n",
    "print(len(tfidf_w2v_vectors_title_train[0]))"
   ]
  },
  {
   "cell_type": "markdown",
   "metadata": {},
   "source": [
    "### test"
   ]
  },
  {
   "cell_type": "code",
   "execution_count": 196,
   "metadata": {},
   "outputs": [
    {
     "name": "stderr",
     "output_type": "stream",
     "text": [
      "100%|█████████████████████████████████████████████████████████████████████████| 15000/15000 [00:00<00:00, 57922.40it/s]\n"
     ]
    },
    {
     "name": "stdout",
     "output_type": "stream",
     "text": [
      "15000\n",
      "300\n"
     ]
    }
   ],
   "source": [
    "tfidf_model = TfidfVectorizer()\n",
    "tfidf_model.fit(preprocessed_title_test)\n",
    "# we are converting a dictionary with word as a key, and the idf as a value\n",
    "dictionary = dict(zip(tfidf_model.get_feature_names(), list(tfidf_model.idf_)))\n",
    "tfidf_words = set(tfidf_model.get_feature_names())\n",
    "\n",
    "\n",
    "tfidf_w2v_vectors_title_test = []; # the avg-w2v for each sentence/review is stored in this list\n",
    "for sentence in tqdm(preprocessed_title_test): # for each review/sentence\n",
    "    vector = np.zeros(300) # as word vectors are of zero length\n",
    "    tf_idf_weight =0; # num of words with a valid vector in the sentence/review\n",
    "    for word in sentence.split(): # for each word in a review/sentence\n",
    "        if (word in glove_words) and (word in tfidf_words):\n",
    "            vec = model[word] # getting the vector for each word\n",
    "            # here we are multiplying idf value(dictionary[word]) and the tf value((sentence.count(word)/len(sentence.split())))\n",
    "            tf_idf = dictionary[word]*(sentence.count(word)/len(sentence.split())) # getting the tfidf value for each word\n",
    "            vector += (vec * tf_idf) # calculating tfidf weighted w2v\n",
    "            tf_idf_weight += tf_idf\n",
    "    if tf_idf_weight != 0:\n",
    "        vector /= tf_idf_weight\n",
    "    tfidf_w2v_vectors_title_test.append(vector)\n",
    "\n",
    "print(len(tfidf_w2v_vectors_title_test))\n",
    "print(len(tfidf_w2v_vectors_title_test[0]))"
   ]
  },
  {
   "cell_type": "markdown",
   "metadata": {},
   "source": [
    "### ESSAY"
   ]
  },
  {
   "cell_type": "markdown",
   "metadata": {},
   "source": [
    "### train"
   ]
  },
  {
   "cell_type": "code",
   "execution_count": 197,
   "metadata": {},
   "outputs": [
    {
     "name": "stderr",
     "output_type": "stream",
     "text": [
      "100%|███████████████████████████████████████████████████████████████████████████| 35000/35000 [00:52<00:00, 660.91it/s]\n"
     ]
    },
    {
     "name": "stdout",
     "output_type": "stream",
     "text": [
      "35000\n",
      "300\n"
     ]
    }
   ],
   "source": [
    "tfidf_model = TfidfVectorizer()\n",
    "tfidf_model.fit(preprocessed_essays_train)\n",
    "# we are converting a dictionary with word as a key, and the idf as a value\n",
    "dictionary = dict(zip(tfidf_model.get_feature_names(), list(tfidf_model.idf_)))\n",
    "tfidf_words = set(tfidf_model.get_feature_names())\n",
    "\n",
    "tfidf_w2v_vectors2_essay_train = []; # the avg-w2v for each sentence/review is stored in this list\n",
    "for sentence in tqdm(preprocessed_essays_train): # for each review/sentence\n",
    "    vector = np.zeros(300) # as word vectors are of zero length\n",
    "    tf_idf_weight =0; # num of words with a valid vector in the sentence/review\n",
    "    for word in sentence.split(): # for each word in a review/sentence\n",
    "        if (word in glove_words) and (word in tfidf_words):\n",
    "            vec = model[word] # getting the vector for each word\n",
    "            # here we are multiplying idf value(dictionary[word]) and the tf value((sentence.count(word)/len(sentence.split())))\n",
    "            tf_idf = dictionary[word]*(sentence.count(word)/len(sentence.split())) # getting the tfidf value for each word\n",
    "            vector += (vec * tf_idf) # calculating tfidf weighted w2v\n",
    "            tf_idf_weight += tf_idf\n",
    "    if tf_idf_weight != 0:\n",
    "        vector /= tf_idf_weight\n",
    "    tfidf_w2v_vectors2_essay_train.append(vector)\n",
    "\n",
    "print(len(tfidf_w2v_vectors2_essay_train))\n",
    "print(len(tfidf_w2v_vectors2_essay_train[0]))"
   ]
  },
  {
   "cell_type": "markdown",
   "metadata": {},
   "source": [
    "### test"
   ]
  },
  {
   "cell_type": "code",
   "execution_count": 198,
   "metadata": {},
   "outputs": [
    {
     "name": "stderr",
     "output_type": "stream",
     "text": [
      "100%|███████████████████████████████████████████████████████████████████████████| 15000/15000 [00:22<00:00, 680.02it/s]\n"
     ]
    },
    {
     "name": "stdout",
     "output_type": "stream",
     "text": [
      "15000\n",
      "300\n"
     ]
    }
   ],
   "source": [
    "fidf_model = TfidfVectorizer()\n",
    "tfidf_model.fit(preprocessed_essays_test)\n",
    "# we are converting a dictionary with word as a key, and the idf as a value\n",
    "dictionary = dict(zip(tfidf_model.get_feature_names(), list(tfidf_model.idf_)))\n",
    "tfidf_words = set(tfidf_model.get_feature_names())\n",
    "\n",
    "tfidf_w2v_vectors2_essay_test = []; # the avg-w2v for each sentence/review is stored in this list\n",
    "for sentence in tqdm(preprocessed_essays_test): # for each review/sentence\n",
    "    vector = np.zeros(300) # as word vectors are of zero length\n",
    "    tf_idf_weight =0; # num of words with a valid vector in the sentence/review\n",
    "    for word in sentence.split(): # for each word in a review/sentence\n",
    "        if (word in glove_words) and (word in tfidf_words):\n",
    "            vec = model[word] # getting the vector for each word\n",
    "            # here we are multiplying idf value(dictionary[word]) and the tf value((sentence.count(word)/len(sentence.split())))\n",
    "            tf_idf = dictionary[word]*(sentence.count(word)/len(sentence.split())) # getting the tfidf value for each word\n",
    "            vector += (vec * tf_idf) # calculating tfidf weighted w2v\n",
    "            tf_idf_weight += tf_idf\n",
    "    if tf_idf_weight != 0:\n",
    "        vector /= tf_idf_weight\n",
    "    tfidf_w2v_vectors2_essay_test.append(vector)\n",
    "\n",
    "print(len(tfidf_w2v_vectors2_essay_test))\n",
    "print(len(tfidf_w2v_vectors2_essay_test[0]))"
   ]
  },
  {
   "cell_type": "code",
   "execution_count": 199,
   "metadata": {},
   "outputs": [
    {
     "data": {
      "text/html": [
       "<div>\n",
       "<style scoped>\n",
       "    .dataframe tbody tr th:only-of-type {\n",
       "        vertical-align: middle;\n",
       "    }\n",
       "\n",
       "    .dataframe tbody tr th {\n",
       "        vertical-align: top;\n",
       "    }\n",
       "\n",
       "    .dataframe thead th {\n",
       "        text-align: right;\n",
       "    }\n",
       "</style>\n",
       "<table border=\"1\" class=\"dataframe\">\n",
       "  <thead>\n",
       "    <tr style=\"text-align: right;\">\n",
       "      <th></th>\n",
       "      <th>id</th>\n",
       "      <th>teacher_id</th>\n",
       "      <th>teacher_prefix</th>\n",
       "      <th>school_state</th>\n",
       "      <th>project_submitted_datetime</th>\n",
       "      <th>project_grade_category</th>\n",
       "      <th>project_title</th>\n",
       "      <th>project_resource_summary</th>\n",
       "      <th>teacher_number_of_previously_posted_projects</th>\n",
       "      <th>quantity</th>\n",
       "      <th>essay</th>\n",
       "      <th>clean_subject_categories</th>\n",
       "      <th>clean_subject_subcategories</th>\n",
       "      <th>price_standardized</th>\n",
       "      <th>negative</th>\n",
       "      <th>positive</th>\n",
       "      <th>neutral</th>\n",
       "      <th>compound</th>\n",
       "    </tr>\n",
       "  </thead>\n",
       "  <tbody>\n",
       "    <tr>\n",
       "      <td>0</td>\n",
       "      <td>p033403</td>\n",
       "      <td>02c6e4d311ec2902505b925c60da168e</td>\n",
       "      <td>Mrs.</td>\n",
       "      <td>OK</td>\n",
       "      <td>26-11-2016 21:58</td>\n",
       "      <td>Grades PreK-2</td>\n",
       "      <td>Go BEYOND Writing: Let's PRINT IT!</td>\n",
       "      <td>My students need printer ink cartridges to hel...</td>\n",
       "      <td>33</td>\n",
       "      <td>11</td>\n",
       "      <td>I have 40 wonderful smiling, friendly faces gr...</td>\n",
       "      <td>AppliedLearning Literacy_Language</td>\n",
       "      <td>EarlyDevelopment Literature_Writing</td>\n",
       "      <td>-0.561399</td>\n",
       "      <td>0.062</td>\n",
       "      <td>0.334</td>\n",
       "      <td>0.604</td>\n",
       "      <td>0.9929</td>\n",
       "    </tr>\n",
       "    <tr>\n",
       "      <td>1</td>\n",
       "      <td>p242112</td>\n",
       "      <td>c8b5f3c9ff076263e710a1a66bda1e00</td>\n",
       "      <td>Mrs.</td>\n",
       "      <td>FL</td>\n",
       "      <td>10-04-2017 15:13</td>\n",
       "      <td>Grades PreK-2</td>\n",
       "      <td>Let's Get Reading</td>\n",
       "      <td>My students need books and a special wiggle ch...</td>\n",
       "      <td>2</td>\n",
       "      <td>16</td>\n",
       "      <td>My students love to learn, we are always readi...</td>\n",
       "      <td>Literacy_Language</td>\n",
       "      <td>Literature_Writing</td>\n",
       "      <td>-0.443849</td>\n",
       "      <td>0.016</td>\n",
       "      <td>0.407</td>\n",
       "      <td>0.577</td>\n",
       "      <td>0.9944</td>\n",
       "    </tr>\n",
       "    <tr>\n",
       "      <td>2</td>\n",
       "      <td>p138771</td>\n",
       "      <td>fa39d803656474a3d95a531c4493e88d</td>\n",
       "      <td>Ms.</td>\n",
       "      <td>ME</td>\n",
       "      <td>14-02-2017 11:55</td>\n",
       "      <td>Grades 3-5</td>\n",
       "      <td>Hear it!! Interact with it!! Learn it!!!</td>\n",
       "      <td>My students need comfortable headphones with n...</td>\n",
       "      <td>0</td>\n",
       "      <td>25</td>\n",
       "      <td>My classroom is a multi-grade leveled support ...</td>\n",
       "      <td>Literacy_Language</td>\n",
       "      <td>Literature_Writing</td>\n",
       "      <td>-0.737222</td>\n",
       "      <td>0.071</td>\n",
       "      <td>0.329</td>\n",
       "      <td>0.600</td>\n",
       "      <td>0.9927</td>\n",
       "    </tr>\n",
       "    <tr>\n",
       "      <td>3</td>\n",
       "      <td>p258622</td>\n",
       "      <td>1bdbed20521d6a8cf6a99f761d797a5d</td>\n",
       "      <td>Ms.</td>\n",
       "      <td>OR</td>\n",
       "      <td>31-05-2016 18:18</td>\n",
       "      <td>Grades 6-8</td>\n",
       "      <td>Chromebooks for our library!</td>\n",
       "      <td>My students need computers!  As we shift towar...</td>\n",
       "      <td>0</td>\n",
       "      <td>8</td>\n",
       "      <td>Students at Hosford are a diverse bunch of stu...</td>\n",
       "      <td>Literacy_Language AppliedLearning</td>\n",
       "      <td>Literacy Other</td>\n",
       "      <td>-0.165969</td>\n",
       "      <td>0.055</td>\n",
       "      <td>0.066</td>\n",
       "      <td>0.879</td>\n",
       "      <td>0.4610</td>\n",
       "    </tr>\n",
       "    <tr>\n",
       "      <td>4</td>\n",
       "      <td>p122785</td>\n",
       "      <td>1f45d4820dd3424dedd474556af5a1b1</td>\n",
       "      <td>Mrs.</td>\n",
       "      <td>MN</td>\n",
       "      <td>05-10-2016 20:06</td>\n",
       "      <td>Grades 3-5</td>\n",
       "      <td>Pint-Sized Picassos Seek Art Supplies!</td>\n",
       "      <td>My students need these supplies to make amazin...</td>\n",
       "      <td>1</td>\n",
       "      <td>56</td>\n",
       "      <td>My students are thinkers, dreamers, readers, c...</td>\n",
       "      <td>Music_Arts</td>\n",
       "      <td>VisualArts</td>\n",
       "      <td>-0.479172</td>\n",
       "      <td>0.033</td>\n",
       "      <td>0.338</td>\n",
       "      <td>0.630</td>\n",
       "      <td>0.9913</td>\n",
       "    </tr>\n",
       "  </tbody>\n",
       "</table>\n",
       "</div>"
      ],
      "text/plain": [
       "        id                        teacher_id teacher_prefix school_state  \\\n",
       "0  p033403  02c6e4d311ec2902505b925c60da168e           Mrs.           OK   \n",
       "1  p242112  c8b5f3c9ff076263e710a1a66bda1e00           Mrs.           FL   \n",
       "2  p138771  fa39d803656474a3d95a531c4493e88d            Ms.           ME   \n",
       "3  p258622  1bdbed20521d6a8cf6a99f761d797a5d            Ms.           OR   \n",
       "4  p122785  1f45d4820dd3424dedd474556af5a1b1           Mrs.           MN   \n",
       "\n",
       "  project_submitted_datetime project_grade_category  \\\n",
       "0           26-11-2016 21:58          Grades PreK-2   \n",
       "1           10-04-2017 15:13          Grades PreK-2   \n",
       "2           14-02-2017 11:55             Grades 3-5   \n",
       "3           31-05-2016 18:18             Grades 6-8   \n",
       "4           05-10-2016 20:06             Grades 3-5   \n",
       "\n",
       "                              project_title  \\\n",
       "0        Go BEYOND Writing: Let's PRINT IT!   \n",
       "1                         Let's Get Reading   \n",
       "2  Hear it!! Interact with it!! Learn it!!!   \n",
       "3              Chromebooks for our library!   \n",
       "4    Pint-Sized Picassos Seek Art Supplies!   \n",
       "\n",
       "                            project_resource_summary  \\\n",
       "0  My students need printer ink cartridges to hel...   \n",
       "1  My students need books and a special wiggle ch...   \n",
       "2  My students need comfortable headphones with n...   \n",
       "3  My students need computers!  As we shift towar...   \n",
       "4  My students need these supplies to make amazin...   \n",
       "\n",
       "   teacher_number_of_previously_posted_projects  quantity  \\\n",
       "0                                            33        11   \n",
       "1                                             2        16   \n",
       "2                                             0        25   \n",
       "3                                             0         8   \n",
       "4                                             1        56   \n",
       "\n",
       "                                               essay  \\\n",
       "0  I have 40 wonderful smiling, friendly faces gr...   \n",
       "1  My students love to learn, we are always readi...   \n",
       "2  My classroom is a multi-grade leveled support ...   \n",
       "3  Students at Hosford are a diverse bunch of stu...   \n",
       "4  My students are thinkers, dreamers, readers, c...   \n",
       "\n",
       "            clean_subject_categories          clean_subject_subcategories  \\\n",
       "0  AppliedLearning Literacy_Language  EarlyDevelopment Literature_Writing   \n",
       "1                  Literacy_Language                   Literature_Writing   \n",
       "2                  Literacy_Language                   Literature_Writing   \n",
       "3  Literacy_Language AppliedLearning                       Literacy Other   \n",
       "4                         Music_Arts                           VisualArts   \n",
       "\n",
       "   price_standardized  negative  positive  neutral  compound  \n",
       "0           -0.561399     0.062     0.334    0.604    0.9929  \n",
       "1           -0.443849     0.016     0.407    0.577    0.9944  \n",
       "2           -0.737222     0.071     0.329    0.600    0.9927  \n",
       "3           -0.165969     0.055     0.066    0.879    0.4610  \n",
       "4           -0.479172     0.033     0.338    0.630    0.9913  "
      ]
     },
     "execution_count": 199,
     "metadata": {},
     "output_type": "execute_result"
    }
   ],
   "source": [
    "# removing project_essay_1/2/3/4 features from main dataset, and keeping only one combined essay feature.\n",
    "\n",
    "n_new_project_data_train.pop('project_essay_1')\n",
    "n_new_project_data_train.pop('project_essay_2')\n",
    "n_new_project_data_train.pop('project_essay_3')\n",
    "n_new_project_data_train.pop('project_essay_4')\n",
    "\n",
    "n_new_project_data_test.pop('project_essay_1')\n",
    "n_new_project_data_test.pop('project_essay_2')\n",
    "n_new_project_data_test.pop('project_essay_3')\n",
    "n_new_project_data_test.pop('project_essay_4')\n",
    "\n",
    "n_new_project_data_train.head()"
   ]
  },
  {
   "cell_type": "markdown",
   "metadata": {},
   "source": [
    "<h1><font color='red'>Observartion:</font></h1>\n",
    "<li>Data is divided in train, test and cv before processing the data, and the cleaning process are stated neately (above) for all of them.</li>\n",
    "<li>Text data is processed by glove model.</li>\n",
    "<li>After processing essay 1/2/3/4 and combining them original essays were deleted from dataframe.</li>"
   ]
  }
 ],
 "metadata": {
  "kernelspec": {
   "display_name": "TensorFlow-GPU-1.13",
   "language": "python",
   "name": "tf-gpu"
  },
  "language_info": {
   "codemirror_mode": {
    "name": "ipython",
    "version": 3
   },
   "file_extension": ".py",
   "mimetype": "text/x-python",
   "name": "python",
   "nbconvert_exporter": "python",
   "pygments_lexer": "ipython3",
   "version": "3.7.4"
  }
 },
 "nbformat": 4,
 "nbformat_minor": 2
}
