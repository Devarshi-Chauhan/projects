{
 "cells": [
  {
   "cell_type": "markdown",
   "metadata": {},
   "source": [
    "## FeedForwardNetwork(FFN)"
   ]
  },
  {
   "cell_type": "markdown",
   "metadata": {},
   "source": [
    "Some functions will be used that were previously defined in Data Exploration file."
   ]
  },
  {
   "cell_type": "code",
   "execution_count": 1,
   "metadata": {},
   "outputs": [
    {
     "name": "stderr",
     "output_type": "stream",
     "text": [
      "C:\\Users\\DEVARSHI\\Anaconda3\\envs\\tf-gpu\\lib\\site-packages\\librosa\\util\\decorators.py:9: NumbaDeprecationWarning: \u001b[1mAn import was requested from a module that has moved location.\n",
      "Import requested from: 'numba.decorators', please update to use 'numba.core.decorators' or pin to Numba version 0.48.0. This alias will not be present in Numba version 0.50.0.\u001b[0m\n",
      "  from numba.decorators import jit as optional_jit\n",
      "C:\\Users\\DEVARSHI\\Anaconda3\\envs\\tf-gpu\\lib\\site-packages\\librosa\\util\\decorators.py:9: NumbaDeprecationWarning: \u001b[1mAn import was requested from a module that has moved location.\n",
      "Import of 'jit' requested from: 'numba.decorators', please update to use 'numba.core.decorators' or pin to Numba version 0.48.0. This alias will not be present in Numba version 0.50.0.\u001b[0m\n",
      "  from numba.decorators import jit as optional_jit\n"
     ]
    }
   ],
   "source": [
    "import librosa\n",
    "import numpy as np\n",
    "import pandas as pd\n",
    "import matplotlib.pyplot as plt\n",
    "import os\n",
    "from sklearn.preprocessing import LabelEncoder\n",
    "from sklearn.metrics import precision_score, recall_score, f1_score, confusion_matrix"
   ]
  },
  {
   "cell_type": "markdown",
   "metadata": {},
   "source": [
    "Here we are using feature extraction methods by appling librosa python library. The Methods involved are:\n",
    "\n",
    "- Mel-frequency cepstral coefficients (MFCC): representation of the short-term power spectrum of a sound\n",
    "- melspectrogram: Coefficients that collectively make up an mel-frequency cepstrum\n",
    "- Chromagram of a short-time Fourier transform (chroma_stft): Projects into bins representing the 12 distinct semitones of the musical octave\n",
    "- spectral_contrast (Octave-based spectral contrast) : Distribution of sound energy over octave frequencies \n",
    "- Tonnetz: Estimates tonal centroids features"
   ]
  },
  {
   "cell_type": "code",
   "execution_count": 2,
   "metadata": {},
   "outputs": [],
   "source": [
    "def extract_features(file_name):\n",
    "    X, sr = librosa.load(file_name)\n",
    "    stft = np.abs(librosa.stft(X)) #Short-time Fourier transform (STFT)\n",
    "    mfccs = np.mean(librosa.feature.mfcc(y=X, sr=sr, n_mfcc=40).T,axis=0)\n",
    "    chroma = np.mean(librosa.feature.chroma_stft(S=stft, sr=sr).T,axis=0)\n",
    "    mel = np.mean(librosa.feature.melspectrogram(X, sr=sr).T,axis=0)\n",
    "    contrast = np.mean(librosa.feature.spectral_contrast(S=stft, sr=sr).T,axis=0)\n",
    "    tonnetz = np.mean(librosa.feature.tonnetz(y=librosa.effects.harmonic(X), sr=sr).T,axis=0)\n",
    "    return mfccs,chroma,mel,contrast,tonnetz\n",
    "\n",
    "def parse_file(filename):\n",
    "    mfccs, chroma, mel, contrast, tonnetz = extract_features(filename)\n",
    "    features = np.hstack([mfccs,chroma,mel,contrast,tonnetz])\n",
    "    return features"
   ]
  },
  {
   "cell_type": "markdown",
   "metadata": {},
   "source": [
    "Now lets test the dimensionality reduction with a sample file"
   ]
  },
  {
   "cell_type": "code",
   "execution_count": 3,
   "metadata": {
    "scrolled": false
   },
   "outputs": [
    {
     "name": "stdout",
     "output_type": "stream",
     "text": [
      "Initial Data Points: 786436\n",
      "------------------------------\n",
      "MFCSS features:  40\n",
      "Chroma features:  12\n",
      "Mel spectogram features:  128\n",
      "Contrast features:  7\n",
      "Tonnetz features:  6\n",
      "Combined extracted features: 193\n"
     ]
    }
   ],
   "source": [
    "def sample(filename):\n",
    "    data_points, _ = librosa.load(filename)\n",
    "    print (\"Initial Data Points:\", len(data_points))\n",
    "    print('-'*30)\n",
    "    \n",
    "    mfccs, chroma, mel, contrast, tonnetz = extract_features(filename)\n",
    "    all_features = np.hstack((mfccs,chroma,mel,contrast,tonnetz))\n",
    "    print (\"MFCSS features: \", len(mfccs))\n",
    "    print (\"Chroma features: \", len(chroma))\n",
    "    print (\"Mel spectogram features: \", len(mel))\n",
    "    print (\"Contrast features: \", len(contrast))\n",
    "    print (\"Tonnetz features: \", len(tonnetz))\n",
    "    print (\"Combined extracted features:\", len(all_features))\n",
    "\n",
    "test = r'C:\\Users\\DEVARSHI\\Desktop\\heartbeats-master\\heartbeats-master\\data\\physionet\\training-a\\a0001.wav'\n",
    "sample(test)"
   ]
  },
  {
   "cell_type": "markdown",
   "metadata": {},
   "source": [
    "- 5 features will result in a vector of 193 value. This vector will always have the same length even if the audio files are of different length. \n",
    "\n",
    "- As it can be observed the input sound file had 786436 data point which is derived from sampaling rate of 22050 and it was reduced to 193 dimention points."
   ]
  },
  {
   "cell_type": "code",
   "execution_count": 4,
   "metadata": {},
   "outputs": [],
   "source": [
    "def parse_files(paths):\n",
    "    \n",
    "    save_path = os.path.join('data', 'physionet', 'reduced_features') # It will make new folder named reduced_features \n",
    "                                                                      # and saves .npy file \n",
    "    for path, df_name in paths:\n",
    "        csv_path = os.path.join(path, 'REFERENCE.csv')\n",
    "        df = pd.read_csv(csv_path, names = ['file', 'target'])\n",
    "        df['file'] = df['file'].apply(lambda f: os.path.join(path,f + '.wav'))\n",
    "        df['features'] = df['file'].apply(parse_file)\n",
    "        df['target'] = df['target'].apply(lambda x: 1 if x == -1 else 0)\n",
    "        \n",
    "        feature_file = os.path.join(save_path, df_name + '_x.npy')\n",
    "        label_file = os.path.join(save_path, df_name + '_y.npy')\n",
    "        np.save(feature_file, np.array(df['features'].tolist()))\n",
    "        np.save(label_file, np.array(df['target'].tolist()))\n",
    "        \n",
    "paths = [(os.path.join('data', 'physionet', 'training-a'), 'df_a'),\n",
    "         (os.path.join('data', 'physionet', 'training-b'), 'df_b'), \n",
    "         (os.path.join('data', 'physionet', 'training-c'), 'df_c'),\n",
    "         (os.path.join('data', 'physionet', 'training-d'), 'df_d'),\n",
    "         (os.path.join('data', 'physionet', 'training-e'), 'df_e')]\n",
    "\n",
    "\n",
    "#parse_files(paths)    # comment out this if you already have reduce feature files."
   ]
  },
  {
   "cell_type": "code",
   "execution_count": 5,
   "metadata": {},
   "outputs": [
    {
     "name": "stderr",
     "output_type": "stream",
     "text": [
      "100%|████████████████████████████████████████████████████████████████████████████████████| 5/5 [00:00<00:00, 77.10it/s]\n"
     ]
    }
   ],
   "source": [
    "npfiles = [('df_a_x.npy','df_a_y.npy'),\n",
    "           ('df_b_x.npy','df_b_y.npy'),\n",
    "           ('df_c_x.npy','df_c_y.npy'),\n",
    "           ('df_d_x.npy','df_d_y.npy'),\n",
    "           ('df_e_x.npy','df_e_y.npy')]\n",
    "\n",
    "data_save = r'C:\\Users\\DEVARSHI\\Desktop\\heartbeats-master\\heartbeats-master\\data\\physionet\\reduced_features'\n",
    "\n",
    "from tqdm import tqdm\n",
    "\n",
    "def load_npfiles(npfiles):\n",
    "    concatenate = False\n",
    "    for x, y in tqdm(npfiles):\n",
    "        loaded_features = np.load(os.path.join(data_save, x))\n",
    "        loaded_labels = np.load(os.path.join(data_save, y))\n",
    "       \n",
    "        if concatenate:\n",
    "            features = np.concatenate((features, loaded_features))\n",
    "            labels = np.concatenate((labels, loaded_labels))\n",
    "        else:\n",
    "            features = loaded_features\n",
    "            labels = loaded_labels\n",
    "            concatenate = True\n",
    "    return features, labels\n",
    "    \n",
    "X, y = load_npfiles(npfiles)"
   ]
  },
  {
   "cell_type": "markdown",
   "metadata": {},
   "source": [
    "### Training Neural Network"
   ]
  },
  {
   "cell_type": "markdown",
   "metadata": {},
   "source": [
    "First we will split the dataset into training and testing."
   ]
  },
  {
   "cell_type": "code",
   "execution_count": 6,
   "metadata": {},
   "outputs": [],
   "source": [
    "from sklearn.model_selection import train_test_split\n",
    "x_train, x_test, y_train, y_test = train_test_split(X, y, test_size=0.25, random_state=42)"
   ]
  },
  {
   "cell_type": "code",
   "execution_count": 7,
   "metadata": {},
   "outputs": [
    {
     "name": "stderr",
     "output_type": "stream",
     "text": [
      "Using TensorFlow backend.\n"
     ]
    }
   ],
   "source": [
    "from keras.models import Sequential\n",
    "from keras import layers\n",
    "import tensorflow as tf\n",
    "import keras.backend as K\n",
    "from tensorflow.keras import initializers\n",
    "\n",
    "\n",
    "def create_model(dropout_rate=0.2):\n",
    "    model = Sequential()\n",
    "    model.add(layers.Dense(32, activation='relu', input_shape = (193,)))\n",
    "    model.add(layers.Dense(32, activation='relu'))\n",
    "    model.add(layers.Dropout(dropout_rate))\n",
    "    model.add(layers.Dense(1, activation='sigmoid'))\n",
    "    model.compile(optimizer='adam', loss='binary_crossentropy', metrics=['accuracy'])\n",
    "    return model"
   ]
  },
  {
   "cell_type": "code",
   "execution_count": 8,
   "metadata": {},
   "outputs": [],
   "source": [
    "model = create_model()"
   ]
  },
  {
   "cell_type": "markdown",
   "metadata": {},
   "source": [
    "Here 3 layers are used, in which first and second layer has 32 neurons with dense connections and last layer has 1 neuron. Activation fuctionis relu and sigmoid respectively. Drope out rate is set to 20%, which will randomly ignore 20% connection of dense network. Optimizer is Adam for faster convergence."
   ]
  },
  {
   "cell_type": "markdown",
   "metadata": {},
   "source": [
    "### Training model"
   ]
  },
  {
   "cell_type": "code",
   "execution_count": 9,
   "metadata": {
    "scrolled": true
   },
   "outputs": [
    {
     "name": "stdout",
     "output_type": "stream",
     "text": [
      "Train on 2344 samples, validate on 782 samples\n",
      "Epoch 1/40\n",
      "2344/2344 [==============================] - ETA: 1:02 - loss: 9.2746 - accuracy: 0.50 - ETA: 3s - loss: 4.4436 - accuracy: 0.6949 - ETA: 1s - loss: 3.6119 - accuracy: 0.71 - ETA: 0s - loss: 3.2126 - accuracy: 0.72 - 1s 478us/step - loss: 2.8357 - accuracy: 0.7257 - val_loss: 0.8934 - val_accuracy: 0.8159\n",
      "Epoch 2/40\n",
      "2344/2344 [==============================] - ETA: 0s - loss: 1.1905 - accuracy: 0.81 - ETA: 0s - loss: 1.3358 - accuracy: 0.73 - ETA: 0s - loss: 1.1257 - accuracy: 0.75 - ETA: 0s - loss: 0.9827 - accuracy: 0.77 - 0s 99us/step - loss: 0.9204 - accuracy: 0.7773 - val_loss: 0.5162 - val_accuracy: 0.8402\n",
      "Epoch 3/40\n",
      "2344/2344 [==============================] - ETA: 0s - loss: 0.3790 - accuracy: 0.84 - ETA: 0s - loss: 0.5402 - accuracy: 0.80 - ETA: 0s - loss: 0.5456 - accuracy: 0.81 - ETA: 0s - loss: 0.5375 - accuracy: 0.80 - 0s 99us/step - loss: 0.5182 - accuracy: 0.8003 - val_loss: 0.4996 - val_accuracy: 0.8402\n",
      "Epoch 4/40\n",
      "2344/2344 [==============================] - ETA: 0s - loss: 0.5991 - accuracy: 0.81 - ETA: 0s - loss: 0.3746 - accuracy: 0.83 - ETA: 0s - loss: 0.3767 - accuracy: 0.83 - ETA: 0s - loss: 0.3787 - accuracy: 0.83 - 0s 99us/step - loss: 0.3823 - accuracy: 0.8298 - val_loss: 0.4360 - val_accuracy: 0.8440\n",
      "Epoch 5/40\n",
      "2344/2344 [==============================] - ETA: 0s - loss: 0.3606 - accuracy: 0.87 - ETA: 0s - loss: 0.3512 - accuracy: 0.85 - ETA: 0s - loss: 0.3634 - accuracy: 0.84 - ETA: 0s - loss: 0.3478 - accuracy: 0.84 - 0s 100us/step - loss: 0.3519 - accuracy: 0.8430 - val_loss: 0.3846 - val_accuracy: 0.8581\n",
      "Epoch 6/40\n",
      "2344/2344 [==============================] - ETA: 0s - loss: 0.3679 - accuracy: 0.71 - ETA: 0s - loss: 0.3353 - accuracy: 0.83 - ETA: 0s - loss: 0.3349 - accuracy: 0.83 - ETA: 0s - loss: 0.3321 - accuracy: 0.83 - 0s 98us/step - loss: 0.3328 - accuracy: 0.8404 - val_loss: 0.3734 - val_accuracy: 0.8657\n",
      "Epoch 7/40\n",
      "2344/2344 [==============================] - ETA: 0s - loss: 0.2972 - accuracy: 0.84 - ETA: 0s - loss: 0.3449 - accuracy: 0.84 - ETA: 0s - loss: 0.3281 - accuracy: 0.85 - ETA: 0s - loss: 0.3219 - accuracy: 0.85 - 0s 94us/step - loss: 0.3220 - accuracy: 0.8532 - val_loss: 0.3387 - val_accuracy: 0.8708\n",
      "Epoch 8/40\n",
      "2344/2344 [==============================] - ETA: 0s - loss: 0.2136 - accuracy: 0.87 - ETA: 0s - loss: 0.3243 - accuracy: 0.84 - ETA: 0s - loss: 0.2938 - accuracy: 0.86 - ETA: 0s - loss: 0.3037 - accuracy: 0.85 - 0s 93us/step - loss: 0.3044 - accuracy: 0.8605 - val_loss: 0.3523 - val_accuracy: 0.8798\n",
      "Epoch 9/40\n",
      "2344/2344 [==============================] - ETA: 0s - loss: 0.3669 - accuracy: 0.81 - ETA: 0s - loss: 0.2979 - accuracy: 0.86 - ETA: 0s - loss: 0.2892 - accuracy: 0.86 - ETA: 0s - loss: 0.2864 - accuracy: 0.86 - 0s 93us/step - loss: 0.2978 - accuracy: 0.8665 - val_loss: 0.3554 - val_accuracy: 0.8721\n",
      "Epoch 10/40\n",
      "2344/2344 [==============================] - ETA: 0s - loss: 0.3273 - accuracy: 0.81 - ETA: 0s - loss: 0.2898 - accuracy: 0.86 - ETA: 0s - loss: 0.2745 - accuracy: 0.87 - ETA: 0s - loss: 0.2705 - accuracy: 0.87 - 0s 103us/step - loss: 0.2809 - accuracy: 0.8660 - val_loss: 0.3347 - val_accuracy: 0.8849\n",
      "Epoch 11/40\n",
      "2344/2344 [==============================] - ETA: 0s - loss: 0.2819 - accuracy: 0.84 - ETA: 0s - loss: 0.2597 - accuracy: 0.88 - ETA: 0s - loss: 0.2776 - accuracy: 0.87 - ETA: 0s - loss: 0.2787 - accuracy: 0.87 - 0s 92us/step - loss: 0.2752 - accuracy: 0.8759 - val_loss: 0.3580 - val_accuracy: 0.8785\n",
      "Epoch 12/40\n",
      "2344/2344 [==============================] - ETA: 0s - loss: 0.2609 - accuracy: 0.84 - ETA: 0s - loss: 0.2817 - accuracy: 0.88 - ETA: 0s - loss: 0.2776 - accuracy: 0.88 - ETA: 0s - loss: 0.2679 - accuracy: 0.88 - 0s 94us/step - loss: 0.2607 - accuracy: 0.8874 - val_loss: 0.3173 - val_accuracy: 0.8964\n",
      "Epoch 13/40\n",
      "2344/2344 [==============================] - ETA: 0s - loss: 0.2471 - accuracy: 0.90 - ETA: 0s - loss: 0.2738 - accuracy: 0.87 - ETA: 0s - loss: 0.2599 - accuracy: 0.88 - ETA: 0s - loss: 0.2647 - accuracy: 0.88 - 0s 94us/step - loss: 0.2610 - accuracy: 0.8823 - val_loss: 0.3006 - val_accuracy: 0.8862\n",
      "Epoch 14/40\n",
      "2344/2344 [==============================] - ETA: 0s - loss: 0.2879 - accuracy: 0.81 - ETA: 0s - loss: 0.2461 - accuracy: 0.90 - ETA: 0s - loss: 0.2403 - accuracy: 0.90 - ETA: 0s - loss: 0.2500 - accuracy: 0.89 - 0s 96us/step - loss: 0.2516 - accuracy: 0.8938 - val_loss: 0.3006 - val_accuracy: 0.8951\n",
      "Epoch 15/40\n",
      "2344/2344 [==============================] - ETA: 0s - loss: 0.1834 - accuracy: 0.93 - ETA: 0s - loss: 0.2571 - accuracy: 0.86 - ETA: 0s - loss: 0.2593 - accuracy: 0.87 - ETA: 0s - loss: 0.2552 - accuracy: 0.87 - 0s 94us/step - loss: 0.2560 - accuracy: 0.8801 - val_loss: 0.2952 - val_accuracy: 0.8849\n",
      "Epoch 16/40\n",
      "2344/2344 [==============================] - ETA: 0s - loss: 0.2367 - accuracy: 0.90 - ETA: 0s - loss: 0.2624 - accuracy: 0.87 - ETA: 0s - loss: 0.2508 - accuracy: 0.88 - ETA: 0s - loss: 0.2451 - accuracy: 0.88 - 0s 93us/step - loss: 0.2459 - accuracy: 0.8895 - val_loss: 0.3114 - val_accuracy: 0.8990\n",
      "Epoch 17/40\n",
      "2344/2344 [==============================] - ETA: 0s - loss: 0.2532 - accuracy: 0.93 - ETA: 0s - loss: 0.2435 - accuracy: 0.90 - ETA: 0s - loss: 0.2353 - accuracy: 0.90 - ETA: 0s - loss: 0.2376 - accuracy: 0.89 - 0s 94us/step - loss: 0.2339 - accuracy: 0.9010 - val_loss: 0.3069 - val_accuracy: 0.8862\n",
      "Epoch 18/40\n",
      "2344/2344 [==============================] - ETA: 0s - loss: 0.1883 - accuracy: 0.87 - ETA: 0s - loss: 0.2573 - accuracy: 0.88 - ETA: 0s - loss: 0.2466 - accuracy: 0.88 - ETA: 0s - loss: 0.2436 - accuracy: 0.88 - 0s 94us/step - loss: 0.2382 - accuracy: 0.8912 - val_loss: 0.3024 - val_accuracy: 0.8849\n",
      "Epoch 19/40\n",
      "2344/2344 [==============================] - ETA: 0s - loss: 0.3060 - accuracy: 0.84 - ETA: 0s - loss: 0.2533 - accuracy: 0.87 - ETA: 0s - loss: 0.2346 - accuracy: 0.88 - ETA: 0s - loss: 0.2338 - accuracy: 0.89 - 0s 94us/step - loss: 0.2343 - accuracy: 0.8951 - val_loss: 0.3023 - val_accuracy: 0.8900\n",
      "Epoch 20/40\n",
      "2344/2344 [==============================] - ETA: 0s - loss: 0.2623 - accuracy: 0.87 - ETA: 0s - loss: 0.2315 - accuracy: 0.88 - ETA: 0s - loss: 0.2368 - accuracy: 0.88 - ETA: 0s - loss: 0.2292 - accuracy: 0.89 - 0s 93us/step - loss: 0.2356 - accuracy: 0.8938 - val_loss: 0.3193 - val_accuracy: 0.8887\n",
      "Epoch 21/40\n",
      "2344/2344 [==============================] - ETA: 0s - loss: 0.1796 - accuracy: 0.90 - ETA: 0s - loss: 0.1969 - accuracy: 0.92 - ETA: 0s - loss: 0.2169 - accuracy: 0.90 - ETA: 0s - loss: 0.2292 - accuracy: 0.90 - 0s 92us/step - loss: 0.2262 - accuracy: 0.9044 - val_loss: 0.2903 - val_accuracy: 0.8887\n",
      "Epoch 22/40\n",
      "2344/2344 [==============================] - ETA: 0s - loss: 0.2156 - accuracy: 0.90 - ETA: 0s - loss: 0.2361 - accuracy: 0.89 - ETA: 0s - loss: 0.2285 - accuracy: 0.90 - ETA: 0s - loss: 0.2240 - accuracy: 0.91 - 0s 93us/step - loss: 0.2272 - accuracy: 0.9083 - val_loss: 0.3240 - val_accuracy: 0.8836\n",
      "Epoch 23/40\n",
      "2344/2344 [==============================] - ETA: 0s - loss: 0.3469 - accuracy: 0.87 - ETA: 0s - loss: 0.2341 - accuracy: 0.89 - ETA: 0s - loss: 0.2434 - accuracy: 0.88 - ETA: 0s - loss: 0.2272 - accuracy: 0.89 - ETA: 0s - loss: 0.2243 - accuracy: 0.90 - 0s 110us/step - loss: 0.2271 - accuracy: 0.9002 - val_loss: 0.2940 - val_accuracy: 0.8964\n",
      "Epoch 24/40\n",
      "2344/2344 [==============================] - ETA: 0s - loss: 0.3016 - accuracy: 0.87 - ETA: 0s - loss: 0.2234 - accuracy: 0.90 - ETA: 0s - loss: 0.2244 - accuracy: 0.90 - ETA: 0s - loss: 0.2210 - accuracy: 0.90 - ETA: 0s - loss: 0.2188 - accuracy: 0.90 - 0s 107us/step - loss: 0.2191 - accuracy: 0.9053 - val_loss: 0.2951 - val_accuracy: 0.8990\n",
      "Epoch 25/40\n",
      "2344/2344 [==============================] - ETA: 0s - loss: 0.3648 - accuracy: 0.75 - ETA: 0s - loss: 0.2352 - accuracy: 0.88 - ETA: 0s - loss: 0.2288 - accuracy: 0.89 - ETA: 0s - loss: 0.2250 - accuracy: 0.90 - 0s 94us/step - loss: 0.2222 - accuracy: 0.9032 - val_loss: 0.2991 - val_accuracy: 0.8964\n",
      "Epoch 26/40\n"
     ]
    },
    {
     "name": "stdout",
     "output_type": "stream",
     "text": [
      "2344/2344 [==============================] - ETA: 0s - loss: 0.0952 - accuracy: 1.00 - ETA: 0s - loss: 0.2065 - accuracy: 0.91 - ETA: 0s - loss: 0.2155 - accuracy: 0.90 - ETA: 0s - loss: 0.2170 - accuracy: 0.91 - 0s 94us/step - loss: 0.2259 - accuracy: 0.9061 - val_loss: 0.3189 - val_accuracy: 0.8964\n",
      "Epoch 27/40\n",
      "2344/2344 [==============================] - ETA: 0s - loss: 0.2680 - accuracy: 0.87 - ETA: 0s - loss: 0.2324 - accuracy: 0.90 - ETA: 0s - loss: 0.2228 - accuracy: 0.90 - ETA: 0s - loss: 0.2223 - accuracy: 0.90 - 0s 96us/step - loss: 0.2225 - accuracy: 0.9057 - val_loss: 0.2733 - val_accuracy: 0.8875\n",
      "Epoch 28/40\n",
      "2344/2344 [==============================] - ETA: 0s - loss: 0.1050 - accuracy: 0.96 - ETA: 0s - loss: 0.2188 - accuracy: 0.90 - ETA: 0s - loss: 0.2268 - accuracy: 0.89 - ETA: 0s - loss: 0.2294 - accuracy: 0.90 - 0s 93us/step - loss: 0.2322 - accuracy: 0.9019 - val_loss: 0.3403 - val_accuracy: 0.8824\n",
      "Epoch 29/40\n",
      "2344/2344 [==============================] - ETA: 0s - loss: 0.1887 - accuracy: 0.84 - ETA: 0s - loss: 0.2157 - accuracy: 0.90 - ETA: 0s - loss: 0.2221 - accuracy: 0.90 - ETA: 0s - loss: 0.2193 - accuracy: 0.90 - 0s 93us/step - loss: 0.2181 - accuracy: 0.9036 - val_loss: 0.3221 - val_accuracy: 0.9015\n",
      "Epoch 30/40\n",
      "2344/2344 [==============================] - ETA: 0s - loss: 0.2276 - accuracy: 0.93 - ETA: 0s - loss: 0.1925 - accuracy: 0.92 - ETA: 0s - loss: 0.2141 - accuracy: 0.90 - ETA: 0s - loss: 0.2151 - accuracy: 0.90 - 0s 93us/step - loss: 0.2117 - accuracy: 0.9057 - val_loss: 0.3088 - val_accuracy: 0.8990\n",
      "Epoch 31/40\n",
      "2344/2344 [==============================] - ETA: 0s - loss: 0.1167 - accuracy: 0.93 - ETA: 0s - loss: 0.2218 - accuracy: 0.91 - ETA: 0s - loss: 0.2205 - accuracy: 0.91 - ETA: 0s - loss: 0.2178 - accuracy: 0.90 - 0s 93us/step - loss: 0.2178 - accuracy: 0.9083 - val_loss: 0.3177 - val_accuracy: 0.8990\n",
      "Epoch 32/40\n",
      "2344/2344 [==============================] - ETA: 0s - loss: 0.2075 - accuracy: 0.90 - ETA: 0s - loss: 0.2219 - accuracy: 0.89 - ETA: 0s - loss: 0.2220 - accuracy: 0.89 - ETA: 0s - loss: 0.2182 - accuracy: 0.90 - 0s 94us/step - loss: 0.2117 - accuracy: 0.9053 - val_loss: 0.3017 - val_accuracy: 0.9015\n",
      "Epoch 33/40\n",
      "2344/2344 [==============================] - ETA: 0s - loss: 0.0589 - accuracy: 1.00 - ETA: 0s - loss: 0.2137 - accuracy: 0.88 - ETA: 0s - loss: 0.2088 - accuracy: 0.90 - ETA: 0s - loss: 0.2018 - accuracy: 0.90 - 0s 101us/step - loss: 0.2059 - accuracy: 0.9074 - val_loss: 0.3092 - val_accuracy: 0.9003\n",
      "Epoch 34/40\n",
      "2344/2344 [==============================] - ETA: 0s - loss: 0.1569 - accuracy: 0.96 - ETA: 0s - loss: 0.1892 - accuracy: 0.92 - ETA: 0s - loss: 0.2061 - accuracy: 0.90 - ETA: 0s - loss: 0.2055 - accuracy: 0.91 - 0s 92us/step - loss: 0.2072 - accuracy: 0.9121 - val_loss: 0.3456 - val_accuracy: 0.8964\n",
      "Epoch 35/40\n",
      "2344/2344 [==============================] - ETA: 0s - loss: 0.1329 - accuracy: 0.93 - ETA: 0s - loss: 0.2002 - accuracy: 0.91 - ETA: 0s - loss: 0.2135 - accuracy: 0.90 - ETA: 0s - loss: 0.2116 - accuracy: 0.90 - 0s 94us/step - loss: 0.2099 - accuracy: 0.9070 - val_loss: 0.3502 - val_accuracy: 0.9028\n",
      "Epoch 36/40\n",
      "2344/2344 [==============================] - ETA: 0s - loss: 0.2583 - accuracy: 0.93 - ETA: 0s - loss: 0.2026 - accuracy: 0.92 - ETA: 0s - loss: 0.1922 - accuracy: 0.92 - ETA: 0s - loss: 0.2014 - accuracy: 0.91 - 0s 93us/step - loss: 0.2043 - accuracy: 0.9113 - val_loss: 0.2972 - val_accuracy: 0.9015\n",
      "Epoch 37/40\n",
      "2344/2344 [==============================] - ETA: 0s - loss: 0.2147 - accuracy: 0.87 - ETA: 0s - loss: 0.1768 - accuracy: 0.92 - ETA: 0s - loss: 0.2175 - accuracy: 0.90 - ETA: 0s - loss: 0.2164 - accuracy: 0.90 - 0s 95us/step - loss: 0.2147 - accuracy: 0.9074 - val_loss: 0.3022 - val_accuracy: 0.8964\n",
      "Epoch 38/40\n",
      "2344/2344 [==============================] - ETA: 0s - loss: 0.1514 - accuracy: 0.90 - ETA: 0s - loss: 0.1950 - accuracy: 0.91 - ETA: 0s - loss: 0.2054 - accuracy: 0.91 - ETA: 0s - loss: 0.2071 - accuracy: 0.90 - 0s 93us/step - loss: 0.2046 - accuracy: 0.9070 - val_loss: 0.3592 - val_accuracy: 0.9092\n",
      "Epoch 39/40\n",
      "2344/2344 [==============================] - ETA: 0s - loss: 0.1227 - accuracy: 0.93 - ETA: 0s - loss: 0.1934 - accuracy: 0.91 - ETA: 0s - loss: 0.2183 - accuracy: 0.90 - ETA: 0s - loss: 0.2151 - accuracy: 0.90 - 0s 93us/step - loss: 0.2160 - accuracy: 0.9053 - val_loss: 0.3496 - val_accuracy: 0.8964\n",
      "Epoch 40/40\n",
      "2344/2344 [==============================] - ETA: 0s - loss: 0.2726 - accuracy: 0.84 - ETA: 0s - loss: 0.2116 - accuracy: 0.90 - ETA: 0s - loss: 0.2211 - accuracy: 0.90 - ETA: 0s - loss: 0.2111 - accuracy: 0.91 - 0s 96us/step - loss: 0.2148 - accuracy: 0.9130 - val_loss: 0.2548 - val_accuracy: 0.9015\n"
     ]
    }
   ],
   "source": [
    "history = model.fit(x_train, y_train, epochs=40, batch_size=32, validation_data=(x_test, y_test))"
   ]
  },
  {
   "cell_type": "code",
   "execution_count": 10,
   "metadata": {},
   "outputs": [
    {
     "data": {
      "image/png": "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\n",
      "text/plain": [
       "<Figure size 432x288 with 1 Axes>"
      ]
     },
     "metadata": {
      "needs_background": "light"
     },
     "output_type": "display_data"
    }
   ],
   "source": [
    "epochs = range(1, 41)\n",
    "plt.figure()\n",
    "plt.plot(epochs, history.history['loss'], 'b--', label='Training loss')\n",
    "plt.plot(epochs, history.history['val_loss'], 'r-', label='Validation loss')\n",
    "plt.title('Training and validation loss')\n",
    "plt.xlabel('Number of epochs')\n",
    "plt.ylabel('loss')\n",
    "plt.legend()\n",
    "plt.show()"
   ]
  },
  {
   "cell_type": "code",
   "execution_count": 11,
   "metadata": {
    "scrolled": true
   },
   "outputs": [
    {
     "data": {
      "image/png": "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\n",
      "text/plain": [
       "<Figure size 432x288 with 1 Axes>"
      ]
     },
     "metadata": {
      "needs_background": "light"
     },
     "output_type": "display_data"
    }
   ],
   "source": [
    "plt.figure()\n",
    "plt.plot(epochs, history.history['accuracy'], 'b--', label='Training accuracy')\n",
    "plt.plot(epochs, history.history['val_accuracy'], 'r-', label='Validation accuracy')\n",
    "plt.title('Training and validation accuracy')\n",
    "plt.xlabel('Number of epochs')\n",
    "plt.ylabel('Accuracy')\n",
    "plt.legend()\n",
    "plt.show()"
   ]
  },
  {
   "cell_type": "markdown",
   "metadata": {},
   "source": [
    "## Gridsearch\n",
    "We will use GridSearch to train separate instances of a model with different hyperparameters. Then, we will compare results to identify which combination of parameters produces the best resutls."
   ]
  },
  {
   "cell_type": "code",
   "execution_count": 12,
   "metadata": {},
   "outputs": [
    {
     "name": "stdout",
     "output_type": "stream",
     "text": [
      "782/782 [==============================] - ETA:  - 0s 40us/step\n",
      "\n",
      "Accuracy: 0.9015344977378845\n",
      "Precision: 0.9367088607594937\n",
      "Recall: 0.9411764705882353\n",
      "F-Score: 0.9389373513084853\n",
      "Confusion Matrix:\n",
      "[[113  40]\n",
      " [ 37 592]]\n"
     ]
    }
   ],
   "source": [
    "def evaluate(model, x_test, y_test):\n",
    "    y_pred = model.predict_classes(x_test)\n",
    "\n",
    "    score, accuracy = model.evaluate(x_test, y_test, batch_size=32)\n",
    "    print (\"\\nAccuracy:\", accuracy)\n",
    "\n",
    "    p = precision_score(y_test, y_pred)\n",
    "    r = recall_score(y_test, y_pred)\n",
    "    f1 = f1_score(y_test, y_pred)\n",
    "    print (\"Precision:\", p)\n",
    "    print (\"Recall:\", r)\n",
    "    print (\"F-Score:\", f1)\n",
    "    print (\"Confusion Matrix:\")\n",
    "    print (confusion_matrix(y_test, y_pred))\n",
    "    \n",
    "evaluate(model, x_test, y_test)"
   ]
  },
  {
   "cell_type": "code",
   "execution_count": 13,
   "metadata": {},
   "outputs": [
    {
     "name": "stderr",
     "output_type": "stream",
     "text": [
      "C:\\Users\\DEVARSHI\\Anaconda3\\envs\\tf-gpu\\lib\\site-packages\\sklearn\\model_selection\\_split.py:1978: FutureWarning: The default value of cv will change from 3 to 5 in version 0.22. Specify it explicitly to silence this warning.\n",
      "  warnings.warn(CV_WARNING, FutureWarning)\n"
     ]
    },
    {
     "name": "stdout",
     "output_type": "stream",
     "text": [
      "Epoch 1/10\n",
      "1562/1562 [==============================] - ETA: 5s - loss: 7.6605 - accuracy: 0.28 - ETA: 0s - loss: 3.6990 - accuracy: 0.64 - ETA: 0s - loss: 2.7013 - accuracy: 0.66 - 0s 164us/step - loss: 2.4237 - accuracy: 0.6684\n",
      "Epoch 2/10\n",
      "1562/1562 [==============================] - ETA: 0s - loss: 1.1096 - accuracy: 0.71 - ETA: 0s - loss: 0.8753 - accuracy: 0.75 - ETA: 0s - loss: 0.9186 - accuracy: 0.74 - ETA: 0s - loss: 0.8788 - accuracy: 0.74 - 0s 109us/step - loss: 0.8686 - accuracy: 0.7452\n",
      "Epoch 3/10\n",
      "1562/1562 [==============================] - ETA: 0s - loss: 0.6651 - accuracy: 0.75 - ETA: 0s - loss: 0.6512 - accuracy: 0.78 - ETA: 0s - loss: 0.5853 - accuracy: 0.80 - ETA: 0s - loss: 0.5523 - accuracy: 0.81 - 0s 109us/step - loss: 0.5422 - accuracy: 0.8143\n",
      "Epoch 4/10\n",
      "1562/1562 [==============================] - ETA: 0s - loss: 0.3336 - accuracy: 0.78 - ETA: 0s - loss: 0.4414 - accuracy: 0.80 - ETA: 0s - loss: 0.4232 - accuracy: 0.80 - 0s 91us/step - loss: 0.4221 - accuracy: 0.8143\n",
      "Epoch 5/10\n",
      "1562/1562 [==============================] - ETA: 0s - loss: 0.2551 - accuracy: 0.90 - ETA: 0s - loss: 0.3846 - accuracy: 0.83 - ETA: 0s - loss: 0.3701 - accuracy: 0.83 - 0s 93us/step - loss: 0.3594 - accuracy: 0.8431\n",
      "Epoch 6/10\n",
      "1562/1562 [==============================] - ETA: 0s - loss: 0.1881 - accuracy: 0.93 - ETA: 0s - loss: 0.3056 - accuracy: 0.86 - ETA: 0s - loss: 0.3343 - accuracy: 0.85 - 0s 91us/step - loss: 0.3282 - accuracy: 0.8540\n",
      "Epoch 7/10\n",
      "1562/1562 [==============================] - ETA: 0s - loss: 0.3032 - accuracy: 0.87 - ETA: 0s - loss: 0.2829 - accuracy: 0.87 - ETA: 0s - loss: 0.2929 - accuracy: 0.86 - 0s 94us/step - loss: 0.3003 - accuracy: 0.8643\n",
      "Epoch 8/10\n",
      "1562/1562 [==============================] - ETA: 0s - loss: 0.2073 - accuracy: 0.84 - ETA: 0s - loss: 0.2868 - accuracy: 0.87 - ETA: 0s - loss: 0.2756 - accuracy: 0.88 - 0s 95us/step - loss: 0.2747 - accuracy: 0.8835\n",
      "Epoch 9/10\n",
      "1562/1562 [==============================] - ETA: 0s - loss: 0.2259 - accuracy: 0.84 - ETA: 0s - loss: 0.2504 - accuracy: 0.88 - ETA: 0s - loss: 0.2659 - accuracy: 0.88 - 0s 94us/step - loss: 0.2747 - accuracy: 0.8777\n",
      "Epoch 10/10\n",
      "1562/1562 [==============================] - ETA: 0s - loss: 0.2384 - accuracy: 0.90 - ETA: 0s - loss: 0.2579 - accuracy: 0.89 - ETA: 0s - loss: 0.2639 - accuracy: 0.89 - 0s 92us/step - loss: 0.2656 - accuracy: 0.8892\n",
      "Epoch 1/10\n",
      "1563/1563 [==============================] - ETA: 5s - loss: 29.9096 - accuracy: 0.218 - ETA: 0s - loss: 10.7296 - accuracy: 0.623 - ETA: 0s - loss: 7.8501 - accuracy: 0.671 - 0s 168us/step - loss: 6.8509 - accuracy: 0.6635\n",
      "Epoch 2/10\n",
      "1563/1563 [==============================] - ETA: 0s - loss: 2.7292 - accuracy: 0.75 - ETA: 0s - loss: 3.0942 - accuracy: 0.71 - ETA: 0s - loss: 2.7217 - accuracy: 0.72 - ETA: 0s - loss: 2.5189 - accuracy: 0.73 - 0s 109us/step - loss: 2.4687 - accuracy: 0.7294\n",
      "Epoch 3/10\n",
      "1563/1563 [==============================] - ETA: 0s - loss: 0.9015 - accuracy: 0.84 - ETA: 0s - loss: 1.8191 - accuracy: 0.77 - ETA: 0s - loss: 1.6063 - accuracy: 0.77 - 0s 99us/step - loss: 1.5139 - accuracy: 0.7793\n",
      "Epoch 4/10\n",
      "1563/1563 [==============================] - ETA: 0s - loss: 1.0990 - accuracy: 0.87 - ETA: 0s - loss: 1.3052 - accuracy: 0.75 - ETA: 0s - loss: 1.1547 - accuracy: 0.78 - 0s 94us/step - loss: 1.1048 - accuracy: 0.7863\n",
      "Epoch 5/10\n",
      "1563/1563 [==============================] - ETA: 0s - loss: 1.1483 - accuracy: 0.81 - ETA: 0s - loss: 0.8258 - accuracy: 0.81 - ETA: 0s - loss: 0.7315 - accuracy: 0.80 - 0s 95us/step - loss: 0.6745 - accuracy: 0.8119\n",
      "Epoch 6/10\n",
      "1563/1563 [==============================] - ETA: 0s - loss: 0.5565 - accuracy: 0.81 - ETA: 0s - loss: 0.5683 - accuracy: 0.81 - ETA: 0s - loss: 0.5350 - accuracy: 0.82 - 0s 95us/step - loss: 0.5190 - accuracy: 0.8279\n",
      "Epoch 7/10\n",
      "1563/1563 [==============================] - ETA: 0s - loss: 0.4089 - accuracy: 0.84 - ETA: 0s - loss: 0.3768 - accuracy: 0.87 - ETA: 0s - loss: 0.3815 - accuracy: 0.85 - 0s 94us/step - loss: 0.3925 - accuracy: 0.8477\n",
      "Epoch 8/10\n",
      "1563/1563 [==============================] - ETA: 0s - loss: 0.1418 - accuracy: 0.93 - ETA: 0s - loss: 0.3275 - accuracy: 0.85 - ETA: 0s - loss: 0.3316 - accuracy: 0.85 - 0s 95us/step - loss: 0.3242 - accuracy: 0.8554\n",
      "Epoch 9/10\n",
      "1563/1563 [==============================] - ETA: 0s - loss: 0.1930 - accuracy: 0.93 - ETA: 0s - loss: 0.2867 - accuracy: 0.89 - ETA: 0s - loss: 0.3083 - accuracy: 0.87 - 0s 95us/step - loss: 0.3244 - accuracy: 0.8618\n",
      "Epoch 10/10\n",
      "1563/1563 [==============================] - ETA: 0s - loss: 0.1270 - accuracy: 0.96 - ETA: 0s - loss: 0.3230 - accuracy: 0.86 - ETA: 0s - loss: 0.3143 - accuracy: 0.86 - 0s 94us/step - loss: 0.3079 - accuracy: 0.8701\n",
      "Epoch 1/10\n",
      "1563/1563 [==============================] - ETA: 5s - loss: 6.2657 - accuracy: 0.75 - ETA: 0s - loss: 4.0568 - accuracy: 0.66 - ETA: 0s - loss: 3.1438 - accuracy: 0.67 - 0s 178us/step - loss: 2.5890 - accuracy: 0.7038\n",
      "Epoch 2/10\n",
      "1563/1563 [==============================] - ETA: 0s - loss: 0.4665 - accuracy: 0.84 - ETA: 0s - loss: 1.0908 - accuracy: 0.76 - ETA: 0s - loss: 1.1223 - accuracy: 0.76 - 0s 95us/step - loss: 1.0817 - accuracy: 0.7678\n",
      "Epoch 3/10\n",
      "1563/1563 [==============================] - ETA: 0s - loss: 0.9375 - accuracy: 0.65 - ETA: 0s - loss: 0.9088 - accuracy: 0.77 - ETA: 0s - loss: 0.7968 - accuracy: 0.78 - ETA: 0s - loss: 0.7591 - accuracy: 0.78 - 0s 110us/step - loss: 0.7400 - accuracy: 0.7914\n",
      "Epoch 4/10\n",
      "1563/1563 [==============================] - ETA: 0s - loss: 0.9405 - accuracy: 0.75 - ETA: 0s - loss: 0.5280 - accuracy: 0.81 - ETA: 0s - loss: 0.5420 - accuracy: 0.80 - ETA: 0s - loss: 0.5286 - accuracy: 0.81 - 0s 108us/step - loss: 0.5170 - accuracy: 0.8177\n",
      "Epoch 5/10\n",
      "1563/1563 [==============================] - ETA: 0s - loss: 0.2871 - accuracy: 0.93 - ETA: 0s - loss: 0.3931 - accuracy: 0.84 - ETA: 0s - loss: 0.4097 - accuracy: 0.82 - 0s 97us/step - loss: 0.3818 - accuracy: 0.8337\n",
      "Epoch 6/10\n",
      "1563/1563 [==============================] - ETA: 0s - loss: 0.7012 - accuracy: 0.78 - ETA: 0s - loss: 0.3526 - accuracy: 0.83 - ETA: 0s - loss: 0.3327 - accuracy: 0.84 - ETA: 0s - loss: 0.3263 - accuracy: 0.85 - 0s 124us/step - loss: 0.3281 - accuracy: 0.8509\n",
      "Epoch 7/10\n",
      "1563/1563 [==============================] - ETA: 0s - loss: 0.3830 - accuracy: 0.87 - ETA: 0s - loss: 0.2687 - accuracy: 0.90 - ETA: 0s - loss: 0.3090 - accuracy: 0.88 - ETA: 0s - loss: 0.3239 - accuracy: 0.85 - 0s 128us/step - loss: 0.3079 - accuracy: 0.8580\n",
      "Epoch 8/10\n",
      "1563/1563 [==============================] - ETA: 0s - loss: 0.2254 - accuracy: 0.93 - ETA: 0s - loss: 0.2504 - accuracy: 0.89 - ETA: 0s - loss: 0.2779 - accuracy: 0.86 - 0s 100us/step - loss: 0.2895 - accuracy: 0.8605\n",
      "Epoch 9/10\n",
      "1563/1563 [==============================] - ETA: 0s - loss: 0.3428 - accuracy: 0.78 - ETA: 0s - loss: 0.3005 - accuracy: 0.86 - ETA: 0s - loss: 0.3085 - accuracy: 0.86 - ETA: 0s - loss: 0.2988 - accuracy: 0.86 - 0s 122us/step - loss: 0.2977 - accuracy: 0.8624\n",
      "Epoch 10/10\n",
      "1563/1563 [==============================] - ETA: 0s - loss: 0.2930 - accuracy: 0.87 - ETA: 0s - loss: 0.2628 - accuracy: 0.88 - ETA: 0s - loss: 0.2896 - accuracy: 0.86 - 0s 93us/step - loss: 0.2820 - accuracy: 0.8663\n",
      "Epoch 1/20\n",
      "1562/1562 [==============================] - ETA: 6s - loss: 6.1231 - accuracy: 0.78 - ETA: 0s - loss: 3.5438 - accuracy: 0.67 - ETA: 0s - loss: 2.6029 - accuracy: 0.70 - 0s 177us/step - loss: 2.3303 - accuracy: 0.7055\n",
      "Epoch 2/20\n",
      "1562/1562 [==============================] - ETA: 0s - loss: 3.2203 - accuracy: 0.50 - ETA: 0s - loss: 1.2752 - accuracy: 0.72 - ETA: 0s - loss: 1.1628 - accuracy: 0.72 - ETA: 0s - loss: 1.0912 - accuracy: 0.72 - 0s 135us/step - loss: 1.0023 - accuracy: 0.7324\n",
      "Epoch 3/20\n",
      "1562/1562 [==============================] - ETA: 0s - loss: 0.6053 - accuracy: 0.84 - ETA: 0s - loss: 0.7434 - accuracy: 0.73 - ETA: 0s - loss: 0.6673 - accuracy: 0.76 - 0s 84us/step - loss: 0.6394 - accuracy: 0.7727\n",
      "Epoch 4/20\n",
      "1562/1562 [==============================] - ETA: 0s - loss: 0.9118 - accuracy: 0.71 - ETA: 0s - loss: 0.5243 - accuracy: 0.80 - ETA: 0s - loss: 0.4737 - accuracy: 0.80 - ETA: 0s - loss: 0.5068 - accuracy: 0.80 - 0s 124us/step - loss: 0.4828 - accuracy: 0.8086\n"
     ]
    },
    {
     "name": "stdout",
     "output_type": "stream",
     "text": [
      "Epoch 5/20\n",
      "1562/1562 [==============================] - ETA: 0s - loss: 0.3993 - accuracy: 0.84 - ETA: 0s - loss: 0.4107 - accuracy: 0.80 - ETA: 0s - loss: 0.4184 - accuracy: 0.80 - 0s 87us/step - loss: 0.4155 - accuracy: 0.8009\n",
      "Epoch 6/20\n",
      "1562/1562 [==============================] - ETA: 0s - loss: 0.4960 - accuracy: 0.81 - ETA: 0s - loss: 0.3842 - accuracy: 0.84 - ETA: 0s - loss: 0.3843 - accuracy: 0.83 - 0s 93us/step - loss: 0.3753 - accuracy: 0.8393\n",
      "Epoch 7/20\n",
      "1562/1562 [==============================] - ETA: 0s - loss: 0.3549 - accuracy: 0.81 - ETA: 0s - loss: 0.3434 - accuracy: 0.85 - ETA: 0s - loss: 0.3483 - accuracy: 0.84 - 0s 84us/step - loss: 0.3343 - accuracy: 0.8560\n",
      "Epoch 8/20\n",
      "1562/1562 [==============================] - ETA: 0s - loss: 0.2139 - accuracy: 0.90 - ETA: 0s - loss: 0.3174 - accuracy: 0.84 - ETA: 0s - loss: 0.3277 - accuracy: 0.84 - 0s 82us/step - loss: 0.3303 - accuracy: 0.8444\n",
      "Epoch 9/20\n",
      "1562/1562 [==============================] - ETA: 0s - loss: 0.1791 - accuracy: 0.93 - ETA: 0s - loss: 0.3099 - accuracy: 0.85 - ETA: 0s - loss: 0.3112 - accuracy: 0.85 - 0s 85us/step - loss: 0.3145 - accuracy: 0.8585\n",
      "Epoch 10/20\n",
      "1562/1562 [==============================] - ETA: 0s - loss: 0.2073 - accuracy: 0.90 - ETA: 0s - loss: 0.3324 - accuracy: 0.84 - ETA: 0s - loss: 0.3117 - accuracy: 0.85 - ETA: 0s - loss: 0.3034 - accuracy: 0.86 - 0s 122us/step - loss: 0.2994 - accuracy: 0.8624\n",
     .
     .
     .
     .
      "Epoch 20/40\n",
      "2344/2344 [==============================] - ETA: 0s - loss: 0.1608 - accuracy: 0.87 - ETA: 0s - loss: 0.2371 - accuracy: 0.90 - ETA: 0s - loss: 0.2344 - accuracy: 0.90 - ETA: 0s - loss: 0.2519 - accuracy: 0.89 - 0s 83us/step - loss: 0.2513 - accuracy: 0.8951\n",
      "Epoch 21/40\n",
      "2344/2344 [==============================] - ETA: 0s - loss: 0.3227 - accuracy: 0.90 - ETA: 0s - loss: 0.2834 - accuracy: 0.88 - ETA: 0s - loss: 0.2649 - accuracy: 0.89 - ETA: 0s - loss: 0.2643 - accuracy: 0.88 - 0s 84us/step - loss: 0.2552 - accuracy: 0.8916\n",
      "Epoch 22/40\n",
      "2344/2344 [==============================] - ETA: 0s - loss: 0.1366 - accuracy: 0.93 - ETA: 0s - loss: 0.2233 - accuracy: 0.91 - ETA: 0s - loss: 0.2329 - accuracy: 0.89 - ETA: 0s - loss: 0.2366 - accuracy: 0.89 - 0s 85us/step - loss: 0.2335 - accuracy: 0.8929\n",
      "Epoch 23/40\n",
      "2344/2344 [==============================] - ETA: 0s - loss: 0.2502 - accuracy: 0.90 - ETA: 0s - loss: 0.2436 - accuracy: 0.90 - ETA: 0s - loss: 0.2324 - accuracy: 0.91 - ETA: 0s - loss: 0.2327 - accuracy: 0.91 - 0s 85us/step - loss: 0.2315 - accuracy: 0.9083\n",
      "Epoch 24/40\n",
      "2344/2344 [==============================] - ETA: 0s - loss: 0.1301 - accuracy: 0.93 - ETA: 0s - loss: 0.2289 - accuracy: 0.88 - ETA: 0s - loss: 0.2337 - accuracy: 0.89 - ETA: 0s - loss: 0.2296 - accuracy: 0.89 - 0s 85us/step - loss: 0.2302 - accuracy: 0.8989\n",
      "Epoch 25/40\n",
      "2344/2344 [==============================] - ETA: 0s - loss: 0.0821 - accuracy: 1.00 - ETA: 0s - loss: 0.2111 - accuracy: 0.91 - ETA: 0s - loss: 0.2332 - accuracy: 0.90 - ETA: 0s - loss: 0.2306 - accuracy: 0.90 - 0s 84us/step - loss: 0.2359 - accuracy: 0.9032\n",
      "Epoch 26/40\n",
      "2344/2344 [==============================] - ETA: 0s - loss: 0.2415 - accuracy: 0.87 - ETA: 0s - loss: 0.2154 - accuracy: 0.91 - ETA: 0s - loss: 0.2261 - accuracy: 0.90 - ETA: 0s - loss: 0.2337 - accuracy: 0.89 - 0s 83us/step - loss: 0.2388 - accuracy: 0.8972\n",
      "Epoch 27/40\n",
      "2344/2344 [==============================] - ETA: 0s - loss: 0.1243 - accuracy: 0.96 - ETA: 0s - loss: 0.2584 - accuracy: 0.90 - ETA: 0s - loss: 0.2484 - accuracy: 0.89 - ETA: 0s - loss: 0.2518 - accuracy: 0.89 - 0s 84us/step - loss: 0.2476 - accuracy: 0.9010\n",
      "Epoch 28/40\n",
      "2344/2344 [==============================] - ETA: 0s - loss: 0.2328 - accuracy: 0.84 - ETA: 0s - loss: 0.2321 - accuracy: 0.89 - ETA: 0s - loss: 0.2344 - accuracy: 0.89 - ETA: 0s - loss: 0.2357 - accuracy: 0.90 - 0s 88us/step - loss: 0.2345 - accuracy: 0.9015\n",
      "Epoch 29/40\n",
      "2344/2344 [==============================] - ETA: 0s - loss: 0.1822 - accuracy: 0.90 - ETA: 0s - loss: 0.2152 - accuracy: 0.91 - ETA: 0s - loss: 0.2199 - accuracy: 0.90 - ETA: 0s - loss: 0.2266 - accuracy: 0.90 - 0s 86us/step - loss: 0.2261 - accuracy: 0.9049\n",
      "Epoch 30/40\n",
      "2344/2344 [==============================] - ETA: 0s - loss: 0.2674 - accuracy: 0.84 - ETA: 0s - loss: 0.2532 - accuracy: 0.88 - ETA: 0s - loss: 0.2428 - accuracy: 0.89 - ETA: 0s - loss: 0.2423 - accuracy: 0.89 - 0s 84us/step - loss: 0.2361 - accuracy: 0.9044\n",
      "Epoch 31/40\n"
     ]
    },
    {
     "name": "stdout",
     "output_type": "stream",
     "text": [
      "2344/2344 [==============================] - ETA: 0s - loss: 0.0834 - accuracy: 0.96 - ETA: 0s - loss: 0.2013 - accuracy: 0.91 - ETA: 0s - loss: 0.2139 - accuracy: 0.91 - ETA: 0s - loss: 0.2156 - accuracy: 0.91 - ETA: 0s - loss: 0.2277 - accuracy: 0.90 - 0s 94us/step - loss: 0.2268 - accuracy: 0.9040\n",
      "Epoch 32/40\n",
      "2344/2344 [==============================] - ETA: 0s - loss: 0.1878 - accuracy: 0.93 - ETA: 0s - loss: 0.2476 - accuracy: 0.90 - ETA: 0s - loss: 0.2237 - accuracy: 0.90 - ETA: 0s - loss: 0.2237 - accuracy: 0.90 - ETA: 0s - loss: 0.2268 - accuracy: 0.90 - 0s 94us/step - loss: 0.2254 - accuracy: 0.9032\n",
      "Epoch 33/40\n",
      "2344/2344 [==============================] - ETA: 0s - loss: 0.3548 - accuracy: 0.90 - ETA: 0s - loss: 0.2137 - accuracy: 0.91 - ETA: 0s - loss: 0.2212 - accuracy: 0.91 - ETA: 0s - loss: 0.2184 - accuracy: 0.91 - 0s 84us/step - loss: 0.2206 - accuracy: 0.9100\n",
      "Epoch 34/40\n",
      "2344/2344 [==============================] - ETA: 0s - loss: 0.1557 - accuracy: 0.87 - ETA: 0s - loss: 0.2657 - accuracy: 0.87 - ETA: 0s - loss: 0.2326 - accuracy: 0.90 - ETA: 0s - loss: 0.2236 - accuracy: 0.90 - 0s 86us/step - loss: 0.2198 - accuracy: 0.9108\n",
      "Epoch 35/40\n",
      "2344/2344 [==============================] - ETA: 0s - loss: 0.2197 - accuracy: 0.87 - ETA: 0s - loss: 0.2363 - accuracy: 0.88 - ETA: 0s - loss: 0.2128 - accuracy: 0.90 - ETA: 0s - loss: 0.2114 - accuracy: 0.91 - 0s 84us/step - loss: 0.2175 - accuracy: 0.9074\n",
      "Epoch 36/40\n",
      "2344/2344 [==============================] - ETA: 0s - loss: 0.2518 - accuracy: 0.84 - ETA: 0s - loss: 0.2178 - accuracy: 0.90 - ETA: 0s - loss: 0.2195 - accuracy: 0.90 - ETA: 0s - loss: 0.2075 - accuracy: 0.91 - 0s 83us/step - loss: 0.2147 - accuracy: 0.9083\n",
      "Epoch 37/40\n",
      "2344/2344 [==============================] - ETA: 0s - loss: 0.2179 - accuracy: 0.93 - ETA: 0s - loss: 0.2450 - accuracy: 0.88 - ETA: 0s - loss: 0.2222 - accuracy: 0.90 - ETA: 0s - loss: 0.2173 - accuracy: 0.90 - 0s 88us/step - loss: 0.2168 - accuracy: 0.9083\n",
      "Epoch 38/40\n",
      "2344/2344 [==============================] - ETA: 0s - loss: 0.2345 - accuracy: 0.90 - ETA: 0s - loss: 0.2378 - accuracy: 0.89 - ETA: 0s - loss: 0.2158 - accuracy: 0.90 - ETA: 0s - loss: 0.2170 - accuracy: 0.90 - ETA: 0s - loss: 0.2167 - accuracy: 0.90 - 0s 92us/step - loss: 0.2165 - accuracy: 0.9044\n",
      "Epoch 39/40\n",
      "2344/2344 [==============================] - ETA: 0s - loss: 0.2774 - accuracy: 0.93 - ETA: 0s - loss: 0.2230 - accuracy: 0.91 - ETA: 0s - loss: 0.2434 - accuracy: 0.90 - ETA: 0s - loss: 0.2251 - accuracy: 0.91 - 0s 84us/step - loss: 0.2271 - accuracy: 0.9100\n",
      "Epoch 40/40\n",
      "2344/2344 [==============================] - ETA: 0s - loss: 0.3491 - accuracy: 0.81 - ETA: 0s - loss: 0.2211 - accuracy: 0.89 - ETA: 0s - loss: 0.2141 - accuracy: 0.90 - ETA: 0s - loss: 0.2252 - accuracy: 0.90 - 0s 85us/step - loss: 0.2252 - accuracy: 0.9023\n",
      "Best accuracy: 0.9415469347738644 using parameters {'batch_size': 32, 'dropout_rate': 0.4, 'epochs': 40}\n"
     ]
    }
   ],
   "source": [
    "from keras.wrappers.scikit_learn import KerasClassifier\n",
    "from sklearn.model_selection import GridSearchCV\n",
    "\n",
    "model = KerasClassifier(build_fn=create_model)\n",
    "\n",
    "epochs = [10, 20, 30, 40]\n",
    "dropout_rate = [0.1, 0.2, 0.3, 0.4, 0.5]\n",
    "batch_size = [32]\n",
    "param_grid = dict(dropout_rate=dropout_rate, epochs=epochs, batch_size = batch_size)\n",
    "grid = GridSearchCV(estimator=model, param_grid=param_grid, scoring='f1')\n",
    "\n",
    "grid_result = grid.fit(x_train, y_train)\n",
    "\n",
    "print (\"Best accuracy: {0} using parameters {1}\".format(grid_result.best_score_, grid_result.best_params_))"
   ]
  },
  {
   "cell_type": "code",
   "execution_count": 17,
   "metadata": {},
   "outputs": [],
   "source": [
    "# model.load_weights('models/ffn.hdf5') # load weights to model"
   ]
  }
 ],
 "metadata": {
  "kernelspec": {
   "display_name": "TensorFlow-GPU-1.13",
   "language": "python",
   "name": "tf-gpu"
  },
  "language_info": {
   "codemirror_mode": {
    "name": "ipython",
    "version": 3
   },
   "file_extension": ".py",
   "mimetype": "text/x-python",
   "name": "python",
   "nbconvert_exporter": "python",
   "pygments_lexer": "ipython3",
   "version": "3.7.4"
  }
 },
 "nbformat": 4,
 "nbformat_minor": 2
}
