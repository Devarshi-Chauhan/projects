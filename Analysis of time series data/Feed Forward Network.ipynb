{
 "cells": [
  {
   "cell_type": "markdown",
   "metadata": {},
   "source": [
    "## FeedForwardNetwork(FFN)"
   ]
  },
  {
   "cell_type": "markdown",
   "metadata": {},
   "source": [
    "Some functions will be used that were previously defined in Data Exploration file."
   ]
  },
  {
   "cell_type": "code",
   "execution_count": 1,
   "metadata": {},
   "outputs": [
    {
     "name": "stderr",
     "output_type": "stream",
     "text": [
      "C:\\Users\\DEVARSHI\\Anaconda3\\envs\\tf-gpu\\lib\\site-packages\\librosa\\util\\decorators.py:9: NumbaDeprecationWarning: \u001b[1mAn import was requested from a module that has moved location.\n",
      "Import requested from: 'numba.decorators', please update to use 'numba.core.decorators' or pin to Numba version 0.48.0. This alias will not be present in Numba version 0.50.0.\u001b[0m\n",
      "  from numba.decorators import jit as optional_jit\n",
      "C:\\Users\\DEVARSHI\\Anaconda3\\envs\\tf-gpu\\lib\\site-packages\\librosa\\util\\decorators.py:9: NumbaDeprecationWarning: \u001b[1mAn import was requested from a module that has moved location.\n",
      "Import of 'jit' requested from: 'numba.decorators', please update to use 'numba.core.decorators' or pin to Numba version 0.48.0. This alias will not be present in Numba version 0.50.0.\u001b[0m\n",
      "  from numba.decorators import jit as optional_jit\n"
     ]
    }
   ],
   "source": [
    "import librosa\n",
    "import numpy as np\n",
    "import pandas as pd\n",
    "import matplotlib.pyplot as plt\n",
    "import os\n",
    "from sklearn.preprocessing import LabelEncoder\n",
    "from sklearn.metrics import precision_score, recall_score, f1_score, confusion_matrix"
   ]
  },
  {
   "cell_type": "markdown",
   "metadata": {},
   "source": [
    "Here we are using feature extraction methods by appling librosa python library. The Methods involved are:\n",
    "\n",
    "- Mel-frequency cepstral coefficients (MFCC): representation of the short-term power spectrum of a sound\n",
    "- melspectrogram: Coefficients that collectively make up an mel-frequency cepstrum\n",
    "- Chromagram of a short-time Fourier transform (chroma_stft): Projects into bins representing the 12 distinct semitones of the musical octave\n",
    "- spectral_contrast (Octave-based spectral contrast) : Distribution of sound energy over octave frequencies \n",
    "- Tonnetz: Estimates tonal centroids features"
   ]
  },
  {
   "cell_type": "code",
   "execution_count": 2,
   "metadata": {},
   "outputs": [],
   "source": [
    "def extract_features(file_name):\n",
    "    X, sr = librosa.load(file_name)\n",
    "    stft = np.abs(librosa.stft(X)) #Short-time Fourier transform (STFT)\n",
    "    mfccs = np.mean(librosa.feature.mfcc(y=X, sr=sr, n_mfcc=40).T,axis=0)\n",
    "    chroma = np.mean(librosa.feature.chroma_stft(S=stft, sr=sr).T,axis=0)\n",
    "    mel = np.mean(librosa.feature.melspectrogram(X, sr=sr).T,axis=0)\n",
    "    contrast = np.mean(librosa.feature.spectral_contrast(S=stft, sr=sr).T,axis=0)\n",
    "    tonnetz = np.mean(librosa.feature.tonnetz(y=librosa.effects.harmonic(X), sr=sr).T,axis=0)\n",
    "    return mfccs,chroma,mel,contrast,tonnetz\n",
    "\n",
    "def parse_file(filename):\n",
    "    mfccs, chroma, mel, contrast, tonnetz = extract_features(filename)\n",
    "    features = np.hstack([mfccs,chroma,mel,contrast,tonnetz])\n",
    "    return features"
   ]
  },
  {
   "cell_type": "markdown",
   "metadata": {},
   "source": [
    "Now lets test the dimensionality reduction with a sample file"
   ]
  },
  {
   "cell_type": "code",
   "execution_count": 3,
   "metadata": {
    "scrolled": false
   },
   "outputs": [
    {
     "name": "stdout",
     "output_type": "stream",
     "text": [
      "Initial Data Points: 786436\n",
      "------------------------------\n",
      "MFCSS features:  40\n",
      "Chroma features:  12\n",
      "Mel spectogram features:  128\n",
      "Contrast features:  7\n",
      "Tonnetz features:  6\n",
      "Combined extracted features: 193\n"
     ]
    }
   ],
   "source": [
    "def sample(filename):\n",
    "    data_points, _ = librosa.load(filename)\n",
    "    print (\"Initial Data Points:\", len(data_points))\n",
    "    print('-'*30)\n",
    "    \n",
    "    mfccs, chroma, mel, contrast, tonnetz = extract_features(filename)\n",
    "    all_features = np.hstack((mfccs,chroma,mel,contrast,tonnetz))\n",
    "    print (\"MFCSS features: \", len(mfccs))\n",
    "    print (\"Chroma features: \", len(chroma))\n",
    "    print (\"Mel spectogram features: \", len(mel))\n",
    "    print (\"Contrast features: \", len(contrast))\n",
    "    print (\"Tonnetz features: \", len(tonnetz))\n",
    "    print (\"Combined extracted features:\", len(all_features))\n",
    "\n",
    "test = r'C:\\Users\\DEVARSHI\\Desktop\\heartbeats-master\\heartbeats-master\\data\\physionet\\training-a\\a0001.wav'\n",
    "sample(test)"
   ]
  },
  {
   "cell_type": "markdown",
   "metadata": {},
   "source": [
    "- 5 features will result in a vector of 193 value. This vector will always have the same length even if the audio files are of different length. \n",
    "\n",
    "- As it can be observed the input sound file had 786436 data point which is derived from sampaling rate of 22050 and it was reduced to 193 dimention points."
   ]
  },
  {
   "cell_type": "code",
   "execution_count": 4,
   "metadata": {},
   "outputs": [],
   "source": [
    "def parse_files(paths):\n",
    "    \n",
    "    save_path = os.path.join('data', 'physionet', 'reduced_features') # It will make new folder named reduced_features \n",
    "                                                                      # and saves .npy file \n",
    "    for path, df_name in paths:\n",
    "        csv_path = os.path.join(path, 'REFERENCE.csv')\n",
    "        df = pd.read_csv(csv_path, names = ['file', 'target'])\n",
    "        df['file'] = df['file'].apply(lambda f: os.path.join(path,f + '.wav'))\n",
    "        df['features'] = df['file'].apply(parse_file)\n",
    "        df['target'] = df['target'].apply(lambda x: 1 if x == -1 else 0)\n",
    "        \n",
    "        feature_file = os.path.join(save_path, df_name + '_x.npy')\n",
    "        label_file = os.path.join(save_path, df_name + '_y.npy')\n",
    "        np.save(feature_file, np.array(df['features'].tolist()))\n",
    "        np.save(label_file, np.array(df['target'].tolist()))\n",
    "        \n",
    "paths = [(os.path.join('data', 'physionet', 'training-a'), 'df_a'),\n",
    "         (os.path.join('data', 'physionet', 'training-b'), 'df_b'), \n",
    "         (os.path.join('data', 'physionet', 'training-c'), 'df_c'),\n",
    "         (os.path.join('data', 'physionet', 'training-d'), 'df_d'),\n",
    "         (os.path.join('data', 'physionet', 'training-e'), 'df_e')]\n",
    "\n",
    "\n",
    "#parse_files(paths)    # comment out this if you already have reduce feature files."
   ]
  },
  {
   "cell_type": "code",
   "execution_count": 5,
   "metadata": {},
   "outputs": [
    {
     "name": "stderr",
     "output_type": "stream",
     "text": [
      "100%|███████████████████████████████████████████████████████████████████████████████████| 5/5 [00:00<00:00, 455.65it/s]\n"
     ]
    }
   ],
   "source": [
    "npfiles = [('df_a_x.npy','df_a_y.npy'),\n",
    "           ('df_b_x.npy','df_b_y.npy'),\n",
    "           ('df_c_x.npy','df_c_y.npy'),\n",
    "           ('df_d_x.npy','df_d_y.npy'),\n",
    "           ('df_e_x.npy','df_e_y.npy')]\n",
    "\n",
    "data_save = r'C:\\Users\\DEVARSHI\\Desktop\\heartbeats-master\\heartbeats-master\\data\\physionet\\reduced_features'\n",
    "\n",
    "from tqdm import tqdm\n",
    "\n",
    "def load_npfiles(npfiles):\n",
    "    concatenate = False\n",
    "    for x, y in tqdm(npfiles):\n",
    "        loaded_features = np.load(os.path.join(data_save, x))\n",
    "        loaded_labels = np.load(os.path.join(data_save, y))\n",
    "       \n",
    "        if concatenate:\n",
    "            features = np.concatenate((features, loaded_features))\n",
    "            labels = np.concatenate((labels, loaded_labels))\n",
    "        else:\n",
    "            features = loaded_features\n",
    "            labels = loaded_labels\n",
    "            concatenate = True\n",
    "    return features, labels\n",
    "    \n",
    "X, y = load_npfiles(npfiles)"
   ]
  },
  {
   "cell_type": "markdown",
   "metadata": {},
   "source": [
    "### Training Neural Network"
   ]
  },
  {
   "cell_type": "markdown",
   "metadata": {},
   "source": [
    "First we will split the dataset into training and testing."
   ]
  },
  {
   "cell_type": "code",
   "execution_count": 6,
   "metadata": {},
   "outputs": [],
   "source": [
    "from sklearn.model_selection import train_test_split\n",
    "x_train, x_test, y_train, y_test = train_test_split(X, y, test_size=0.25, random_state=42)"
   ]
  },
  {
   "cell_type": "code",
   "execution_count": 7,
   "metadata": {},
   "outputs": [
    {
     "name": "stderr",
     "output_type": "stream",
     "text": [
      "Using TensorFlow backend.\n"
     ]
    }
   ],
   "source": [
    "from keras.models import Sequential\n",
    "from keras import layers\n",
    "import tensorflow as tf\n",
    "import keras.backend as K\n",
    "from tensorflow.keras import initializers\n",
    "\n",
    "\n",
    "def create_model(dropout_rate=0.2):\n",
    "    model = Sequential()\n",
    "    model.add(layers.Dense(32, activation='relu', input_shape = (193,)))\n",
    "    model.add(layers.Dense(32, activation='relu'))\n",
    "    model.add(layers.Dropout(dropout_rate))\n",
    "    model.add(layers.Dense(1, activation='sigmoid'))\n",
    "    model.compile(optimizer='adam', loss='binary_crossentropy', metrics=['accuracy'])\n",
    "    return model"
   ]
  },
  {
   "cell_type": "code",
   "execution_count": 8,
   "metadata": {},
   "outputs": [],
   "source": [
    "model = create_model()"
   ]
  },
  {
   "cell_type": "markdown",
   "metadata": {},
   "source": [
    "Here 3 layers are used, in which first and second layer has 32 neurons with dense connections and last layer has 1 neuron. Activation fuctionis relu and sigmoid respectively. Drope out rate is set to 20%, which will randomly ignore 20% connection of dense network. Optimizer is Adam for faster convergence."
   ]
  },
  {
   "cell_type": "markdown",
   "metadata": {},
   "source": [
    "### Training model"
   ]
  },
  {
   "cell_type": "code",
   "execution_count": 9,
   "metadata": {
    "scrolled": true
   },
   "outputs": [
    {
     "name": "stdout",
     "output_type": "stream",
     "text": [
      "Train on 2344 samples, validate on 782 samples\n",
      "Epoch 1/40\n",
      "2344/2344 [==============================] - ETA: 21s - loss: 4.2604 - accuracy: 0.843 - ETA: 0s - loss: 4.4846 - accuracy: 0.700 - ETA: 0s - loss: 3.3200 - accuracy: 0.70 - ETA: 0s - loss: 2.8982 - accuracy: 0.70 - 1s 239us/step - loss: 2.6598 - accuracy: 0.7086 - val_loss: 0.6074 - val_accuracy: 0.7954\n",
      "Epoch 2/40\n",
      "2344/2344 [==============================] - ETA: 0s - loss: 0.9387 - accuracy: 0.75 - ETA: 0s - loss: 1.2385 - accuracy: 0.75 - ETA: 0s - loss: 1.0914 - accuracy: 0.75 - ETA: 0s - loss: 1.1144 - accuracy: 0.76 - ETA: 0s - loss: 1.0353 - accuracy: 0.76 - 0s 125us/step - loss: 0.9618 - accuracy: 0.7692 - val_loss: 0.3641 - val_accuracy: 0.8325\n",
      "Epoch 3/40\n",
      "2344/2344 [==============================] - ETA: 0s - loss: 0.4967 - accuracy: 0.75 - ETA: 0s - loss: 0.7469 - accuracy: 0.74 - ETA: 0s - loss: 0.6834 - accuracy: 0.75 - ETA: 0s - loss: 0.6353 - accuracy: 0.77 - 0s 102us/step - loss: 0.6114 - accuracy: 0.7799 - val_loss: 0.4404 - val_accuracy: 0.8223\n",
      "Epoch 4/40\n",
      "2344/2344 [==============================] - ETA: 0s - loss: 0.3246 - accuracy: 0.84 - ETA: 0s - loss: 0.4480 - accuracy: 0.81 - ETA: 0s - loss: 0.4426 - accuracy: 0.81 - ETA: 0s - loss: 0.4283 - accuracy: 0.81 - 0s 104us/step - loss: 0.4243 - accuracy: 0.8170 - val_loss: 0.4223 - val_accuracy: 0.8593\n",
      "Epoch 5/40\n",
      "2344/2344 [==============================] - ETA: 0s - loss: 0.3535 - accuracy: 0.84 - ETA: 0s - loss: 0.3647 - accuracy: 0.82 - ETA: 0s - loss: 0.3812 - accuracy: 0.81 - ETA: 0s - loss: 0.3718 - accuracy: 0.82 - 0s 102us/step - loss: 0.3766 - accuracy: 0.8183 - val_loss: 0.3769 - val_accuracy: 0.8389\n",
      "Epoch 6/40\n",
      "2344/2344 [==============================] - ETA: 0s - loss: 0.2144 - accuracy: 0.93 - ETA: 0s - loss: 0.3652 - accuracy: 0.83 - ETA: 0s - loss: 0.3568 - accuracy: 0.83 - ETA: 0s - loss: 0.3437 - accuracy: 0.83 - 0s 98us/step - loss: 0.3385 - accuracy: 0.8370 - val_loss: 0.4160 - val_accuracy: 0.8606\n",
      "Epoch 7/40\n",
      "2344/2344 [==============================] - ETA: 0s - loss: 0.2915 - accuracy: 0.84 - ETA: 0s - loss: 0.3120 - accuracy: 0.85 - ETA: 0s - loss: 0.3149 - accuracy: 0.85 - ETA: 0s - loss: 0.3149 - accuracy: 0.85 - 0s 96us/step - loss: 0.3108 - accuracy: 0.8537 - val_loss: 0.4290 - val_accuracy: 0.8645\n",
      "Epoch 8/40\n",
      "2344/2344 [==============================] - ETA: 0s - loss: 0.2768 - accuracy: 0.84 - ETA: 0s - loss: 0.3061 - accuracy: 0.84 - ETA: 0s - loss: 0.3120 - accuracy: 0.84 - ETA: 0s - loss: 0.2994 - accuracy: 0.85 - 0s 96us/step - loss: 0.3065 - accuracy: 0.8528 - val_loss: 0.4341 - val_accuracy: 0.8581\n",
      "Epoch 9/40\n",
      "2344/2344 [==============================] - ETA: 0s - loss: 0.3892 - accuracy: 0.78 - ETA: 0s - loss: 0.3502 - accuracy: 0.83 - ETA: 0s - loss: 0.3162 - accuracy: 0.85 - ETA: 0s - loss: 0.3088 - accuracy: 0.85 - 0s 96us/step - loss: 0.2994 - accuracy: 0.8588 - val_loss: 0.4045 - val_accuracy: 0.8645\n",
      "Epoch 10/40\n",
      "2344/2344 [==============================] - ETA: 0s - loss: 0.3132 - accuracy: 0.78 - ETA: 0s - loss: 0.2984 - accuracy: 0.85 - ETA: 0s - loss: 0.2875 - accuracy: 0.87 - ETA: 0s - loss: 0.2888 - accuracy: 0.86 - 0s 102us/step - loss: 0.2875 - accuracy: 0.8699 - val_loss: 0.4401 - val_accuracy: 0.8862\n",
      "Epoch 11/40\n",
      "2344/2344 [==============================] - ETA: 0s - loss: 0.2434 - accuracy: 0.84 - ETA: 0s - loss: 0.2534 - accuracy: 0.88 - ETA: 0s - loss: 0.2719 - accuracy: 0.86 - ETA: 0s - loss: 0.2690 - accuracy: 0.87 - 0s 96us/step - loss: 0.2733 - accuracy: 0.8754 - val_loss: 0.4428 - val_accuracy: 0.8811\n",
      "Epoch 12/40\n",
      "2344/2344 [==============================] - ETA: 0s - loss: 0.1490 - accuracy: 0.93 - ETA: 0s - loss: 0.2758 - accuracy: 0.86 - ETA: 0s - loss: 0.2741 - accuracy: 0.86 - ETA: 0s - loss: 0.2750 - accuracy: 0.86 - 0s 96us/step - loss: 0.2757 - accuracy: 0.8690 - val_loss: 0.4504 - val_accuracy: 0.8772\n",
      "Epoch 13/40\n",
      "2344/2344 [==============================] - ETA: 0s - loss: 0.3239 - accuracy: 0.84 - ETA: 0s - loss: 0.3092 - accuracy: 0.86 - ETA: 0s - loss: 0.2826 - accuracy: 0.88 - ETA: 0s - loss: 0.2778 - accuracy: 0.87 - 0s 95us/step - loss: 0.2699 - accuracy: 0.8788 - val_loss: 0.3945 - val_accuracy: 0.8900\n",
      "Epoch 14/40\n",
      "2344/2344 [==============================] - ETA: 0s - loss: 0.2371 - accuracy: 0.87 - ETA: 0s - loss: 0.2540 - accuracy: 0.88 - ETA: 0s - loss: 0.2653 - accuracy: 0.88 - ETA: 0s - loss: 0.2633 - accuracy: 0.88 - 0s 96us/step - loss: 0.2623 - accuracy: 0.8852 - val_loss: 0.4511 - val_accuracy: 0.8568\n",
      "Epoch 15/40\n",
      "2344/2344 [==============================] - ETA: 0s - loss: 0.1385 - accuracy: 1.00 - ETA: 0s - loss: 0.2356 - accuracy: 0.90 - ETA: 0s - loss: 0.2492 - accuracy: 0.90 - ETA: 0s - loss: 0.2565 - accuracy: 0.88 - 0s 96us/step - loss: 0.2584 - accuracy: 0.8857 - val_loss: 0.4047 - val_accuracy: 0.8964\n",
      "Epoch 16/40\n",
      "2344/2344 [==============================] - ETA: 0s - loss: 0.1486 - accuracy: 0.96 - ETA: 0s - loss: 0.2445 - accuracy: 0.88 - ETA: 0s - loss: 0.2455 - accuracy: 0.89 - ETA: 0s - loss: 0.2588 - accuracy: 0.88 - 0s 97us/step - loss: 0.2569 - accuracy: 0.8861 - val_loss: 0.4146 - val_accuracy: 0.8619\n",
      "Epoch 17/40\n",
      "2344/2344 [==============================] - ETA: 0s - loss: 0.2806 - accuracy: 0.87 - ETA: 0s - loss: 0.2586 - accuracy: 0.88 - ETA: 0s - loss: 0.2471 - accuracy: 0.89 - ETA: 0s - loss: 0.2520 - accuracy: 0.89 - 0s 96us/step - loss: 0.2536 - accuracy: 0.8891 - val_loss: 0.4138 - val_accuracy: 0.8824\n",
      "Epoch 18/40\n",
      "2344/2344 [==============================] - ETA: 0s - loss: 0.2444 - accuracy: 0.90 - ETA: 0s - loss: 0.2673 - accuracy: 0.88 - ETA: 0s - loss: 0.2578 - accuracy: 0.88 - ETA: 0s - loss: 0.2514 - accuracy: 0.88 - 0s 96us/step - loss: 0.2632 - accuracy: 0.8823 - val_loss: 0.4304 - val_accuracy: 0.8862\n",
      "Epoch 19/40\n",
      "2344/2344 [==============================] - ETA: 0s - loss: 0.1528 - accuracy: 0.96 - ETA: 0s - loss: 0.2474 - accuracy: 0.89 - ETA: 0s - loss: 0.2558 - accuracy: 0.88 - ETA: 0s - loss: 0.2620 - accuracy: 0.88 - 0s 96us/step - loss: 0.2544 - accuracy: 0.8882 - val_loss: 0.3556 - val_accuracy: 0.8900\n",
      "Epoch 20/40\n",
      "2344/2344 [==============================] - ETA: 0s - loss: 0.3057 - accuracy: 0.78 - ETA: 0s - loss: 0.2721 - accuracy: 0.86 - ETA: 0s - loss: 0.2453 - accuracy: 0.88 - ETA: 0s - loss: 0.2412 - accuracy: 0.89 - 0s 94us/step - loss: 0.2401 - accuracy: 0.8938 - val_loss: 0.3713 - val_accuracy: 0.8913\n",
      "Epoch 21/40\n",
      "2344/2344 [==============================] - ETA: 0s - loss: 0.1270 - accuracy: 0.96 - ETA: 0s - loss: 0.2447 - accuracy: 0.89 - ETA: 0s - loss: 0.2522 - accuracy: 0.88 - ETA: 0s - loss: 0.2416 - accuracy: 0.88 - 0s 96us/step - loss: 0.2391 - accuracy: 0.8887 - val_loss: 0.3428 - val_accuracy: 0.9028\n",
      "Epoch 22/40\n",
      "2344/2344 [==============================] - ETA: 0s - loss: 0.1750 - accuracy: 0.93 - ETA: 0s - loss: 0.2335 - accuracy: 0.90 - ETA: 0s - loss: 0.2325 - accuracy: 0.90 - ETA: 0s - loss: 0.2330 - accuracy: 0.90 - 0s 98us/step - loss: 0.2324 - accuracy: 0.9027 - val_loss: 0.4529 - val_accuracy: 0.9066\n",
      "Epoch 23/40\n",
      "2344/2344 [==============================] - ETA: 0s - loss: 0.2224 - accuracy: 0.90 - ETA: 0s - loss: 0.2206 - accuracy: 0.91 - ETA: 0s - loss: 0.2383 - accuracy: 0.90 - ETA: 0s - loss: 0.2389 - accuracy: 0.90 - 0s 98us/step - loss: 0.2371 - accuracy: 0.8993 - val_loss: 0.3973 - val_accuracy: 0.9054\n",
      "Epoch 24/40\n",
      "2344/2344 [==============================] - ETA: 0s - loss: 0.1931 - accuracy: 0.87 - ETA: 0s - loss: 0.2148 - accuracy: 0.90 - ETA: 0s - loss: 0.2136 - accuracy: 0.90 - ETA: 0s - loss: 0.2204 - accuracy: 0.90 - ETA: 0s - loss: 0.2240 - accuracy: 0.90 - 0s 118us/step - loss: 0.2285 - accuracy: 0.9019 - val_loss: 0.4074 - val_accuracy: 0.9015\n",
      "Epoch 25/40\n",
      "2344/2344 [==============================] - ETA: 0s - loss: 0.1494 - accuracy: 0.96 - ETA: 0s - loss: 0.1969 - accuracy: 0.92 - ETA: 0s - loss: 0.2201 - accuracy: 0.90 - ETA: 0s - loss: 0.2276 - accuracy: 0.89 - 0s 97us/step - loss: 0.2276 - accuracy: 0.9002 - val_loss: 0.4356 - val_accuracy: 0.9003\n",
      "Epoch 26/40\n"
     ]
    },
    {
     "name": "stdout",
     "output_type": "stream",
     "text": [
      "2344/2344 [==============================] - ETA: 0s - loss: 0.1278 - accuracy: 0.90 - ETA: 0s - loss: 0.2267 - accuracy: 0.90 - ETA: 0s - loss: 0.2295 - accuracy: 0.90 - ETA: 0s - loss: 0.2295 - accuracy: 0.90 - 0s 95us/step - loss: 0.2299 - accuracy: 0.9006 - val_loss: 0.3727 - val_accuracy: 0.8977\n",
      "Epoch 27/40\n",
      "2344/2344 [==============================] - ETA: 0s - loss: 0.1562 - accuracy: 0.96 - ETA: 0s - loss: 0.2137 - accuracy: 0.90 - ETA: 0s - loss: 0.2061 - accuracy: 0.90 - ETA: 0s - loss: 0.2136 - accuracy: 0.90 - 0s 96us/step - loss: 0.2217 - accuracy: 0.9002 - val_loss: 0.3970 - val_accuracy: 0.9003\n",
      "Epoch 28/40\n",
      "2344/2344 [==============================] - ETA: 0s - loss: 0.1596 - accuracy: 0.93 - ETA: 0s - loss: 0.2428 - accuracy: 0.90 - ETA: 0s - loss: 0.2398 - accuracy: 0.89 - ETA: 0s - loss: 0.2274 - accuracy: 0.90 - 0s 96us/step - loss: 0.2265 - accuracy: 0.9083 - val_loss: 0.4391 - val_accuracy: 0.8747\n",
      "Epoch 29/40\n",
      "2344/2344 [==============================] - ETA: 0s - loss: 0.0881 - accuracy: 1.00 - ETA: 0s - loss: 0.2087 - accuracy: 0.91 - ETA: 0s - loss: 0.2130 - accuracy: 0.90 - ETA: 0s - loss: 0.2149 - accuracy: 0.90 - 0s 97us/step - loss: 0.2194 - accuracy: 0.9023 - val_loss: 0.4521 - val_accuracy: 0.8811\n",
      "Epoch 30/40\n",
      "2344/2344 [==============================] - ETA: 0s - loss: 0.2783 - accuracy: 0.87 - ETA: 0s - loss: 0.2217 - accuracy: 0.90 - ETA: 0s - loss: 0.2269 - accuracy: 0.89 - ETA: 0s - loss: 0.2314 - accuracy: 0.89 - 0s 96us/step - loss: 0.2249 - accuracy: 0.8946 - val_loss: 0.3891 - val_accuracy: 0.9028\n",
      "Epoch 31/40\n",
      "2344/2344 [==============================] - ETA: 0s - loss: 0.2369 - accuracy: 0.93 - ETA: 0s - loss: 0.2167 - accuracy: 0.90 - ETA: 0s - loss: 0.2171 - accuracy: 0.90 - ETA: 0s - loss: 0.2214 - accuracy: 0.90 - 0s 97us/step - loss: 0.2180 - accuracy: 0.9057 - val_loss: 0.3856 - val_accuracy: 0.9041\n",
      "Epoch 32/40\n",
      "2344/2344 [==============================] - ETA: 0s - loss: 0.1942 - accuracy: 0.93 - ETA: 0s - loss: 0.2124 - accuracy: 0.90 - ETA: 0s - loss: 0.2281 - accuracy: 0.89 - ETA: 0s - loss: 0.2170 - accuracy: 0.90 - 0s 96us/step - loss: 0.2221 - accuracy: 0.9036 - val_loss: 0.4850 - val_accuracy: 0.8926\n",
      "Epoch 33/40\n",
      "2344/2344 [==============================] - ETA: 0s - loss: 0.1004 - accuracy: 1.00 - ETA: 0s - loss: 0.2133 - accuracy: 0.89 - ETA: 0s - loss: 0.2460 - accuracy: 0.88 - ETA: 0s - loss: 0.2248 - accuracy: 0.89 - 0s 97us/step - loss: 0.2211 - accuracy: 0.9006 - val_loss: 0.4652 - val_accuracy: 0.9041\n",
      "Epoch 34/40\n",
      "2344/2344 [==============================] - ETA: 0s - loss: 0.2062 - accuracy: 0.90 - ETA: 0s - loss: 0.2211 - accuracy: 0.91 - ETA: 0s - loss: 0.2096 - accuracy: 0.91 - ETA: 0s - loss: 0.2097 - accuracy: 0.91 - 0s 96us/step - loss: 0.2162 - accuracy: 0.9104 - val_loss: 0.5257 - val_accuracy: 0.8657\n",
      "Epoch 35/40\n",
      "2344/2344 [==============================] - ETA: 0s - loss: 0.1842 - accuracy: 0.90 - ETA: 0s - loss: 0.2246 - accuracy: 0.91 - ETA: 0s - loss: 0.2219 - accuracy: 0.91 - ETA: 0s - loss: 0.2231 - accuracy: 0.90 - 0s 96us/step - loss: 0.2230 - accuracy: 0.9070 - val_loss: 0.4878 - val_accuracy: 0.8951\n",
      "Epoch 36/40\n",
      "2344/2344 [==============================] - ETA: 0s - loss: 0.2626 - accuracy: 0.84 - ETA: 0s - loss: 0.2195 - accuracy: 0.90 - ETA: 0s - loss: 0.2156 - accuracy: 0.90 - ETA: 0s - loss: 0.2119 - accuracy: 0.90 - 0s 94us/step - loss: 0.2156 - accuracy: 0.9087 - val_loss: 0.4784 - val_accuracy: 0.8990\n",
      "Epoch 37/40\n",
      "2344/2344 [==============================] - ETA: 0s - loss: 0.1817 - accuracy: 0.90 - ETA: 0s - loss: 0.2295 - accuracy: 0.89 - ETA: 0s - loss: 0.2199 - accuracy: 0.90 - ETA: 0s - loss: 0.2128 - accuracy: 0.90 - 0s 97us/step - loss: 0.2117 - accuracy: 0.9083 - val_loss: 0.4824 - val_accuracy: 0.8926\n",
      "Epoch 38/40\n",
      "2344/2344 [==============================] - ETA: 0s - loss: 0.1301 - accuracy: 0.93 - ETA: 0s - loss: 0.2114 - accuracy: 0.91 - ETA: 0s - loss: 0.2094 - accuracy: 0.91 - ETA: 0s - loss: 0.2100 - accuracy: 0.91 - 0s 97us/step - loss: 0.2107 - accuracy: 0.9151 - val_loss: 0.3587 - val_accuracy: 0.8951\n",
      "Epoch 39/40\n",
      "2344/2344 [==============================] - ETA: 0s - loss: 0.2530 - accuracy: 0.84 - ETA: 0s - loss: 0.2476 - accuracy: 0.89 - ETA: 0s - loss: 0.2258 - accuracy: 0.91 - ETA: 0s - loss: 0.2254 - accuracy: 0.91 - 0s 95us/step - loss: 0.2195 - accuracy: 0.9134 - val_loss: 0.4220 - val_accuracy: 0.9028\n",
      "Epoch 40/40\n",
      "2344/2344 [==============================] - ETA: 0s - loss: 0.3611 - accuracy: 0.78 - ETA: 0s - loss: 0.1903 - accuracy: 0.91 - ETA: 0s - loss: 0.1920 - accuracy: 0.91 - ETA: 0s - loss: 0.2024 - accuracy: 0.91 - 0s 96us/step - loss: 0.2035 - accuracy: 0.9113 - val_loss: 0.4486 - val_accuracy: 0.9028\n"
     ]
    }
   ],
   "source": [
    "history = model.fit(x_train, y_train, epochs=40, batch_size=32, validation_data=(x_test, y_test))"
   ]
  },
  {
   "cell_type": "code",
   "execution_count": 10,
   "metadata": {},
   "outputs": [
    {
     "data": {
      "image/png": "[encoded data removed]",
      "text/plain": [
       "<Figure size 432x288 with 1 Axes>"
      ]
     },
     "metadata": {
      "needs_background": "light"
     },
     "output_type": "display_data"
    }
   ],
   "source": [
    "epochs = range(1, 41)\n",
    "plt.figure()\n",
    "plt.plot(epochs, history.history['loss'], 'b--', label='Training loss')\n",
    "plt.plot(epochs, history.history['val_loss'], 'r-', label='Validation loss')\n",
    "plt.title('Training and validation loss')\n",
    "plt.xlabel('Number of epochs')\n",
    "plt.ylabel('loss')\n",
    "plt.legend()\n",
    "plt.show()"
   ]
  },
  {
   "cell_type": "code",
   "execution_count": 11,
   "metadata": {
    "scrolled": true
   },
   "outputs": [
    {
     "data": {
      "image/png": "[encoded data removed]",
      "text/plain": [
       "<Figure size 432x288 with 1 Axes>"
      ]
     },
     "metadata": {
      "needs_background": "light"
     },
     "output_type": "display_data"
    }
   ],
   "source": [
    "plt.figure()\n",
    "plt.plot(epochs, history.history['accuracy'], 'b--', label='Training accuracy')\n",
    "plt.plot(epochs, history.history['val_accuracy'], 'r-', label='Validation accuracy')\n",
    "plt.title('Training and validation accuracy')\n",
    "plt.xlabel('Number of epochs')\n",
    "plt.ylabel('Accuracy')\n",
    "plt.legend()\n",
    "plt.show()"
   ]
  },
  {
   "cell_type": "markdown",
   "metadata": {},
   "source": [
    "## Gridsearch\n",
    "We will use GridSearch to train separate instances of a model with different hyperparameters. Then, we will compare results to identify which combination of parameters produces the best resutls."
   ]
  },
  {
   "cell_type": "code",
   "execution_count": 12,
   "metadata": {},
   "outputs": [
    {
     "name": "stdout",
     "output_type": "stream",
     "text": [
      "782/782 [==============================] - ETA:  - 0s 41us/step\n",
      "\n",
      "Accuracy: 0.9028133153915405\n",
      "Precision: 0.9247311827956989\n",
      "Recall: 0.9570747217806042\n",
      "F-Score: 0.9406249999999999\n",
      "Confusion Matrix:\n",
      "[[104  49]\n",
      " [ 27 602]]\n"
     ]
    }
   ],
   "source": [
    "def evaluate(model, x_test, y_test):\n",
    "    y_pred = model.predict_classes(x_test)\n",
    "\n",
    "    score, accuracy = model.evaluate(x_test, y_test, batch_size=32)\n",
    "    print (\"\\nAccuracy:\", accuracy)\n",
    "\n",
    "    p = precision_score(y_test, y_pred)\n",
    "    r = recall_score(y_test, y_pred)\n",
    "    f1 = f1_score(y_test, y_pred)\n",
    "    print (\"Precision:\", p)\n",
    "    print (\"Recall:\", r)\n",
    "    print (\"F-Score:\", f1)\n",
    "    print (\"Confusion Matrix:\")\n",
    "    print (confusion_matrix(y_test, y_pred))\n",
    "    \n",
    "evaluate(model, x_test, y_test)"
   ]
  },
  {
   "cell_type": "code",
   "execution_count": 16,
   "metadata": {
    "scrolled": true
   },
   "outputs": [
    {
     "name": "stdout",
     "output_type": "stream",
     "text": [
      "Best accuracy: 0.9413015194140919 using parameters {'batch_size': 32, 'dropout_rate': 0.1, 'epochs': 40}\n"
     ]
    }
   ],
   "source": [
    "from keras.wrappers.scikit_learn import KerasClassifier\n",
    "from sklearn.model_selection import GridSearchCV\n",
    "\n",
    "model = KerasClassifier(build_fn=create_model)\n",
    "\n",
    "epochs = [10, 20, 30, 40]\n",
    "dropout_rate = [0.1, 0.2, 0.3, 0.4, 0.5]\n",
    "batch_size = [32]\n",
    "param_grid = dict(dropout_rate=dropout_rate, epochs=epochs, batch_size = batch_size)\n",
    "grid = GridSearchCV(estimator=model, param_grid=param_grid, scoring='f1', verbose=0)\n",
    "\n",
    "grid_result = grid.fit(x_train, y_train, verbose=0)\n",
    "\n",
    "print (\"Best accuracy: {0} using parameters {1}\".format(grid_result.best_score_, grid_result.best_params_))"
   ]
  },
  {
   "cell_type": "code",
   "execution_count": 17,
   "metadata": {},
   "outputs": [],
   "source": [
    "# model.load_weights('models/ffn.hdf5') # load weights to model"
   ]
  },
  {
   "cell_type": "markdown",
   "metadata": {},
   "source": [
    "## Results\n",
    "\n",
    "Here Best parameters are according to gridsearch:\n",
    "<li>epochs: 40</li>\n",
    "<li>dropout rate: 0.1</li>\n",
    "<li>batch size: 32</li>\n",
    "<li>Accuracy: 94.13%</li>"
   ]
  }
 ],
 "metadata": {
  "kernelspec": {
   "display_name": "TensorFlow-GPU-1.13",
   "language": "python",
   "name": "tf-gpu"
  },
  "language_info": {
   "codemirror_mode": {
    "name": "ipython",
    "version": 3
   },
   "file_extension": ".py",
   "mimetype": "text/x-python",
   "name": "python",
   "nbconvert_exporter": "python",
   "pygments_lexer": "ipython3",
   "version": "3.7.4"
  }
 },
 "nbformat": 4,
 "nbformat_minor": 2
}
