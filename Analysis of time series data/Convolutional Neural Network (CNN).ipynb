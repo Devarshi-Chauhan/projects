{
 "cells": [
  {
   "cell_type": "markdown",
   "metadata": {},
   "source": [
    "## Convolutional Neural Network (CNN)"
   ]
  },
  {
   "cell_type": "markdown",
   "metadata": {},
   "source": [
    "### Feature Extraction"
   ]
  },
  {
   "cell_type": "markdown",
   "metadata": {},
   "source": [
    "<li>Each sound clip is divided into segments of 60x41 (60 rows and 41 columns). Two channels mel-spec and their deltas were fed into the CNN.</li>\n",
    "<li>convolutional neural network with four layers with Relu activation function followed by two max pooling layers.</li>\n",
    "<li>After two dens layers dropout layer followed by dense layer with softmax activation is added to output probabilities of the sound classes.</li>\n",
    "<li>We will use Adam optimizer to minimize binary crossentropy loss to training the network.</li>\n",
    "\n",
    "reference of feature extraction: http://aqibsaeed.github.io/2016-09-24-urban-sound-classification-part-2/"
   ]
  },
  {
   "cell_type": "code",
   "execution_count": 1,
   "metadata": {},
   "outputs": [
    {
     "data": {
      "text/html": [
       "<img src=\"http://aqibsaeed.github.io/img/urban-sound-cnn.PNG\" width=\"1000\" height=\"1000\"/>"
      ],
      "text/plain": [
       "<IPython.core.display.Image object>"
      ]
     },
     "execution_count": 1,
     "metadata": {},
     "output_type": "execute_result"
    }
   ],
   "source": [
    "# Architecture of model\n",
    "from IPython.display import Image\n",
    "from IPython.core.display import HTML \n",
    "Image(url= \"http://aqibsaeed.github.io/img/urban-sound-cnn.PNG\",width=1000, height=1000)"
   ]
  },
  {
   "cell_type": "code",
   "execution_count": 2,
   "metadata": {},
   "outputs": [],
   "source": [
    "import warnings\n",
    "warnings.filterwarnings(\"ignore\")"
   ]
  },
  {
   "cell_type": "code",
   "execution_count": 3,
   "metadata": {},
   "outputs": [],
   "source": [
    "import os\n",
    "import librosa\n",
    "import matplotlib.pyplot as plt\n",
    "import tensorflow as tf\n",
    "import numpy as np\n",
    "import pandas as pd\n",
    "from sklearn.metrics import precision_score, recall_score, f1_score, confusion_matrix\n",
    "import glob"
   ]
  },
  {
   "cell_type": "code",
   "execution_count": 4,
   "metadata": {},
   "outputs": [],
   "source": [
    "def window(data, window_size):\n",
    "    start = 0\n",
    "    while start < len(data):\n",
    "        yield start, start + window_size\n",
    "        start += int(window_size / 2)"
   ]
  },
  {
   "cell_type": "code",
   "execution_count": 5,
   "metadata": {},
   "outputs": [],
   "source": [
    "def extract_features(filename, bands = 60, frames = 41):\n",
    "    window_size = 512 * (frames - 1)\n",
    "    log_specgrams = []\n",
    "    sound_clip,s = librosa.load(filename)        \n",
    "    for (start,end) in window(sound_clip,window_size):\n",
    "        start = int(start)\n",
    "        end = int(end)\n",
    "        if(len(sound_clip[start:end]) == window_size):\n",
    "            signal = sound_clip[start:end]\n",
    "            melspec = librosa.feature.melspectrogram(signal, n_mels = bands)\n",
    "            logspec = librosa.amplitude_to_db(melspec)\n",
    "            logspec = logspec.T.flatten()[:, np.newaxis].T\n",
    "            log_specgrams.append(logspec)\n",
    "            \n",
    "    log_specgrams = np.asarray(log_specgrams).reshape(len(log_specgrams),bands,frames,1)\n",
    "    features = np.concatenate((log_specgrams, np.zeros(np.shape(log_specgrams))), axis = 3)\n",
    "    for i in range(len(features)):\n",
    "        features[i, :, :, 1] = librosa.feature.delta(features[i, :, :, 0])\n",
    "    \n",
    "    return np.array(features)"
   ]
  },
  {
   "cell_type": "markdown",
   "metadata": {},
   "source": [
    "### Test file"
   ]
  },
  {
   "cell_type": "code",
   "execution_count": 6,
   "metadata": {},
   "outputs": [
    {
     "name": "stdout",
     "output_type": "stream",
     "text": [
      "Data Points in sound file = 786436\n",
      "Total features '(total segments, rows, columns,channel)' = (75, 60, 41, 2)\n"
     ]
    }
   ],
   "source": [
    "sample = os.path.join('data', 'physionet', 'training-a', 'a0001.wav')\n",
    "features = extract_features(sample)\n",
    "data_points, _ = librosa.load(sample)\n",
    "print (\"Data Points in sound file =\", len(data_points))\n",
    "print (\"Total features '(total segments, rows, columns,channel)' =\", np.shape(features))"
   ]
  },
  {
   "cell_type": "markdown",
   "metadata": {},
   "source": [
    "<li>Its important to point out that this method outputs a feature representation bigger than the previous method used for the FFN. For the same file this method has reduced the input from 786436 features to 369000 compared to the previous 193 features. By having more information it is expected to have better results.</li>\n",
    "<li>Here total segment in each wav. file changes according to file length, which increses the total data points, leading to more reference frames.</li>"
   ]
  },
  {
   "cell_type": "code",
   "execution_count": 7,
   "metadata": {},
   "outputs": [],
   "source": [
    "def parse_files(subdirs):\n",
    "    parent_dir = os.path.join('data', 'physionet')\n",
    "    save_path = os.path.join('data', 'physionet', 'reduced_features')\n",
    "    bands = 60\n",
    "    frames = 41\n",
    "    window_size = 512 * (frames - 1)\n",
    "    for path, df_name in paths:\n",
    "        log_specgrams = []\n",
    "        labels = []\n",
    "        csv_path = os.path.join(path, 'REFERENCE.csv')\n",
    "        df = pd.read_csv(csv_path, names = ['fname', 'target'])\n",
    "        df['fname'] = df['fname'].apply(lambda f: os.path.join(path,f + '.wav'))\n",
    "        df['target'] = df['target'].apply(lambda x: 1 if x == -1 else 0)\n",
    "        for index, row in df.iterrows():\n",
    "            sound_clip,s = librosa.load(row['fname'])\n",
    "            label = row['target']\n",
    "            for (start,end) in window(sound_clip,window_size):\n",
    "                if(len(sound_clip[start:end]) == int(window_size)):\n",
    "                    signal = sound_clip[start:end]\n",
    "                    melspec = librosa.feature.melspectrogram(signal, n_mels = bands)\n",
    "                    logspec = librosa.amplitude_to_db(melspec)\n",
    "                    logspec = logspec.T.flatten()[:, np.newaxis].T\n",
    "                    log_specgrams.append(logspec)\n",
    "                    labels.append(label)\n",
    "        log_specgrams = np.asarray(log_specgrams).reshape(len(log_specgrams),bands,frames,1)\n",
    "        features = np.concatenate((log_specgrams, np.zeros(np.shape(log_specgrams))), axis = 3)\n",
    "        for i in range(len(features)):\n",
    "            features[i, :, :, 1] = librosa.feature.delta(features[i, :, :, 0])\n",
    "        feature_file = os.path.join(save_path, df_name + '_cnn_x.npy')\n",
    "        np.save(feature_file, np.array(features))\n",
    "        feature_file = os.path.join(save_path, df_name + '_cnn_y.npy')\n",
    "        np.save(feature_file, np.array(labels))"
   ]
  },
  {
   "cell_type": "markdown",
   "metadata": {},
   "source": [
    "<li><font color=red>CNN is tested on subset of the parsed files in the repo in order to test, because complete dataset is large and takes more time.</font></li>"
   ]
  },
  {
   "cell_type": "code",
   "execution_count": 8,
   "metadata": {},
   "outputs": [],
   "source": [
    "paths = [(os.path.join('data', 'physionet', 'training-c'), 'df_c')]\n",
    "\n",
    "# Uncomment line below to parse all files.This will take a while :)\n",
    "\n",
    "#paths = [(os.path.join('data', 'physionet', 'training-a'), 'df_a'),\n",
    "#        (os.path.join('data', 'physionet', 'training-b'), 'df_b'),\n",
    "#        (os.path.join('data', 'physionet', 'training-c'), 'df_c'),\n",
    "#        (os.path.join('data', 'physionet', 'training-d'), 'df_d'),\n",
    "#        (os.path.join('data', 'physionet', 'training-e'), 'df_e')]\n",
    "\n",
    "\n",
    "parse_files(paths)"
   ]
  },
  {
   "cell_type": "code",
   "execution_count": 9,
   "metadata": {},
   "outputs": [
    {
     "name": "stdout",
     "output_type": "stream",
     "text": [
      "Adding X: df_c_cnn_x.npy\n",
      "Shape X: (3251, 60, 41, 2)\n",
      "Adding y: df_c_cnn_y.npy\n",
      "Shape Y: (3251,)\n"
     ]
    }
   ],
   "source": [
    "npfiles = [('df_c_cnn_x.npy','df_c_cnn_y.npy')]\n",
    "\n",
    "# Uncomment below to load all feature files.\n",
    "#npfiles = [('df_a_cnn_x.npy','df_a_cnn_y.npy'),\n",
    "#           ('df_b_cnn_x.npy','df_b_cnn_y.npy'),\n",
    "#           ('df_c_cnn_x.npy','df_c_cnn_y.npy'),\n",
    "#           ('df_d_cnn_x.npy','df_d_cnn_y.npy'),\n",
    "#           ('df_e_cnn_x.npy','df_e_cnn_y.npy')]\n",
    "\n",
    "data_dir = os.path.join('data', 'physionet', 'reduced_features')\n",
    "\n",
    "def load_npfiles(npfiles):\n",
    "    concatenate = False\n",
    "    for x, y in npfiles:\n",
    "        print(\"Adding X:\", x)\n",
    "        loaded_features = np.load(os.path.join(data_dir, x))\n",
    "        print(\"Shape X:\", loaded_features.shape)\n",
    "\n",
    "        print(\"Adding y:\", y)\n",
    "        loaded_labels = np.load(os.path.join(data_dir, y))\n",
    "        print(\"Shape Y:\", loaded_labels.shape)\n",
    "\n",
    "        if concatenate:\n",
    "            features = np.concatenate((features, loaded_features))\n",
    "            labels = np.concatenate((labels, loaded_labels))\n",
    "        else:\n",
    "            features = loaded_features\n",
    "            labels = loaded_labels\n",
    "            concatenate = True\n",
    "    return features, labels\n",
    "    \n",
    "X, y = load_npfiles(npfiles)"
   ]
  },
  {
   "cell_type": "markdown",
   "metadata": {},
   "source": [
    "### Training"
   ]
  },
  {
   "cell_type": "code",
   "execution_count": 10,
   "metadata": {},
   "outputs": [],
   "source": [
    "from sklearn.model_selection import train_test_split\n",
    "x_train, x_test, y_train, y_test = train_test_split(X, y, test_size=0.25)"
   ]
  },
  {
   "cell_type": "code",
   "execution_count": 11,
   "metadata": {},
   "outputs": [
    {
     "name": "stderr",
     "output_type": "stream",
     "text": [
      "Using TensorFlow backend.\n"
     ]
    }
   ],
   "source": [
    "from keras.models import Sequential\n",
    "from keras.layers import Convolution2D, MaxPooling2D\n",
    "from keras.layers import Dense, Dropout, Activation, Flatten\n",
    "import keras.backend as K\n",
    "\n",
    "def create_model(dropout_rate=0.5):\n",
    "    frames = 41\n",
    "    bands = 60\n",
    "    feature_size = bands * frames\n",
    "    num_channels = 2\n",
    "    f_size = 1\n",
    "    model = Sequential()\n",
    "    model.add(Convolution2D(48, f_size, strides=f_size, kernel_initializer='normal', padding='same', input_shape=(bands, frames, num_channels)))\n",
    "    model.add(Convolution2D(48, f_size, strides=f_size, kernel_initializer='normal', padding='same'))\n",
    "    model.add(Activation('relu'))\n",
    "    model.add(MaxPooling2D(pool_size=(2, 2)))\n",
    "    model.add(Convolution2D(96, f_size, strides=f_size, kernel_initializer='normal', padding='same'))\n",
    "    model.add(Convolution2D(96, f_size, strides=f_size, kernel_initializer='normal', padding='same'))\n",
    "    model.add(Activation('relu'))\n",
    "    model.add(MaxPooling2D(pool_size=(2, 2)))\n",
    "    model.add(Flatten())\n",
    "    model.add(Dense(256))\n",
    "    model.add(Activation('relu'))\n",
    "    model.add(Dense(32))\n",
    "    model.add(Dropout(dropout_rate))\n",
    "    model.add(Dense(1))\n",
    "    model.add(Activation('sigmoid'))\n",
    "    model.compile(optimizer='adam', loss='binary_crossentropy', metrics=['accuracy'])\n",
    "    return model"
   ]
  },
  {
   "cell_type": "code",
   "execution_count": 12,
   "metadata": {},
   "outputs": [],
   "source": [
    "model = create_model() # create model"
   ]
  },
  {
   "cell_type": "code",
   "execution_count": 13,
   "metadata": {},
   "outputs": [
    {
     "name": "stdout",
     "output_type": "stream",
     "text": [
      "Train on 2438 samples, validate on 813 samples\n",
      "Epoch 1/25\n",
      "2438/2438 [==============================] - 10s 4ms/step - loss: 0.3587 - accuracy: 0.8060 - val_loss: 0.2847 - val_accuracy: 0.8303\n",
      "Epoch 2/25\n",
      "2438/2438 [==============================] - 9s 4ms/step - loss: 0.2888 - accuracy: 0.8249 - val_loss: 0.2613 - val_accuracy: 0.8573\n",
      "Epoch 3/25\n",
      "2438/2438 [==============================] - 9s 4ms/step - loss: 0.2519 - accuracy: 0.8679 - val_loss: 0.2156 - val_accuracy: 0.8893\n",
      "Epoch 4/25\n",
      "2438/2438 [==============================] - 9s 4ms/step - loss: 0.1638 - accuracy: 0.9282 - val_loss: 0.1634 - val_accuracy: 0.9422\n",
      "Epoch 5/25\n",
      "2438/2438 [==============================] - 9s 4ms/step - loss: 0.0982 - accuracy: 0.9623 - val_loss: 0.1038 - val_accuracy: 0.9533\n",
      "Epoch 6/25\n",
      "2438/2438 [==============================] - 9s 4ms/step - loss: 0.0907 - accuracy: 0.9696 - val_loss: 0.1124 - val_accuracy: 0.9533\n",
      "Epoch 7/25\n",
      "2438/2438 [==============================] - 9s 4ms/step - loss: 0.0680 - accuracy: 0.9774 - val_loss: 0.0902 - val_accuracy: 0.9705\n",
      "Epoch 8/25\n",
      "2438/2438 [==============================] - 9s 4ms/step - loss: 0.0429 - accuracy: 0.9840 - val_loss: 0.1062 - val_accuracy: 0.9582\n",
      "Epoch 9/25\n",
      "2438/2438 [==============================] - 9s 4ms/step - loss: 0.0289 - accuracy: 0.9897 - val_loss: 0.0543 - val_accuracy: 0.9828\n",
      "Epoch 10/25\n",
      "2438/2438 [==============================] - 9s 4ms/step - loss: 0.0147 - accuracy: 0.9955 - val_loss: 0.0729 - val_accuracy: 0.9742\n",
      "Epoch 11/25\n",
      "2438/2438 [==============================] - 10s 4ms/step - loss: 0.0219 - accuracy: 0.9922 - val_loss: 0.1150 - val_accuracy: 0.9729\n",
      "Epoch 12/25\n",
      "2438/2438 [==============================] - 9s 4ms/step - loss: 0.0868 - accuracy: 0.9774 - val_loss: 0.0556 - val_accuracy: 0.9766\n",
      "Epoch 13/25\n",
      "2438/2438 [==============================] - 9s 4ms/step - loss: 0.0104 - accuracy: 0.9967 - val_loss: 0.0805 - val_accuracy: 0.9754\n",
      "Epoch 14/25\n",
      "2438/2438 [==============================] - 9s 4ms/step - loss: 0.0130 - accuracy: 0.9979 - val_loss: 0.1378 - val_accuracy: 0.9705\n",
      "Epoch 15/25\n",
      "2438/2438 [==============================] - 9s 4ms/step - loss: 0.0194 - accuracy: 0.9934 - val_loss: 0.0612 - val_accuracy: 0.9815\n",
      "Epoch 16/25\n",
      "2438/2438 [==============================] - 9s 4ms/step - loss: 0.0049 - accuracy: 0.9988 - val_loss: 0.0597 - val_accuracy: 0.9840\n",
      "Epoch 17/25\n",
      "2438/2438 [==============================] - 9s 4ms/step - loss: 0.0011 - accuracy: 1.0000 - val_loss: 0.0596 - val_accuracy: 0.9877\n",
      "Epoch 18/25\n",
      "2438/2438 [==============================] - 9s 4ms/step - loss: 5.7087e-04 - accuracy: 1.0000 - val_loss: 0.0607 - val_accuracy: 0.9889\n",
      "Epoch 19/25\n",
      "2438/2438 [==============================] - 9s 4ms/step - loss: 4.9592e-04 - accuracy: 1.0000 - val_loss: 0.0618 - val_accuracy: 0.9877\n",
      "Epoch 20/25\n",
      "2438/2438 [==============================] - 9s 4ms/step - loss: 5.5882e-04 - accuracy: 1.0000 - val_loss: 0.0667 - val_accuracy: 0.9877\n",
      "Epoch 21/25\n",
      "2438/2438 [==============================] - 9s 4ms/step - loss: 3.1645e-04 - accuracy: 1.0000 - val_loss: 0.0673 - val_accuracy: 0.9877\n",
      "Epoch 22/25\n",
      "2438/2438 [==============================] - 9s 4ms/step - loss: 4.0505e-04 - accuracy: 1.0000 - val_loss: 0.0722 - val_accuracy: 0.9889\n",
      "Epoch 23/25\n",
      "2438/2438 [==============================] - 9s 4ms/step - loss: 2.8207e-04 - accuracy: 1.0000 - val_loss: 0.0665 - val_accuracy: 0.9889\n",
      "Epoch 24/25\n",
      "2438/2438 [==============================] - 9s 4ms/step - loss: 4.8398e-04 - accuracy: 1.0000 - val_loss: 0.0665 - val_accuracy: 0.9902\n",
      "Epoch 25/25\n",
      "2438/2438 [==============================] - 9s 4ms/step - loss: 2.7216e-04 - accuracy: 1.0000 - val_loss: 0.0649 - val_accuracy: 0.9889\n"
     ]
    }
   ],
   "source": [
    "history = model.fit(x_train, y_train, epochs=25, batch_size=32, validation_data=(x_test, y_test))"
   ]
  },
  {
   "cell_type": "code",
   "execution_count": 14,
   "metadata": {
    "scrolled": true
   },
   "outputs": [],
   "source": [
    "# Uncomment to save weights\n",
    "#model.save('models/cnn.hdf5')"
   ]
  },
  {
   "cell_type": "markdown",
   "metadata": {},
   "source": [
    "### Results"
   ]
  },
  {
   "cell_type": "code",
   "execution_count": 15,
   "metadata": {},
   "outputs": [
    {
     "data": {
      "image/png": "[encoded data removed]",
      "text/plain": [
       "<Figure size 432x288 with 1 Axes>"
      ]
     },
     "metadata": {
      "needs_background": "light"
     },
     "output_type": "display_data"
    }
   ],
   "source": [
    "epochs = range(1, 26)\n",
    "plt.figure()\n",
    "plt.plot(epochs, history.history['loss'], 'r', label='Training loss')\n",
    "plt.plot(epochs, history.history['val_loss'], 'b--', label='Validation loss')\n",
    "plt.title('Training and validation loss')\n",
    "plt.legend()\n",
    "plt.show()"
   ]
  },
  {
   "cell_type": "code",
   "execution_count": 16,
   "metadata": {},
   "outputs": [
    {
     "data": {
      "image/png": "[encoded data removed]",
      "text/plain": [
       "<Figure size 432x288 with 1 Axes>"
      ]
     },
     "metadata": {
      "needs_background": "light"
     },
     "output_type": "display_data"
    }
   ],
   "source": [
    "plt.figure()\n",
    "plt.plot(epochs, history.history['accuracy'], 'r', label='Training accuracy')\n",
    "plt.plot(epochs, history.history['val_accuracy'], 'b--', label='Validation accuracy')\n",
    "plt.title('Training and validation accuracy')\n",
    "plt.legend()\n",
    "plt.show()"
   ]
  },
  {
   "cell_type": "markdown",
   "metadata": {},
   "source": [
    "From the graphs we can observe that accuracy of the model does not increases after the 15th epoch."
   ]
  },
  {
   "cell_type": "code",
   "execution_count": 17,
   "metadata": {},
   "outputs": [],
   "source": [
    "# Uncomment to load weights\n",
    "#model.load_weights('models/cnn.hdf5')"
   ]
  },
  {
   "cell_type": "code",
   "execution_count": 18,
   "metadata": {},
   "outputs": [
    {
     "name": "stdout",
     "output_type": "stream",
     "text": [
      "813/813 [==============================] - 1s 729us/step\n",
      "--------------------------------------------------\n",
      "Accuracy: 0.9889298677444458\n",
      "Precision: 0.9708029197080292\n",
      "Recall: 0.9637681159420289\n",
      "F1-Score: 0.9672727272727273\n",
      "Confusion Matrix:\n",
      "[[671   4]\n",
      " [  5 133]]\n"
     ]
    }
   ],
   "source": [
    "def evaluate(model, x_test, y_test):\n",
    "    y_pred = model.predict_classes(x_test)\n",
    "    \n",
    "    score, accuracy = model.evaluate(x_test, y_test, batch_size=32)\n",
    "    print('-'*50)\n",
    "    \n",
    "    p = precision_score(y_test, y_pred)\n",
    "    r = recall_score(y_test, y_pred)\n",
    "    f1 = f1_score(y_test, y_pred)\n",
    "    print(\"Accuracy:\", accuracy)\n",
    "    print(\"Precision:\", p)\n",
    "    print(\"Recall:\", r)\n",
    "    print(\"F1-Score:\", f1)\n",
    "    print(\"Confusion Matrix:\")\n",
    "    print(confusion_matrix(y_test, y_pred))\n",
    "    \n",
    "evaluate(model, x_test, y_test)"
   ]
  },
  {
   "cell_type": "markdown",
   "metadata": {},
   "source": [
    "### Refinement"
   ]
  },
  {
   "cell_type": "markdown",
   "metadata": {},
   "source": [
    "As same as we did with the FFN to use GridSearch to find a set of hyperparameters that would generate the best model, we will use the same method with the CNN. Because of the time required to train the CNN in this part we will only experiment with the dropout rate. The same method can be applied to different parameters but it will require the signature of the function to create the model to match with what will be used in the GridSearch."
   ]
  },
  {
   "cell_type": "code",
   "execution_count": 19,
   "metadata": {
    "scrolled": false
   },
   "outputs": [
    {
     "name": "stdout",
     "output_type": "stream",
     "text": [
      "Epoch 1/1\n",
      "1625/1625 [==============================] - 6s 4ms/step - loss: 0.3626 - accuracy: 0.8049\n",
      "Epoch 1/1\n",
      "1625/1625 [==============================] - 6s 4ms/step - loss: 0.3715 - accuracy: 0.8178\n",
      "Epoch 1/1\n",
      "1626/1626 [==============================] - 6s 4ms/step - loss: 0.3971 - accuracy: 0.8026\n",
      "Epoch 1/1\n",
      "1625/1625 [==============================] - 6s 4ms/step - loss: 0.3943 - accuracy: 0.7988\n",
      "Epoch 1/1\n",
      "1625/1625 [==============================] - 6s 4ms/step - loss: 0.4146 - accuracy: 0.8086\n",
      "Epoch 1/1\n",
      "1626/1626 [==============================] - 6s 4ms/step - loss: 0.3882 - accuracy: 0.7934\n",
      "Epoch 1/1\n",
      "1625/1625 [==============================] - 6s 4ms/step - loss: 0.3665 - accuracy: 0.8049\n",
      "Epoch 1/1\n",
      "1625/1625 [==============================] - 6s 4ms/step - loss: 0.3755 - accuracy: 0.8142\n",
      "Epoch 1/1\n",
      "1626/1626 [==============================] - 6s 4ms/step - loss: 0.3987 - accuracy: 0.8001\n",
      "Epoch 1/1\n",
      "1625/1625 [==============================] - 6s 4ms/step - loss: 0.3815 - accuracy: 0.7883\n",
      "Epoch 1/1\n",
      "1625/1625 [==============================] - 6s 4ms/step - loss: 0.4180 - accuracy: 0.8234\n",
      "Epoch 1/1\n",
      "1626/1626 [==============================] - 6s 4ms/step - loss: 0.4068 - accuracy: 0.8007\n",
      "Epoch 1/1\n",
      "1625/1625 [==============================] - 6s 4ms/step - loss: 0.3900 - accuracy: 0.7920\n",
      "Epoch 1/1\n",
      "1625/1625 [==============================] - 6s 4ms/step - loss: 0.3765 - accuracy: 0.8062\n",
      "Epoch 1/1\n",
      "1626/1626 [==============================] - 6s 4ms/step - loss: 0.4099 - accuracy: 0.8100\n",
      "Epoch 1/1\n",
      "2438/2438 [==============================] - 9s 4ms/step - loss: 0.3596 - accuracy: 0.8048\n",
      "Best loss: 0.209477 using {'dropout_rate': 0.2}\n"
     ]
    }
   ],
   "source": [
    "from keras.wrappers.scikit_learn import KerasClassifier\n",
    "from sklearn.model_selection import GridSearchCV\n",
    "\n",
    "model = KerasClassifier(build_fn=create_model)\n",
    "\n",
    "dropout_rate = [0.1, 0.2, 0.3, 0.4, 0.5]\n",
    "\n",
    "param_grid = dict(dropout_rate=dropout_rate)\n",
    "grid = GridSearchCV(estimator=model, param_grid=param_grid, scoring='f1')\n",
    "\n",
    "grid_result = grid.fit(x_train, y_train)\n",
    "\n",
    "print(\"Best loss: %f using %s\" % (grid_result.best_score_, grid_result.best_params_))"
   ]
  },
  {
   "cell_type": "markdown",
   "metadata": {},
   "source": [
    "Now that we have the best value for the dropout rate lets use that to train a model. Also, from the first model we observed that after the 15th epoch the accuracy of the model did not improve, so we will use that value to train this model as well."
   ]
  },
  {
   "cell_type": "code",
   "execution_count": 20,
   "metadata": {},
   "outputs": [],
   "source": [
    "model = create_model(dropout_rate=0.2) # setting new drop out rate"
   ]
  },
  {
   "cell_type": "code",
   "execution_count": 26,
   "metadata": {
    "scrolled": false
   },
   "outputs": [
    {
     "name": "stdout",
     "output_type": "stream",
     "text": [
      "Train on 2438 samples, validate on 813 samples\n",
      "Epoch 1/15\n",
      "2438/2438 [==============================] - 10s 4ms/step - loss: 0.0084 - accuracy: 0.9975 - val_loss: 0.1020 - val_accuracy: 0.9803\n",
      "Epoch 2/15\n",
      "2438/2438 [==============================] - 9s 4ms/step - loss: 0.0023 - accuracy: 0.9992 - val_loss: 0.1201 - val_accuracy: 0.9803\n",
      "Epoch 3/15\n",
      "2438/2438 [==============================] - 9s 4ms/step - loss: 4.8087e-04 - accuracy: 1.0000 - val_loss: 0.1264 - val_accuracy: 0.9815\n",
      "Epoch 4/15\n",
      "2438/2438 [==============================] - 9s 4ms/step - loss: 2.8328e-04 - accuracy: 1.0000 - val_loss: 0.1291 - val_accuracy: 0.9815\n",
      "Epoch 5/15\n",
      "2438/2438 [==============================] - 9s 4ms/step - loss: 2.4078e-04 - accuracy: 1.0000 - val_loss: 0.1359 - val_accuracy: 0.9791\n",
      "Epoch 6/15\n",
      "2438/2438 [==============================] - 9s 4ms/step - loss: 2.0318e-04 - accuracy: 1.0000 - val_loss: 0.1310 - val_accuracy: 0.9779\n",
      "Epoch 7/15\n",
      "2438/2438 [==============================] - 9s 4ms/step - loss: 1.2667e-04 - accuracy: 1.0000 - val_loss: 0.1330 - val_accuracy: 0.9803\n",
      "Epoch 8/15\n",
      "2438/2438 [==============================] - 9s 4ms/step - loss: 1.0747e-04 - accuracy: 1.0000 - val_loss: 0.1332 - val_accuracy: 0.9815\n",
      "Epoch 9/15\n",
      "2438/2438 [==============================] - 9s 4ms/step - loss: 9.7486e-05 - accuracy: 1.0000 - val_loss: 0.1375 - val_accuracy: 0.9803\n",
      "Epoch 10/15\n",
      "2438/2438 [==============================] - 9s 4ms/step - loss: 6.7129e-05 - accuracy: 1.0000 - val_loss: 0.1360 - val_accuracy: 0.9803\n",
      "Epoch 11/15\n",
      "2438/2438 [==============================] - 9s 4ms/step - loss: 6.8944e-05 - accuracy: 1.0000 - val_loss: 0.1383 - val_accuracy: 0.9803\n",
      "Epoch 12/15\n",
      "2438/2438 [==============================] - 9s 4ms/step - loss: 4.0479e-05 - accuracy: 1.0000 - val_loss: 0.1396 - val_accuracy: 0.9815\n",
      "Epoch 13/15\n",
      "2438/2438 [==============================] - 9s 4ms/step - loss: 4.1435e-05 - accuracy: 1.0000 - val_loss: 0.1398 - val_accuracy: 0.9815\n",
      "Epoch 14/15\n",
      "2438/2438 [==============================] - 9s 4ms/step - loss: 3.9139e-05 - accuracy: 1.0000 - val_loss: 0.1416 - val_accuracy: 0.9815\n",
      "Epoch 15/15\n",
      "2438/2438 [==============================] - 10s 4ms/step - loss: 3.0388e-05 - accuracy: 1.0000 - val_loss: 0.1424 - val_accuracy: 0.9803\n"
     ]
    }
   ],
   "source": [
    "history = model.fit(x_train, y_train, epochs=15, batch_size=32, validation_data=(x_test, y_test)) # setting new epoch"
   ]
  },
  {
   "cell_type": "code",
   "execution_count": 27,
   "metadata": {
    "scrolled": false
   },
   "outputs": [],
   "source": [
    "#Uncomment to save weights\n",
    "#import h5py\n",
    "#model.save_weights('models/cnn_refined.hdf5')"
   ]
  },
  {
   "cell_type": "code",
   "execution_count": 28,
   "metadata": {},
   "outputs": [
    {
     "data": {
      "image/png": "[encoded data removed]",
      "text/plain": [
       "<Figure size 432x288 with 1 Axes>"
      ]
     },
     "metadata": {
      "needs_background": "light"
     },
     "output_type": "display_data"
    }
   ],
   "source": [
    "epochs = range(1, 16)\n",
    "plt.figure()\n",
    "plt.plot(epochs, history.history['loss'], 'r', label='Training loss')\n",
    "plt.plot(epochs, history.history['val_loss'], 'b--', label='Validation loss')\n",
    "plt.title('Training and validation loss')\n",
    "plt.legend()\n",
    "plt.show()"
   ]
  },
  {
   "cell_type": "code",
   "execution_count": 29,
   "metadata": {},
   "outputs": [
    {
     "data": {
      "image/png": "[encoded data removed]",
      "text/plain": [
       "<Figure size 432x288 with 1 Axes>"
      ]
     },
     "metadata": {
      "needs_background": "light"
     },
     "output_type": "display_data"
    }
   ],
   "source": [
    "plt.figure()\n",
    "plt.plot(epochs, history.history['accuracy'], 'r', label='Training accuracy')\n",
    "plt.plot(epochs, history.history['val_accuracy'], 'b--', label='Validation accuracy')\n",
    "plt.title('Training and validation accuracy')\n",
    "plt.legend()\n",
    "plt.show()"
   ]
  },
  {
   "cell_type": "code",
   "execution_count": 30,
   "metadata": {},
   "outputs": [
    {
     "name": "stdout",
     "output_type": "stream",
     "text": [
      "813/813 [==============================] - 1s 788us/step\n",
      "--------------------------------------------------\n",
      "Accuracy: 0.9803197979927063\n",
      "Precision: 0.9420289855072463\n",
      "Recall: 0.9420289855072463\n",
      "F1-Score: 0.9420289855072463\n",
      "Confusion Matrix:\n",
      "[[667   8]\n",
      " [  8 130]]\n"
     ]
    }
   ],
   "source": [
    "evaluate(model, x_test, y_test)"
   ]
  }
 ],
 "metadata": {
  "kernelspec": {
   "display_name": "TensorFlow-GPU-1.13",
   "language": "python",
   "name": "tf-gpu"
  },
  "language_info": {
   "codemirror_mode": {
    "name": "ipython",
    "version": 3
   },
   "file_extension": ".py",
   "mimetype": "text/x-python",
   "name": "python",
   "nbconvert_exporter": "python",
   "pygments_lexer": "ipython3",
   "version": "3.7.4"
  }
 },
 "nbformat": 4,
 "nbformat_minor": 2
}
